{
 "cells": [
  {
   "cell_type": "markdown",
   "metadata": {
    "id": "zYLglZE2QIEF"
   },
   "source": [
    "## Opinion Mining/ Selenium\n",
    "\n",
    "Постепенно подбираемся к теме Sentiment Analysis.\n",
    "\n",
    "Для начала будем считать, что у текста есть\n",
    "- полярность / polarity - является ли текст эмоционально окрашенным\n",
    "- тональность / sentiment - как текст оценивает некий объект по шкале -1...1 / 0...1 / 1...5 и тд\n",
    "\n",
    "Полезные источники данных:\n",
    "- сайты отзывов / сайты интернет-магазинов (товары) - Amazon ....\n",
    "- сайты с медиаконтентом - Youtube, Instagram ...\n",
    "- специализированные сайты - Кинопоиск, IMDB, ...\n",
    "\n",
    "Как скачивать оттуда данные?\n",
    "\n",
    "- requests + fake_useragent\n",
    "- Selenium \n",
    "  - возможность взаимодействия с элементами (кнопки, скролл и тп)\n",
    "  - обходит капчу, тк имитирует браузер\n"
   ]
  },
  {
   "cell_type": "markdown",
   "metadata": {
    "id": "l0rDcUxOPalR"
   },
   "source": [
    "Как запустить на своем компьютере:\n",
    "\n",
    "1. Для начала нужно скачать chromedriver (https://chromedriver.chromium.org/downloads) в рабочую папку: у вас появится архив с бинарным файлом внутри. Архив нужно будет распаковать, а путь к папке добавить в path. Можно пользоваться драйверами различных браузеров, здесь я оставляю ссылки на версию google chrome.\n",
    "2. В начале скрипта мы создаем какую-либо переменную, в которую помещаем наш браузер.\n",
    "Пр.: driver = webdriver.Chrome(<полный путь к бинарному файлу>)\n",
    "3. Открыть страницу можно с помощью функции get. \n",
    "Прокрутить страницу можно с помощью кода внизу.\n",
    "4. Находить различные элементы страницы можно с помощью ряда функций find_elements_by_<...> (см. документацию).\n",
    "Чтобы понять, как найти какой-либо элемент на странице, нужно в веб-инспекторе в браузере посмотреть путь элемента. В гугл-хроме это можно сделать, например, так: Посмотреть -> Разработчикам -> Проверить элементы -> Навести стрелкой на нужный элемент.\n",
    "5. Как только мы нашли нужный элемент, можно на него кликнуть функцией .click() или посмотреть текст функцией .text().\n",
    "6. В конце программы нужно  закрыть, если открывалли как сверху и, конечно, как -то сохранить ваши данные\n",
    "\n",
    "Подробнее: https://towardsdatascience.com/how-to-scrape-youtube-comments-with-python-61ff197115d4"
   ]
  },
  {
   "cell_type": "code",
   "execution_count": null,
   "metadata": {
    "colab": {
     "base_uri": "https://localhost:8080/"
    },
    "id": "sJ72KiPqMQyJ",
    "outputId": "b1e28178-bb5e-45a2-f86a-9eebf99d48bc"
   },
   "outputs": [],
   "source": [
    "!pip3 install selenium"
   ]
  },
  {
   "cell_type": "markdown",
   "metadata": {
    "id": "nKISQiFeT8GW"
   },
   "source": [
    "## Данные\n",
    "\n",
    "Возьмем противоречивое видео с ютьюба и попробуем проанализировать комментарии к нему\n",
    " https://www.youtube.com/watch?v=kuhhT_cBtFU&t=2s"
   ]
  },
  {
   "cell_type": "markdown",
   "metadata": {
    "colab": {
     "base_uri": "https://localhost:8080/",
     "height": 454
    },
    "id": "uB07GEs6Mmlc",
    "outputId": "a507724e-f125-48fd-a938-541c98fe677b"
   },
   "source": [
    "## Тетрадка для подготовки данных \n",
    "[в Colab](https://colab.research.google.com/drive/1IFyhNz3UCvIEgHjskLNIgD0UddvxCkPw?usp=sharing)"
   ]
  },
  {
   "cell_type": "code",
   "execution_count": null,
   "metadata": {},
   "outputs": [],
   "source": [
    "!pip install textblob stanza spacy"
   ]
  },
  {
   "cell_type": "code",
   "execution_count": null,
   "metadata": {},
   "outputs": [],
   "source": [
    "# Загружаем модель для SpaCy\n",
    "!python -m spacy download en_core_web_sm"
   ]
  },
  {
   "cell_type": "code",
   "execution_count": 97,
   "metadata": {
    "colab": {
     "base_uri": "https://localhost:8080/"
    },
    "id": "XWvURK7tyBcU",
    "outputId": "98a343a6-52ce-4bbb-a592-ecbc32b09082"
   },
   "outputs": [
    {
     "data": {
      "application/vnd.jupyter.widget-view+json": {
       "model_id": "4968cfe896534428b678cc652523132f",
       "version_major": 2,
       "version_minor": 0
      },
      "text/plain": [
       "Downloading https://raw.githubusercontent.com/stanfordnlp/stanza-resources/main/resources_1.3.0.json:   0%|   …"
      ]
     },
     "metadata": {},
     "output_type": "display_data"
    },
    {
     "name": "stderr",
     "output_type": "stream",
     "text": [
      "2021-11-25 16:58:46 INFO: Downloading default packages for language: en (English)...\n",
      "2021-11-25 16:58:47 INFO: File exists: /Users/rhubarb/stanza_resources/en/default.zip.\n",
      "2021-11-25 16:58:51 INFO: Finished downloading models and saved to /Users/rhubarb/stanza_resources.\n",
      "2021-11-25 16:58:51 INFO: Loading these models for language: en (English):\n",
      "========================\n",
      "| Processor | Package  |\n",
      "------------------------\n",
      "| tokenize  | combined |\n",
      "| pos       | combined |\n",
      "| lemma     | combined |\n",
      "| sentiment | sstplus  |\n",
      "========================\n",
      "\n",
      "2021-11-25 16:58:51 INFO: Use device: cpu\n",
      "2021-11-25 16:58:51 INFO: Loading: tokenize\n",
      "2021-11-25 16:58:51 INFO: Loading: pos\n",
      "2021-11-25 16:58:52 INFO: Loading: lemma\n",
      "2021-11-25 16:58:52 INFO: Loading: sentiment\n",
      "2021-11-25 16:58:52 INFO: Done loading processors!\n",
      "[nltk_data] Downloading package stopwords to\n",
      "[nltk_data]     /Users/rhubarb/nltk_data...\n",
      "[nltk_data]   Package stopwords is already up-to-date!\n",
      "[nltk_data] Downloading package punkt to /Users/rhubarb/nltk_data...\n",
      "[nltk_data]   Package punkt is already up-to-date!\n"
     ]
    }
   ],
   "source": [
    "import pandas as pd\n",
    "import re, string\n",
    "import nltk\n",
    "from nltk.corpus import stopwords\n",
    "import numpy as np\n",
    "import stanza\n",
    "import spacy\n",
    "from textblob import TextBlob\n",
    "\n",
    "spacy_nlp = spacy.load('en_core_web_sm')\n",
    "\n",
    "stanza.download(\"en\")\n",
    "stanza_nlp = stanza.Pipeline(\"en\", processors=\"tokenize,lemma,pos,sentiment\")\n",
    "\n",
    "nltk.download('stopwords')\n",
    "nltk.download('punkt')\n",
    "sw = stopwords.words('english')\n",
    "\n",
    "# Очистка текстов\n",
    "def clean_text(text):\n",
    "    text = text.lower()\n",
    "    text = re.sub('@', '', text)\n",
    "    text = re.sub('\\[.*?\\]', ' ', text)\n",
    "    text = re.sub('https?://\\S+|www\\.\\S+', '', text)\n",
    "    text = re.sub('<.*?>+', ' ', text)\n",
    "    text = re.sub('[%s]' % re.escape(string.punctuation), '', text)\n",
    "    text = re.sub('\\n', '', text)\n",
    "    text = re.sub('\\w*\\d\\w*', '', text)\n",
    "    text = re.sub(r\"[^a-zA-Z ]+\", \"\", text)\n",
    "    return text"
   ]
  },
  {
   "cell_type": "code",
   "execution_count": 98,
   "metadata": {
    "id": "_vU-C_-QxlQ5"
   },
   "outputs": [],
   "source": [
    "def lemmatize(text):  # spacy\n",
    "    doc = spacy_nlp(text)\n",
    "    return [token.lemma_ for token in doc]\n",
    "\n",
    "def lemmatize_stanza(text):  #stanza\n",
    "    doc = stanza_nlp(text)\n",
    "    return [word.lemma for sent in doc.sentences for word in sent.words]"
   ]
  },
  {
   "cell_type": "code",
   "execution_count": 99,
   "metadata": {
    "id": "jSIlCQMoxKWu"
   },
   "outputs": [],
   "source": [
    "def remove_stopwords(tokens):\n",
    "    return [t for t in tokens if t not in sw]"
   ]
  },
  {
   "cell_type": "code",
   "execution_count": 100,
   "metadata": {},
   "outputs": [],
   "source": [
    "def pipelinize(texts):\n",
    "    return spacy_nlp.pipe(texts, disable=[\"parser\", \"ner\"])"
   ]
  },
  {
   "cell_type": "code",
   "execution_count": 101,
   "metadata": {},
   "outputs": [],
   "source": [
    "pd.set_option('display.max_colwidth', 1000)"
   ]
  },
  {
   "cell_type": "code",
   "execution_count": 102,
   "metadata": {
    "id": "7B1A9VMTxvL7"
   },
   "outputs": [],
   "source": [
    "a = pd.read_csv('youtube_comments.txt', sep='\\t')"
   ]
  },
  {
   "cell_type": "code",
   "execution_count": 103,
   "metadata": {},
   "outputs": [
    {
     "data": {
      "text/plain": [
       "440677"
      ]
     },
     "execution_count": 103,
     "metadata": {},
     "output_type": "execute_result"
    }
   ],
   "source": [
    "len(a)"
   ]
  },
  {
   "cell_type": "code",
   "execution_count": 104,
   "metadata": {
    "id": "wJlTPzyszxQG"
   },
   "outputs": [],
   "source": [
    "a['clean_text'] = a['text'].apply(lambda x: clean_text(x))"
   ]
  },
  {
   "cell_type": "code",
   "execution_count": 105,
   "metadata": {
    "colab": {
     "base_uri": "https://localhost:8080/",
     "height": 402
    },
    "id": "Z56n9sXexo1C",
    "outputId": "7781e0e3-c19e-44fa-d851-eba15fcadd3b"
   },
   "outputs": [
    {
     "data": {
      "text/html": [
       "<div>\n",
       "<style scoped>\n",
       "    .dataframe tbody tr th:only-of-type {\n",
       "        vertical-align: middle;\n",
       "    }\n",
       "\n",
       "    .dataframe tbody tr th {\n",
       "        vertical-align: top;\n",
       "    }\n",
       "\n",
       "    .dataframe thead th {\n",
       "        text-align: right;\n",
       "    }\n",
       "</style>\n",
       "<table border=\"1\" class=\"dataframe\">\n",
       "  <thead>\n",
       "    <tr style=\"text-align: right;\">\n",
       "      <th></th>\n",
       "      <th>text</th>\n",
       "      <th>clean_text</th>\n",
       "    </tr>\n",
       "  </thead>\n",
       "  <tbody>\n",
       "    <tr>\n",
       "      <th>149329</th>\n",
       "      <td>1 year ago</td>\n",
       "      <td>year ago</td>\n",
       "    </tr>\n",
       "    <tr>\n",
       "      <th>189890</th>\n",
       "      <td>Imagine if the cop just said we will have to give you a ride home you can’t operate your vehicle for the night. But not in this day and age where all of this at the end was about money not justice but money. America is not a country it’s a business.</td>\n",
       "      <td>imagine if the cop just said we will have to give you a ride home you cant operate your vehicle for the night but not in this day and age where all of this at the end was about money not justice but money america is not a country its a business</td>\n",
       "    </tr>\n",
       "    <tr>\n",
       "      <th>274964</th>\n",
       "      <td>2 Wrongs Dont Make A Right.</td>\n",
       "      <td>wrongs dont make a right</td>\n",
       "    </tr>\n",
       "    <tr>\n",
       "      <th>80653</th>\n",
       "      <td>Cathi Knows</td>\n",
       "      <td>cathi knows</td>\n",
       "    </tr>\n",
       "    <tr>\n",
       "      <th>274189</th>\n",
       "      <td>REPLY</td>\n",
       "      <td>reply</td>\n",
       "    </tr>\n",
       "    <tr>\n",
       "      <th>...</th>\n",
       "      <td>...</td>\n",
       "      <td>...</td>\n",
       "    </tr>\n",
       "    <tr>\n",
       "      <th>183068</th>\n",
       "      <td>How can you try fight cops, steal their weapon and be susprised that they shot you lol</td>\n",
       "      <td>how can you try fight cops steal their weapon and be susprised that they shot you lol</td>\n",
       "    </tr>\n",
       "    <tr>\n",
       "      <th>323758</th>\n",
       "      <td>We need to train officers proper  CQC and some Jiu-Jitsu just to hold a person down. From there detain the person, place them in the car.</td>\n",
       "      <td>we need to train officers proper  cqc and some jiujitsu just to hold a person down from there detain the person place them in the car</td>\n",
       "    </tr>\n",
       "    <tr>\n",
       "      <th>281679</th>\n",
       "      <td>He fought with officers and tried to steal their taser then ran off?</td>\n",
       "      <td>he fought with officers and tried to steal their taser then ran off</td>\n",
       "    </tr>\n",
       "    <tr>\n",
       "      <th>155732</th>\n",
       "      <td>Here we go again! Keep on fanning the flames CNN.</td>\n",
       "      <td>here we go again keep on fanning the flames cnn</td>\n",
       "    </tr>\n",
       "    <tr>\n",
       "      <th>347821</th>\n",
       "      <td>PEOPLE DONT TRUST MEDIA SMFH 🤦‍♂️</td>\n",
       "      <td>people dont trust media smfh</td>\n",
       "    </tr>\n",
       "  </tbody>\n",
       "</table>\n",
       "<p>4407 rows × 2 columns</p>\n",
       "</div>"
      ],
      "text/plain": [
       "                                                                                                                                                                                                                                                             text  \\\n",
       "149329                                                                                                                                                                                                                                                 1 year ago   \n",
       "189890  Imagine if the cop just said we will have to give you a ride home you can’t operate your vehicle for the night. But not in this day and age where all of this at the end was about money not justice but money. America is not a country it’s a business.   \n",
       "274964                                                                                                                                                                                                                                2 Wrongs Dont Make A Right.   \n",
       "80653                                                                                                                                                                                                                                                 Cathi Knows   \n",
       "274189                                                                                                                                                                                                                                                      REPLY   \n",
       "...                                                                                                                                                                                                                                                           ...   \n",
       "183068                                                                                                                                                                     How can you try fight cops, steal their weapon and be susprised that they shot you lol   \n",
       "323758                                                                                                                 We need to train officers proper  CQC and some Jiu-Jitsu just to hold a person down. From there detain the person, place them in the car.    \n",
       "281679                                                                                                                                                                                       He fought with officers and tried to steal their taser then ran off?   \n",
       "155732                                                                                                                                                                                                          Here we go again! Keep on fanning the flames CNN.   \n",
       "347821                                                                                                                                                                                                                          PEOPLE DONT TRUST MEDIA SMFH 🤦‍♂️   \n",
       "\n",
       "                                                                                                                                                                                                                                                  clean_text  \n",
       "149329                                                                                                                                                                                                                                              year ago  \n",
       "189890  imagine if the cop just said we will have to give you a ride home you cant operate your vehicle for the night but not in this day and age where all of this at the end was about money not justice but money america is not a country its a business  \n",
       "274964                                                                                                                                                                                                                              wrongs dont make a right  \n",
       "80653                                                                                                                                                                                                                                            cathi knows  \n",
       "274189                                                                                                                                                                                                                                                 reply  \n",
       "...                                                                                                                                                                                                                                                      ...  \n",
       "183068                                                                                                                                                                 how can you try fight cops steal their weapon and be susprised that they shot you lol  \n",
       "323758                                                                                                                we need to train officers proper  cqc and some jiujitsu just to hold a person down from there detain the person place them in the car   \n",
       "281679                                                                                                                                                                                   he fought with officers and tried to steal their taser then ran off  \n",
       "155732                                                                                                                                                                                                       here we go again keep on fanning the flames cnn  \n",
       "347821                                                                                                                                                                                                                         people dont trust media smfh   \n",
       "\n",
       "[4407 rows x 2 columns]"
      ]
     },
     "execution_count": 105,
     "metadata": {},
     "output_type": "execute_result"
    }
   ],
   "source": [
    "a.sample(frac=0.01)"
   ]
  },
  {
   "cell_type": "code",
   "execution_count": 106,
   "metadata": {},
   "outputs": [],
   "source": [
    "sample_texts = a.sample(frac=0.1)"
   ]
  },
  {
   "cell_type": "code",
   "execution_count": 107,
   "metadata": {},
   "outputs": [
    {
     "data": {
      "text/plain": [
       "44068"
      ]
     },
     "execution_count": 107,
     "metadata": {},
     "output_type": "execute_result"
    }
   ],
   "source": [
    "len(sample_texts)"
   ]
  },
  {
   "cell_type": "code",
   "execution_count": 108,
   "metadata": {},
   "outputs": [],
   "source": [
    "lemmas_comments = []\n",
    "for doc in pipelinize(sample_texts['clean_text'].to_list()):\n",
    "    lemmas_comments.append([token.lemma_ for token in doc])\n",
    "sample_texts['lem'] = lemmas_comments"
   ]
  },
  {
   "cell_type": "code",
   "execution_count": 109,
   "metadata": {
    "colab": {
     "base_uri": "https://localhost:8080/"
    },
    "id": "ECgzv6_80klm",
    "outputId": "704ebc68-c7df-4a18-c74c-51f4575211fa"
   },
   "outputs": [],
   "source": [
    "sample_texts['best'] = sample_texts['lem'].apply(lambda x: remove_stopwords(x))"
   ]
  },
  {
   "cell_type": "code",
   "execution_count": 110,
   "metadata": {
    "colab": {
     "base_uri": "https://localhost:8080/",
     "height": 402
    },
    "id": "s3APqrQG1r6N",
    "outputId": "97c0518a-02c3-4261-e894-c4a0b2de47c4"
   },
   "outputs": [
    {
     "data": {
      "text/html": [
       "<div>\n",
       "<style scoped>\n",
       "    .dataframe tbody tr th:only-of-type {\n",
       "        vertical-align: middle;\n",
       "    }\n",
       "\n",
       "    .dataframe tbody tr th {\n",
       "        vertical-align: top;\n",
       "    }\n",
       "\n",
       "    .dataframe thead th {\n",
       "        text-align: right;\n",
       "    }\n",
       "</style>\n",
       "<table border=\"1\" class=\"dataframe\">\n",
       "  <thead>\n",
       "    <tr style=\"text-align: right;\">\n",
       "      <th></th>\n",
       "      <th>text</th>\n",
       "      <th>clean_text</th>\n",
       "      <th>lem</th>\n",
       "      <th>best</th>\n",
       "    </tr>\n",
       "  </thead>\n",
       "  <tbody>\n",
       "    <tr>\n",
       "      <th>60156</th>\n",
       "      <td>294</td>\n",
       "      <td></td>\n",
       "      <td>[]</td>\n",
       "      <td>[]</td>\n",
       "    </tr>\n",
       "    <tr>\n",
       "      <th>46063</th>\n",
       "      <td>APD SHOOTING EXPLAINED\\nBefore reading below, remember that officers are afforded the same constitutional rights as citizens, so whether they’re charged for political reasons or not, the facts of the case remain the same until their day in court:\\nRead more\\n3\\nREPLY\\nChristopher Hess\\n1 year ago\\nProportionality requires that any measure that interferes with fundamental rights has a legitimate public purpose and is also appropriate, necessary and proportionate in the narrower sense (appropriate\"). A measure that does not meet these requirements is illegal. (german legal principle)</td>\n",
       "      <td>apd shooting explainedbefore reading below remember that officers are afforded the same constitutional rights as citizens so whether theyre charged for political reasons or not the facts of the case remain the same until their day in courtread   year agoproportionality requires that any measure that interferes with fundamental rights has a legitimate public purpose and is also appropriate necessary and proportionate in the narrower sense appropriate a measure that does not meet these requirements is illegal german legal principle</td>\n",
       "      <td>[apd, shoot, explainedbefore, read, below, remember, that, officer, be, afford, the, same, constitutional, right, as, citizen, so, whether, they, re, charge, for, political, reason, or, not, the, fact, of, the, case, remain, the, same, until, their, day, in, courtread,   , year, agoproportionality, require, that, any, measure, that, interfere, with, fundamental, right, have, a, legitimate, public, purpose, and, be, also, appropriate, necessary, and, proportionate, in, the, narrow, sense, appropriate, a, measure, that, do, not, meet, these, requirement, be, illegal, german, legal, principle]</td>\n",
       "      <td>[apd, shoot, explainedbefore, read, remember, officer, afford, constitutional, right, citizen, whether, charge, political, reason, fact, case, remain, day, courtread,   , year, agoproportionality, require, measure, interfere, fundamental, right, legitimate, public, purpose, also, appropriate, necessary, proportionate, narrow, sense, appropriate, measure, meet, requirement, illegal, german, legal, principle]</td>\n",
       "    </tr>\n",
       "    <tr>\n",
       "      <th>354064</th>\n",
       "      <td>Don’t edit</td>\n",
       "      <td>dont edit</td>\n",
       "      <td>[do, nt, edit]</td>\n",
       "      <td>[nt, edit]</td>\n",
       "    </tr>\n",
       "    <tr>\n",
       "      <th>188049</th>\n",
       "      <td>1 year ago</td>\n",
       "      <td>year ago</td>\n",
       "      <td>[ , year, ago]</td>\n",
       "      <td>[ , year, ago]</td>\n",
       "    </tr>\n",
       "    <tr>\n",
       "      <th>326607</th>\n",
       "      <td>REPLY</td>\n",
       "      <td>reply</td>\n",
       "      <td>[reply]</td>\n",
       "      <td>[reply]</td>\n",
       "    </tr>\n",
       "    <tr>\n",
       "      <th>...</th>\n",
       "      <td>...</td>\n",
       "      <td>...</td>\n",
       "      <td>...</td>\n",
       "      <td>...</td>\n",
       "    </tr>\n",
       "    <tr>\n",
       "      <th>271720</th>\n",
       "      <td>1 year ago</td>\n",
       "      <td>year ago</td>\n",
       "      <td>[ , year, ago]</td>\n",
       "      <td>[ , year, ago]</td>\n",
       "    </tr>\n",
       "    <tr>\n",
       "      <th>339888</th>\n",
       "      <td>Do you know how you don't get shot in a wendy's parking lot when you're passed out drunk? Don't fight with the cops, then taze them.</td>\n",
       "      <td>do you know how you dont get shot in a wendys parking lot when youre passed out drunk dont fight with the cops then taze them</td>\n",
       "      <td>[do, you, know, how, you, do, nt, get, shoot, in, a, wendys, parking, lot, when, you, re, pass, out, drunk, do, nt, fight, with, the, cop, then, taze, they]</td>\n",
       "      <td>[know, nt, get, shoot, wendys, parking, lot, pass, drunk, nt, fight, cop, taze]</td>\n",
       "    </tr>\n",
       "    <tr>\n",
       "      <th>252097</th>\n",
       "      <td>REPLY</td>\n",
       "      <td>reply</td>\n",
       "      <td>[reply]</td>\n",
       "      <td>[reply]</td>\n",
       "    </tr>\n",
       "    <tr>\n",
       "      <th>31549</th>\n",
       "      <td>Humble Beauty</td>\n",
       "      <td>humble beauty</td>\n",
       "      <td>[humble, beauty]</td>\n",
       "      <td>[humble, beauty]</td>\n",
       "    </tr>\n",
       "    <tr>\n",
       "      <th>197509</th>\n",
       "      <td>You sleep</td>\n",
       "      <td>you sleep</td>\n",
       "      <td>[you, sleep]</td>\n",
       "      <td>[sleep]</td>\n",
       "    </tr>\n",
       "  </tbody>\n",
       "</table>\n",
       "<p>441 rows × 4 columns</p>\n",
       "</div>"
      ],
      "text/plain": [
       "                                                                                                                                                                                                                                                                                                                                                                                                                                                                                                                                                                                                                text  \\\n",
       "60156                                                                                                                                                                                                                                                                                                                                                                                                                                                                                                                                                                                                            294   \n",
       "46063   APD SHOOTING EXPLAINED\\nBefore reading below, remember that officers are afforded the same constitutional rights as citizens, so whether they’re charged for political reasons or not, the facts of the case remain the same until their day in court:\\nRead more\\n3\\nREPLY\\nChristopher Hess\\n1 year ago\\nProportionality requires that any measure that interferes with fundamental rights has a legitimate public purpose and is also appropriate, necessary and proportionate in the narrower sense (appropriate\"). A measure that does not meet these requirements is illegal. (german legal principle)   \n",
       "354064                                                                                                                                                                                                                                                                                                                                                                                                                                                                                                                                                                                                    Don’t edit   \n",
       "188049                                                                                                                                                                                                                                                                                                                                                                                                                                                                                                                                                                                                    1 year ago   \n",
       "326607                                                                                                                                                                                                                                                                                                                                                                                                                                                                                                                                                                                                         REPLY   \n",
       "...                                                                                                                                                                                                                                                                                                                                                                                                                                                                                                                                                                                                              ...   \n",
       "271720                                                                                                                                                                                                                                                                                                                                                                                                                                                                                                                                                                                                    1 year ago   \n",
       "339888                                                                                                                                                                                                                                                                                                                                                                                                                                                                          Do you know how you don't get shot in a wendy's parking lot when you're passed out drunk? Don't fight with the cops, then taze them.   \n",
       "252097                                                                                                                                                                                                                                                                                                                                                                                                                                                                                                                                                                                                         REPLY   \n",
       "31549                                                                                                                                                                                                                                                                                                                                                                                                                                                                                                                                                                                                  Humble Beauty   \n",
       "197509                                                                                                                                                                                                                                                                                                                                                                                                                                                                                                                                                                                                     You sleep   \n",
       "\n",
       "                                                                                                                                                                                                                                                                                                                                                                                                                                                                                                                                                     clean_text  \\\n",
       "60156                                                                                                                                                                                                                                                                                                                                                                                                                                                                                                                                                             \n",
       "46063   apd shooting explainedbefore reading below remember that officers are afforded the same constitutional rights as citizens so whether theyre charged for political reasons or not the facts of the case remain the same until their day in courtread   year agoproportionality requires that any measure that interferes with fundamental rights has a legitimate public purpose and is also appropriate necessary and proportionate in the narrower sense appropriate a measure that does not meet these requirements is illegal german legal principle   \n",
       "354064                                                                                                                                                                                                                                                                                                                                                                                                                                                                                                                                                dont edit   \n",
       "188049                                                                                                                                                                                                                                                                                                                                                                                                                                                                                                                                                 year ago   \n",
       "326607                                                                                                                                                                                                                                                                                                                                                                                                                                                                                                                                                    reply   \n",
       "...                                                                                                                                                                                                                                                                                                                                                                                                                                                                                                                                                         ...   \n",
       "271720                                                                                                                                                                                                                                                                                                                                                                                                                                                                                                                                                 year ago   \n",
       "339888                                                                                                                                                                                                                                                                                                                                                                                                                            do you know how you dont get shot in a wendys parking lot when youre passed out drunk dont fight with the cops then taze them   \n",
       "252097                                                                                                                                                                                                                                                                                                                                                                                                                                                                                                                                                    reply   \n",
       "31549                                                                                                                                                                                                                                                                                                                                                                                                                                                                                                                                             humble beauty   \n",
       "197509                                                                                                                                                                                                                                                                                                                                                                                                                                                                                                                                                you sleep   \n",
       "\n",
       "                                                                                                                                                                                                                                                                                                                                                                                                                                                                                                                                                                                                                          lem  \\\n",
       "60156                                                                                                                                                                                                                                                                                                                                                                                                                                                                                                                                                                                                                      []   \n",
       "46063   [apd, shoot, explainedbefore, read, below, remember, that, officer, be, afford, the, same, constitutional, right, as, citizen, so, whether, they, re, charge, for, political, reason, or, not, the, fact, of, the, case, remain, the, same, until, their, day, in, courtread,   , year, agoproportionality, require, that, any, measure, that, interfere, with, fundamental, right, have, a, legitimate, public, purpose, and, be, also, appropriate, necessary, and, proportionate, in, the, narrow, sense, appropriate, a, measure, that, do, not, meet, these, requirement, be, illegal, german, legal, principle]   \n",
       "354064                                                                                                                                                                                                                                                                                                                                                                                                                                                                                                                                                                                                         [do, nt, edit]   \n",
       "188049                                                                                                                                                                                                                                                                                                                                                                                                                                                                                                                                                                                                         [ , year, ago]   \n",
       "326607                                                                                                                                                                                                                                                                                                                                                                                                                                                                                                                                                                                                                [reply]   \n",
       "...                                                                                                                                                                                                                                                                                                                                                                                                                                                                                                                                                                                                                       ...   \n",
       "271720                                                                                                                                                                                                                                                                                                                                                                                                                                                                                                                                                                                                         [ , year, ago]   \n",
       "339888                                                                                                                                                                                                                                                                                                                                                                                                                                                           [do, you, know, how, you, do, nt, get, shoot, in, a, wendys, parking, lot, when, you, re, pass, out, drunk, do, nt, fight, with, the, cop, then, taze, they]   \n",
       "252097                                                                                                                                                                                                                                                                                                                                                                                                                                                                                                                                                                                                                [reply]   \n",
       "31549                                                                                                                                                                                                                                                                                                                                                                                                                                                                                                                                                                                                        [humble, beauty]   \n",
       "197509                                                                                                                                                                                                                                                                                                                                                                                                                                                                                                                                                                                                           [you, sleep]   \n",
       "\n",
       "                                                                                                                                                                                                                                                                                                                                                                                                                              best  \n",
       "60156                                                                                                                                                                                                                                                                                                                                                                                                                           []  \n",
       "46063   [apd, shoot, explainedbefore, read, remember, officer, afford, constitutional, right, citizen, whether, charge, political, reason, fact, case, remain, day, courtread,   , year, agoproportionality, require, measure, interfere, fundamental, right, legitimate, public, purpose, also, appropriate, necessary, proportionate, narrow, sense, appropriate, measure, meet, requirement, illegal, german, legal, principle]  \n",
       "354064                                                                                                                                                                                                                                                                                                                                                                                                                  [nt, edit]  \n",
       "188049                                                                                                                                                                                                                                                                                                                                                                                                              [ , year, ago]  \n",
       "326607                                                                                                                                                                                                                                                                                                                                                                                                                     [reply]  \n",
       "...                                                                                                                                                                                                                                                                                                                                                                                                                            ...  \n",
       "271720                                                                                                                                                                                                                                                                                                                                                                                                              [ , year, ago]  \n",
       "339888                                                                                                                                                                                                                                                                                                                                             [know, nt, get, shoot, wendys, parking, lot, pass, drunk, nt, fight, cop, taze]  \n",
       "252097                                                                                                                                                                                                                                                                                                                                                                                                                     [reply]  \n",
       "31549                                                                                                                                                                                                                                                                                                                                                                                                             [humble, beauty]  \n",
       "197509                                                                                                                                                                                                                                                                                                                                                                                                                     [sleep]  \n",
       "\n",
       "[441 rows x 4 columns]"
      ]
     },
     "execution_count": 110,
     "metadata": {},
     "output_type": "execute_result"
    }
   ],
   "source": [
    "sample_texts.sample(frac=0.01)"
   ]
  },
  {
   "cell_type": "markdown",
   "metadata": {
    "id": "UgZua0qdIS5M"
   },
   "source": [
    "## Предварительный статистический анализ\n",
    "\n",
    "Как предварительно проанализировать данные, чтобы понимать, куда копать?"
   ]
  },
  {
   "cell_type": "markdown",
   "metadata": {},
   "source": [
    "### Посмотрим на распределение частот лемм\n",
    "\n",
    "1. Составить список всех лемм\n",
    "2. Составить частотный словарь `nltk.FreqDist`"
   ]
  },
  {
   "cell_type": "code",
   "execution_count": 119,
   "metadata": {
    "colab": {
     "base_uri": "https://localhost:8080/",
     "height": 324
    },
    "id": "H_v_UAW9ISFp",
    "outputId": "11aebb94-784b-46c6-db09-3643340a6a57"
   },
   "outputs": [],
   "source": [
    "#Your code here - freq\n",
    "lemmas = []\n",
    "for comment in sample_texts['best'].to_list():\n",
    "    for l in comment:\n",
    "        if not l.strip():\n",
    "            continue\n",
    "        lemmas.append(l)\n",
    "freqs = nltk.FreqDist(lemmas)"
   ]
  },
  {
   "cell_type": "code",
   "execution_count": 120,
   "metadata": {},
   "outputs": [],
   "source": [
    "?freqs"
   ]
  },
  {
   "cell_type": "code",
   "execution_count": 132,
   "metadata": {},
   "outputs": [
    {
     "data": {
      "image/png": "[encoded data removed]",
      "text/plain": [
       "<Figure size 432x288 with 1 Axes>"
      ]
     },
     "metadata": {
      "needs_background": "light"
     },
     "output_type": "display_data"
    },
    {
     "data": {
      "text/plain": [
       "<AxesSubplot:xlabel='Samples', ylabel='Counts'>"
      ]
     },
     "execution_count": 132,
     "metadata": {},
     "output_type": "execute_result"
    }
   ],
   "source": [
    "freqs.plot(40)"
   ]
  },
  {
   "cell_type": "code",
   "execution_count": 133,
   "metadata": {},
   "outputs": [
    {
     "data": {
      "text/plain": [
       "[('reply', 9411),\n",
       " ('year', 7753),\n",
       " ('ago', 7578),\n",
       " ('I', 6693),\n",
       " ('nt', 6202),\n",
       " ('cop', 6161),\n",
       " ('officer', 5047),\n",
       " ('police', 4653),\n",
       " ('shoot', 4532),\n",
       " ('taser', 4472),\n",
       " ('get', 3608),\n",
       " ('run', 3388),\n",
       " ('take', 2452),\n",
       " ('guy', 2319),\n",
       " ('view', 2235),\n",
       " ('arrest', 2204),\n",
       " ('would', 2157),\n",
       " ('go', 2149),\n",
       " ('weapon', 2065),\n",
       " ('man', 2011),\n",
       " ('could', 1879),\n",
       " ('away', 1874),\n",
       " ('use', 1864),\n",
       " ('video', 1845),\n",
       " ('resist', 1825),\n",
       " ('kill', 1735),\n",
       " ('show', 1711),\n",
       " ('gun', 1562),\n",
       " ('try', 1540),\n",
       " ('like', 1529),\n",
       " ('life', 1501),\n",
       " ('drunk', 1482),\n",
       " ('people', 1446),\n",
       " ('fire', 1434),\n",
       " ('car', 1426),\n",
       " ('need', 1425),\n",
       " ('make', 1400),\n",
       " ('know', 1361),\n",
       " ('see', 1346),\n",
       " ('one', 1341),\n",
       " ('think', 1257),\n",
       " ('back', 1184),\n",
       " ('let', 1177),\n",
       " ('drive', 1136),\n",
       " ('point', 1133),\n",
       " ('fight', 1116),\n",
       " ('say', 1048),\n",
       " ('time', 1028),\n",
       " ('force', 981),\n",
       " ('cnn', 979)]"
      ]
     },
     "execution_count": 133,
     "metadata": {},
     "output_type": "execute_result"
    }
   ],
   "source": [
    "freqs.most_common(50)"
   ]
  },
  {
   "cell_type": "markdown",
   "metadata": {},
   "source": [
    "### Посмотрим на частоты биграмм и триграмм:\n",
    "- `nltk.bigrams`"
   ]
  },
  {
   "cell_type": "code",
   "execution_count": 125,
   "metadata": {
    "id": "5Rmi6g-iIvBS"
   },
   "outputs": [],
   "source": [
    "bigrams = []\n",
    "for comment in sample_texts['best'].to_list():\n",
    "    for b in nltk.bigrams(comment):\n",
    "        bigrams.append(b)"
   ]
  },
  {
   "cell_type": "code",
   "execution_count": 128,
   "metadata": {},
   "outputs": [],
   "source": [
    "b_freq = nltk.FreqDist(bigrams)"
   ]
  },
  {
   "cell_type": "code",
   "execution_count": 130,
   "metadata": {},
   "outputs": [
    {
     "data": {
      "image/png": "[encoded data removed]",
      "text/plain": [
       "<Figure size 432x288 with 1 Axes>"
      ]
     },
     "metadata": {
      "needs_background": "light"
     },
     "output_type": "display_data"
    },
    {
     "data": {
      "text/plain": [
       "<AxesSubplot:xlabel='Samples', ylabel='Counts'>"
      ]
     },
     "execution_count": 130,
     "metadata": {},
     "output_type": "execute_result"
    }
   ],
   "source": [
    "b_freq.plot(40)"
   ]
  },
  {
   "cell_type": "code",
   "execution_count": 134,
   "metadata": {},
   "outputs": [
    {
     "data": {
      "text/plain": [
       "[((' ', 'year'), 7670),\n",
       " (('year', 'ago'), 7404),\n",
       " (('run', 'away'), 1348),\n",
       " (('view', ' '), 1309),\n",
       " ((' ', 'reply'), 1309),\n",
       " (('resist', 'arrest'), 1171),\n",
       " (('police', 'officer'), 885),\n",
       " (('view', 'reply'), 702),\n",
       " (('ca', 'nt'), 669),\n",
       " (('I', 'nt'), 615),\n",
       " (('take', 'taser'), 503),\n",
       " (('get', 'shoot'), 460),\n",
       " (('deadly', 'force'), 448),\n",
       " (('ago', 'edit'), 409),\n",
       " (('fire', 'taser'), 346),\n",
       " (('steal', 'taser'), 344),\n",
       " (('cop', 'taser'), 337),\n",
       " (('get', 'away'), 313),\n",
       " (('use', 'deadly'), 302),\n",
       " (('officer', 'taser'), 298),\n",
       " ((' ', 'I'), 297),\n",
       " (('I', 'see'), 296),\n",
       " (('I', 'would'), 286),\n",
       " (('I', 'think'), 282),\n",
       " (('gon', 'na'), 282),\n",
       " (('shoot', 'back'), 280),\n",
       " (('taser', 'shoot'), 267),\n",
       " (('shoot', 'taser'), 266),\n",
       " (('nt', 'know'), 257),\n",
       " (('taser', 'officer'), 248),\n",
       " (('fight', 'cop'), 245),\n",
       " (('deadly', 'weapon'), 241),\n",
       " (('shoot', 'kill'), 239),\n",
       " ((' ', 'cop'), 236),\n",
       " (('police', ' '), 231),\n",
       " (('let', 'run'), 224),\n",
       " (('try', 'run'), 218),\n",
       " (('would', 'nt'), 214),\n",
       " (('nt', 'get'), 214),\n",
       " (('fight', 'police'), 213),\n",
       " (('let', 'go'), 211),\n",
       " (('full', 'video'), 211),\n",
       " (('taser', 'cop'), 210),\n",
       " (('black', 'man'), 209),\n",
       " (('nt', 'even'), 206),\n",
       " ((' ', 'nt'), 206),\n",
       " (('shoot', 'cop'), 206),\n",
       " (('nt', 'resist'), 202),\n",
       " (('george', 'floyd'), 201),\n",
       " (('nt', 'think'), 200)]"
      ]
     },
     "execution_count": 134,
     "metadata": {},
     "output_type": "execute_result"
    }
   ],
   "source": [
    "b_freq.most_common(50)"
   ]
  },
  {
   "cell_type": "code",
   "execution_count": null,
   "metadata": {
    "id": "KsfscXzPIwdT"
   },
   "outputs": [],
   "source": [
    "#trigram freq"
   ]
  },
  {
   "cell_type": "markdown",
   "metadata": {},
   "source": [
    "### А если убрать слишком короткие комментарии?"
   ]
  },
  {
   "cell_type": "code",
   "execution_count": null,
   "metadata": {},
   "outputs": [],
   "source": []
  },
  {
   "cell_type": "markdown",
   "metadata": {
    "id": "YTjBrZqqJ3tq"
   },
   "source": [
    "## TextBlob\n",
    "\n",
    "Простая библиотека, которая совмещает статистические методы и regexp-паттерны.\n",
    "\n",
    "The sentiment property returns a namedtuple of the form `Sentiment(polarity, subjectivity)`. \n",
    "\n",
    "The polarity score is a float within the range [-1.0, 1.0]. \n",
    "\n",
    "The subjectivity is a float within the range [0.0, 1.0] where 0.0 is very objective and 1.0 is very subjective."
   ]
  },
  {
   "cell_type": "code",
   "execution_count": 135,
   "metadata": {
    "colab": {
     "base_uri": "https://localhost:8080/"
    },
    "id": "4geiVQkzJL7I",
    "outputId": "0f9ab7f6-d967-4cc0-89e4-313dd9f3f248"
   },
   "outputs": [
    {
     "data": {
      "text/plain": [
       "Sentiment(polarity=0.10909090909090909, subjectivity=0.3287878787878788)"
      ]
     },
     "execution_count": 135,
     "metadata": {},
     "output_type": "execute_result"
    }
   ],
   "source": [
    "blob = TextBlob(sample_texts['text'][46063])\n",
    "blob.sentiment"
   ]
  },
  {
   "cell_type": "code",
   "execution_count": 136,
   "metadata": {},
   "outputs": [
    {
     "data": {
      "text/plain": [
       "Sentiment(polarity=0.10909090909090909, subjectivity=0.3287878787878788, assessments=[(['same'], 0.0, 0.125, None), (['political'], 0.0, 0.1, None), (['same'], 0.0, 0.125, None), (['more'], 0.5, 0.5, None), (['public'], 0.0, 0.06666666666666667, None), (['appropriate'], 0.5, 0.5, None), (['necessary'], 0.0, 1.0, None), (['appropriate'], 0.5, 0.5, None), (['illegal'], -0.5, 0.5, None), (['german'], 0.0, 0.0, None), (['legal'], 0.2, 0.2, None)])"
      ]
     },
     "execution_count": 136,
     "metadata": {},
     "output_type": "execute_result"
    }
   ],
   "source": [
    "blob.sentiment_assessments"
   ]
  },
  {
   "cell_type": "code",
   "execution_count": 137,
   "metadata": {
    "colab": {
     "base_uri": "https://localhost:8080/",
     "height": 298
    },
    "id": "hQvogslrJ1Ua",
    "outputId": "cfec4ec9-3b38-4fd4-cdaa-5833d743ac3d"
   },
   "outputs": [],
   "source": [
    "def comment_sentiment(comment):\n",
    "    blob = TextBlob(comment)\n",
    "    return np.mean([s.sentiment.polarity for s in blob.sentences])\n"
   ]
  },
  {
   "cell_type": "code",
   "execution_count": 138,
   "metadata": {},
   "outputs": [],
   "source": [
    "sample_texts['sent'] = sample_texts['text'].apply(lambda x: comment_sentiment(x))"
   ]
  },
  {
   "cell_type": "code",
   "execution_count": 139,
   "metadata": {},
   "outputs": [
    {
     "data": {
      "text/html": [
       "<div>\n",
       "<style scoped>\n",
       "    .dataframe tbody tr th:only-of-type {\n",
       "        vertical-align: middle;\n",
       "    }\n",
       "\n",
       "    .dataframe tbody tr th {\n",
       "        vertical-align: top;\n",
       "    }\n",
       "\n",
       "    .dataframe thead th {\n",
       "        text-align: right;\n",
       "    }\n",
       "</style>\n",
       "<table border=\"1\" class=\"dataframe\">\n",
       "  <thead>\n",
       "    <tr style=\"text-align: right;\">\n",
       "      <th></th>\n",
       "      <th>text</th>\n",
       "      <th>clean_text</th>\n",
       "      <th>lem</th>\n",
       "      <th>best</th>\n",
       "      <th>sent</th>\n",
       "    </tr>\n",
       "  </thead>\n",
       "  <tbody>\n",
       "    <tr>\n",
       "      <th>411182</th>\n",
       "      <td>1 year ago</td>\n",
       "      <td>year ago</td>\n",
       "      <td>[ , year, ago]</td>\n",
       "      <td>[ , year, ago]</td>\n",
       "      <td>0.000000</td>\n",
       "    </tr>\n",
       "    <tr>\n",
       "      <th>214487</th>\n",
       "      <td>I'm a huge supporter of the defund the police movement, but this was clearly not police brutality Rayshard completely messed up. should he have died no and it's unfortunate but this is not the same as Goerge Floyd and I hope the movement doesn't stick to its guns on this on when there is clear evidence of police brutality elsewhere.</td>\n",
       "      <td>im a huge supporter of the defund the police movement but this was clearly not police brutality rayshard completely messed up should he have died no and its unfortunate but this is not the same as goerge floyd and i hope the movement doesnt stick to its guns on this on when there is clear evidence of police brutality elsewhere</td>\n",
       "      <td>[I, m, a, huge, supporter, of, the, defund, the, police, movement, but, this, be, clearly, not, police, brutality, rayshard, completely, mess, up, should, he, have, die, no, and, its, unfortunate, but, this, be, not, the, same, as, goerge, floyd, and, I, hope, the, movement, do, nt, stick, to, its, gun, on, this, on, when, there, be, clear, evidence, of, police, brutality, elsewhere]</td>\n",
       "      <td>[I, huge, supporter, defund, police, movement, clearly, police, brutality, rayshard, completely, mess, die, unfortunate, goerge, floyd, I, hope, movement, nt, stick, gun, clear, evidence, police, brutality, elsewhere]</td>\n",
       "      <td>0.008333</td>\n",
       "    </tr>\n",
       "    <tr>\n",
       "      <th>325807</th>\n",
       "      <td>1 year ago</td>\n",
       "      <td>year ago</td>\n",
       "      <td>[ , year, ago]</td>\n",
       "      <td>[ , year, ago]</td>\n",
       "      <td>0.000000</td>\n",
       "    </tr>\n",
       "    <tr>\n",
       "      <th>240022</th>\n",
       "      <td>Some comments are saying that the level of force that  the police are shown to use in this video is ' legit'  IT WAS NOT! Those police had NO REASON to shoot/kill an unarmed, frightened, drunk guy who was simply trying to run away from them! 'Resisting arrest' is NOT, and should not BE, a death penalty legal offense! I'm not saying that fighting the cops was the right thing to do. I'm saying that we hage to be able to trust that men and women on the police force will be more calm, more level headed, better behaved, and more aware of/accountable to the law than the people who they are policing.</td>\n",
       "      <td>some comments are saying that the level of force that  the police are shown to use in this video is  legit  it was not those police had no reason to shootkill an unarmed frightened drunk guy who was simply trying to run away from them resisting arrest is not and should not be a death penalty legal offense im not saying that fighting the cops was the right thing to do im saying that we hage to be able to trust that men and women on the police force will be more calm more level headed better behaved and more aware ofaccountable to the law than the people who they are policing</td>\n",
       "      <td>[some, comment, be, say, that, the, level, of, force, that,  , the, police, be, show, to, use, in, this, video, be,  , legit,  , it, be, not, those, police, have, no, reason, to, shootkill, an, unarmed, frightened, drunk, guy, who, be, simply, try, to, run, away, from, they, resist, arrest, be, not, and, should, not, be, a, death, penalty, legal, offense, I, m, not, say, that, fight, the, cop, be, the, right, thing, to, do, I, m, say, that, we, hage, to, be, able, to, trust, that, man, and, woman, on, the, police, force, will, be, more, calm, more, level, ...]</td>\n",
       "      <td>[comment, say, level, force,  , police, show, use, video,  , legit,  , police, reason, shootkill, unarmed, frightened, drunk, guy, simply, try, run, away, resist, arrest, death, penalty, legal, offense, I, say, fight, cop, right, thing, I, say, hage, able, trust, man, woman, police, force, calm, level, head, well, behave, aware, ofaccountable, law, people, police]</td>\n",
       "      <td>0.114286</td>\n",
       "    </tr>\n",
       "    <tr>\n",
       "      <th>100724</th>\n",
       "      <td>REPLY</td>\n",
       "      <td>reply</td>\n",
       "      <td>[reply]</td>\n",
       "      <td>[reply]</td>\n",
       "      <td>0.000000</td>\n",
       "    </tr>\n",
       "    <tr>\n",
       "      <th>...</th>\n",
       "      <td>...</td>\n",
       "      <td>...</td>\n",
       "      <td>...</td>\n",
       "      <td>...</td>\n",
       "      <td>...</td>\n",
       "    </tr>\n",
       "    <tr>\n",
       "      <th>114218</th>\n",
       "      <td>Todd Bertram</td>\n",
       "      <td>todd bertram</td>\n",
       "      <td>[todd, bertram]</td>\n",
       "      <td>[todd, bertram]</td>\n",
       "      <td>0.000000</td>\n",
       "    </tr>\n",
       "    <tr>\n",
       "      <th>439929</th>\n",
       "      <td>Plis not 'shorten' and 'combine' the video...</td>\n",
       "      <td>plis not shorten and combine the video</td>\n",
       "      <td>[pli, not, shorten, and, combine, the, video]</td>\n",
       "      <td>[pli, shorten, combine, video]</td>\n",
       "      <td>0.000000</td>\n",
       "    </tr>\n",
       "    <tr>\n",
       "      <th>209565</th>\n",
       "      <td>REPLY</td>\n",
       "      <td>reply</td>\n",
       "      <td>[reply]</td>\n",
       "      <td>[reply]</td>\n",
       "      <td>0.000000</td>\n",
       "    </tr>\n",
       "    <tr>\n",
       "      <th>80122</th>\n",
       "      <td>the cop was wrong but do what the cop tell you too do he was drunk jail is much better then dead</td>\n",
       "      <td>the cop was wrong but do what the cop tell you too do he was drunk jail is much better then dead</td>\n",
       "      <td>[the, cop, be, wrong, but, do, what, the, cop, tell, you, too, do, he, be, drunk, jail, be, much, well, then, dead]</td>\n",
       "      <td>[cop, wrong, cop, tell, drunk, jail, much, well, dead]</td>\n",
       "      <td>-0.160000</td>\n",
       "    </tr>\n",
       "    <tr>\n",
       "      <th>149903</th>\n",
       "      <td>1 year ago</td>\n",
       "      <td>year ago</td>\n",
       "      <td>[ , year, ago]</td>\n",
       "      <td>[ , year, ago]</td>\n",
       "      <td>0.000000</td>\n",
       "    </tr>\n",
       "  </tbody>\n",
       "</table>\n",
       "<p>44068 rows × 5 columns</p>\n",
       "</div>"
      ],
      "text/plain": [
       "                                                                                                                                                                                                                                                                                                                                                                                                                                                                                                                                                                                                                            text  \\\n",
       "411182                                                                                                                                                                                                                                                                                                                                                                                                                                                                                                                                                                                                                1 year ago   \n",
       "214487                                                                                                                                                                                                                                                                            I'm a huge supporter of the defund the police movement, but this was clearly not police brutality Rayshard completely messed up. should he have died no and it's unfortunate but this is not the same as Goerge Floyd and I hope the movement doesn't stick to its guns on this on when there is clear evidence of police brutality elsewhere.   \n",
       "325807                                                                                                                                                                                                                                                                                                                                                                                                                                                                                                                                                                                                                1 year ago   \n",
       "240022  Some comments are saying that the level of force that  the police are shown to use in this video is ' legit'  IT WAS NOT! Those police had NO REASON to shoot/kill an unarmed, frightened, drunk guy who was simply trying to run away from them! 'Resisting arrest' is NOT, and should not BE, a death penalty legal offense! I'm not saying that fighting the cops was the right thing to do. I'm saying that we hage to be able to trust that men and women on the police force will be more calm, more level headed, better behaved, and more aware of/accountable to the law than the people who they are policing.   \n",
       "100724                                                                                                                                                                                                                                                                                                                                                                                                                                                                                                                                                                                                                     REPLY   \n",
       "...                                                                                                                                                                                                                                                                                                                                                                                                                                                                                                                                                                                                                          ...   \n",
       "114218                                                                                                                                                                                                                                                                                                                                                                                                                                                                                                                                                                                                              Todd Bertram   \n",
       "439929                                                                                                                                                                                                                                                                                                                                                                                                                                                                                                                                                                             Plis not 'shorten' and 'combine' the video...   \n",
       "209565                                                                                                                                                                                                                                                                                                                                                                                                                                                                                                                                                                                                                     REPLY   \n",
       "80122                                                                                                                                                                                                                                                                                                                                                                                                                                                                                                                           the cop was wrong but do what the cop tell you too do he was drunk jail is much better then dead   \n",
       "149903                                                                                                                                                                                                                                                                                                                                                                                                                                                                                                                                                                                                                1 year ago   \n",
       "\n",
       "                                                                                                                                                                                                                                                                                                                                                                                                                                                                                                                                                                                                  clean_text  \\\n",
       "411182                                                                                                                                                                                                                                                                                                                                                                                                                                                                                                                                                                                              year ago   \n",
       "214487                                                                                                                                                                                                                                                              im a huge supporter of the defund the police movement but this was clearly not police brutality rayshard completely messed up should he have died no and its unfortunate but this is not the same as goerge floyd and i hope the movement doesnt stick to its guns on this on when there is clear evidence of police brutality elsewhere   \n",
       "325807                                                                                                                                                                                                                                                                                                                                                                                                                                                                                                                                                                                              year ago   \n",
       "240022  some comments are saying that the level of force that  the police are shown to use in this video is  legit  it was not those police had no reason to shootkill an unarmed frightened drunk guy who was simply trying to run away from them resisting arrest is not and should not be a death penalty legal offense im not saying that fighting the cops was the right thing to do im saying that we hage to be able to trust that men and women on the police force will be more calm more level headed better behaved and more aware ofaccountable to the law than the people who they are policing   \n",
       "100724                                                                                                                                                                                                                                                                                                                                                                                                                                                                                                                                                                                                 reply   \n",
       "...                                                                                                                                                                                                                                                                                                                                                                                                                                                                                                                                                                                                      ...   \n",
       "114218                                                                                                                                                                                                                                                                                                                                                                                                                                                                                                                                                                                          todd bertram   \n",
       "439929                                                                                                                                                                                                                                                                                                                                                                                                                                                                                                                                                                plis not shorten and combine the video   \n",
       "209565                                                                                                                                                                                                                                                                                                                                                                                                                                                                                                                                                                                                 reply   \n",
       "80122                                                                                                                                                                                                                                                                                                                                                                                                                                                                                                       the cop was wrong but do what the cop tell you too do he was drunk jail is much better then dead   \n",
       "149903                                                                                                                                                                                                                                                                                                                                                                                                                                                                                                                                                                                              year ago   \n",
       "\n",
       "                                                                                                                                                                                                                                                                                                                                                                                                                                                                                                                                                                                           lem  \\\n",
       "411182                                                                                                                                                                                                                                                                                                                                                                                                                                                                                                                                                                          [ , year, ago]   \n",
       "214487                                                                                                                                                                                      [I, m, a, huge, supporter, of, the, defund, the, police, movement, but, this, be, clearly, not, police, brutality, rayshard, completely, mess, up, should, he, have, die, no, and, its, unfortunate, but, this, be, not, the, same, as, goerge, floyd, and, I, hope, the, movement, do, nt, stick, to, its, gun, on, this, on, when, there, be, clear, evidence, of, police, brutality, elsewhere]   \n",
       "325807                                                                                                                                                                                                                                                                                                                                                                                                                                                                                                                                                                          [ , year, ago]   \n",
       "240022  [some, comment, be, say, that, the, level, of, force, that,  , the, police, be, show, to, use, in, this, video, be,  , legit,  , it, be, not, those, police, have, no, reason, to, shootkill, an, unarmed, frightened, drunk, guy, who, be, simply, try, to, run, away, from, they, resist, arrest, be, not, and, should, not, be, a, death, penalty, legal, offense, I, m, not, say, that, fight, the, cop, be, the, right, thing, to, do, I, m, say, that, we, hage, to, be, able, to, trust, that, man, and, woman, on, the, police, force, will, be, more, calm, more, level, ...]   \n",
       "100724                                                                                                                                                                                                                                                                                                                                                                                                                                                                                                                                                                                 [reply]   \n",
       "...                                                                                                                                                                                                                                                                                                                                                                                                                                                                                                                                                                                        ...   \n",
       "114218                                                                                                                                                                                                                                                                                                                                                                                                                                                                                                                                                                         [todd, bertram]   \n",
       "439929                                                                                                                                                                                                                                                                                                                                                                                                                                                                                                                                           [pli, not, shorten, and, combine, the, video]   \n",
       "209565                                                                                                                                                                                                                                                                                                                                                                                                                                                                                                                                                                                 [reply]   \n",
       "80122                                                                                                                                                                                                                                                                                                                                                                                                                                                                      [the, cop, be, wrong, but, do, what, the, cop, tell, you, too, do, he, be, drunk, jail, be, much, well, then, dead]   \n",
       "149903                                                                                                                                                                                                                                                                                                                                                                                                                                                                                                                                                                          [ , year, ago]   \n",
       "\n",
       "                                                                                                                                                                                                                                                                                                                                                                                  best  \\\n",
       "411182                                                                                                                                                                                                                                                                                                                                                                  [ , year, ago]   \n",
       "214487                                                                                                                                                       [I, huge, supporter, defund, police, movement, clearly, police, brutality, rayshard, completely, mess, die, unfortunate, goerge, floyd, I, hope, movement, nt, stick, gun, clear, evidence, police, brutality, elsewhere]   \n",
       "325807                                                                                                                                                                                                                                                                                                                                                                  [ , year, ago]   \n",
       "240022  [comment, say, level, force,  , police, show, use, video,  , legit,  , police, reason, shootkill, unarmed, frightened, drunk, guy, simply, try, run, away, resist, arrest, death, penalty, legal, offense, I, say, fight, cop, right, thing, I, say, hage, able, trust, man, woman, police, force, calm, level, head, well, behave, aware, ofaccountable, law, people, police]   \n",
       "100724                                                                                                                                                                                                                                                                                                                                                                         [reply]   \n",
       "...                                                                                                                                                                                                                                                                                                                                                                                ...   \n",
       "114218                                                                                                                                                                                                                                                                                                                                                                 [todd, bertram]   \n",
       "439929                                                                                                                                                                                                                                                                                                                                                  [pli, shorten, combine, video]   \n",
       "209565                                                                                                                                                                                                                                                                                                                                                                         [reply]   \n",
       "80122                                                                                                                                                                                                                                                                                                                           [cop, wrong, cop, tell, drunk, jail, much, well, dead]   \n",
       "149903                                                                                                                                                                                                                                                                                                                                                                  [ , year, ago]   \n",
       "\n",
       "            sent  \n",
       "411182  0.000000  \n",
       "214487  0.008333  \n",
       "325807  0.000000  \n",
       "240022  0.114286  \n",
       "100724  0.000000  \n",
       "...          ...  \n",
       "114218  0.000000  \n",
       "439929  0.000000  \n",
       "209565  0.000000  \n",
       "80122  -0.160000  \n",
       "149903  0.000000  \n",
       "\n",
       "[44068 rows x 5 columns]"
      ]
     },
     "execution_count": 139,
     "metadata": {},
     "output_type": "execute_result"
    }
   ],
   "source": [
    "sample_texts"
   ]
  },
  {
   "cell_type": "code",
   "execution_count": 140,
   "metadata": {},
   "outputs": [
    {
     "data": {
      "text/plain": [
       "<AxesSubplot:title={'center':'Comments Polarity'}, ylabel='Frequency'>"
      ]
     },
     "execution_count": 140,
     "metadata": {},
     "output_type": "execute_result"
    },
    {
     "data": {
      "image/png": "[encoded data removed]",
      "text/plain": [
       "<Figure size 432x288 with 1 Axes>"
      ]
     },
     "metadata": {
      "needs_background": "light"
     },
     "output_type": "display_data"
    }
   ],
   "source": [
    "sample_texts['sent'].plot.hist(color='salmon', title='Comments Polarity')"
   ]
  },
  {
   "cell_type": "code",
   "execution_count": 141,
   "metadata": {},
   "outputs": [
    {
     "data": {
      "text/html": [
       "<div>\n",
       "<style scoped>\n",
       "    .dataframe tbody tr th:only-of-type {\n",
       "        vertical-align: middle;\n",
       "    }\n",
       "\n",
       "    .dataframe tbody tr th {\n",
       "        vertical-align: top;\n",
       "    }\n",
       "\n",
       "    .dataframe thead th {\n",
       "        text-align: right;\n",
       "    }\n",
       "</style>\n",
       "<table border=\"1\" class=\"dataframe\">\n",
       "  <thead>\n",
       "    <tr style=\"text-align: right;\">\n",
       "      <th></th>\n",
       "      <th>text</th>\n",
       "      <th>clean_text</th>\n",
       "      <th>lem</th>\n",
       "      <th>best</th>\n",
       "      <th>sent</th>\n",
       "    </tr>\n",
       "  </thead>\n",
       "  <tbody>\n",
       "    <tr>\n",
       "      <th>75498</th>\n",
       "      <td>#VERY FAKE NEWS 😂🤣😅</td>\n",
       "      <td>very fake news</td>\n",
       "      <td>[very, fake, news]</td>\n",
       "      <td>[fake, news]</td>\n",
       "      <td>-0.650000</td>\n",
       "    </tr>\n",
       "    <tr>\n",
       "      <th>332489</th>\n",
       "      <td>Well that was worthless commentary.</td>\n",
       "      <td>well that was worthless commentary</td>\n",
       "      <td>[well, that, be, worthless, commentary]</td>\n",
       "      <td>[well, worthless, commentary]</td>\n",
       "      <td>-0.800000</td>\n",
       "    </tr>\n",
       "    <tr>\n",
       "      <th>279096</th>\n",
       "      <td>Another man had died because of his stupidity.</td>\n",
       "      <td>another man had died because of his stupidity</td>\n",
       "      <td>[another, man, have, die, because, of, his, stupidity]</td>\n",
       "      <td>[another, man, die, stupidity]</td>\n",
       "      <td>-0.600000</td>\n",
       "    </tr>\n",
       "    <tr>\n",
       "      <th>339770</th>\n",
       "      <td>Bad decisions meeting Bad Practice...</td>\n",
       "      <td>bad decisions meeting bad practice</td>\n",
       "      <td>[bad, decision, meet, bad, practice]</td>\n",
       "      <td>[bad, decision, meet, bad, practice]</td>\n",
       "      <td>-0.700000</td>\n",
       "    </tr>\n",
       "    <tr>\n",
       "      <th>267513</th>\n",
       "      <td>Bad decisions meeting Bad Practice...</td>\n",
       "      <td>bad decisions meeting bad practice</td>\n",
       "      <td>[bad, decision, meet, bad, practice]</td>\n",
       "      <td>[bad, decision, meet, bad, practice]</td>\n",
       "      <td>-0.700000</td>\n",
       "    </tr>\n",
       "    <tr>\n",
       "      <th>...</th>\n",
       "      <td>...</td>\n",
       "      <td>...</td>\n",
       "      <td>...</td>\n",
       "      <td>...</td>\n",
       "      <td>...</td>\n",
       "    </tr>\n",
       "    <tr>\n",
       "      <th>283646</th>\n",
       "      <td>Just terrible that lethal force was used. If he just wasn't drunk, blocked a business, failed a FST, resisted arrest, fought with them to get away, TOOK THE LEOs TASER, FIRED IT AT HIM while fleeing....none of this would have ever happened.</td>\n",
       "      <td>just terrible that lethal force was used if he just wasnt drunk blocked a business failed a fst resisted arrest fought with them to get away took the leos taser fired it at him while fleeingnone of this would have ever happened</td>\n",
       "      <td>[just, terrible, that, lethal, force, be, use, if, he, just, be, nt, drunk, block, a, business, fail, a, fst, resist, arrest, fight, with, they, to, get, away, take, the, leo, taser, fire, it, at, he, while, fleeingnone, of, this, would, have, ever, happen]</td>\n",
       "      <td>[terrible, lethal, force, use, nt, drunk, block, business, fail, fst, resist, arrest, fight, get, away, take, leo, taser, fire, fleeingnone, would, ever, happen]</td>\n",
       "      <td>-0.675000</td>\n",
       "    </tr>\n",
       "    <tr>\n",
       "      <th>421868</th>\n",
       "      <td>What a load of crap I don't still don't think the cop did anything wrong if he had been hit with the taser the guy could have took his gun</td>\n",
       "      <td>what a load of crap i dont still dont think the cop did anything wrong if he had been hit with the taser the guy could have took his gun</td>\n",
       "      <td>[what, a, load, of, crap, I, do, nt, still, do, nt, think, the, cop, do, anything, wrong, if, he, have, be, hit, with, the, taser, the, guy, could, have, take, his, gun]</td>\n",
       "      <td>[load, crap, I, nt, still, nt, think, cop, anything, wrong, hit, taser, guy, could, take, gun]</td>\n",
       "      <td>-0.650000</td>\n",
       "    </tr>\n",
       "    <tr>\n",
       "      <th>98046</th>\n",
       "      <td>Cant fix stupid.</td>\n",
       "      <td>cant fix stupid</td>\n",
       "      <td>[ca, nt, fix, stupid]</td>\n",
       "      <td>[ca, nt, fix, stupid]</td>\n",
       "      <td>-0.800000</td>\n",
       "    </tr>\n",
       "    <tr>\n",
       "      <th>10508</th>\n",
       "      <td>This is causing anxiety that it’s literally making me sick.</td>\n",
       "      <td>this is causing anxiety that its literally making me sick</td>\n",
       "      <td>[this, be, cause, anxiety, that, its, literally, make, I, sick]</td>\n",
       "      <td>[cause, anxiety, literally, make, I, sick]</td>\n",
       "      <td>-0.714286</td>\n",
       "    </tr>\n",
       "    <tr>\n",
       "      <th>42247</th>\n",
       "      <td>This is causing anxiety that it’s literally making me sick.</td>\n",
       "      <td>this is causing anxiety that its literally making me sick</td>\n",
       "      <td>[this, be, cause, anxiety, that, its, literally, make, I, sick]</td>\n",
       "      <td>[cause, anxiety, literally, make, I, sick]</td>\n",
       "      <td>-0.714286</td>\n",
       "    </tr>\n",
       "  </tbody>\n",
       "</table>\n",
       "<p>234 rows × 5 columns</p>\n",
       "</div>"
      ],
      "text/plain": [
       "                                                                                                                                                                                                                                                    text  \\\n",
       "75498                                                                                                                                                                                                                                #VERY FAKE NEWS 😂🤣😅   \n",
       "332489                                                                                                                                                                                                               Well that was worthless commentary.   \n",
       "279096                                                                                                                                                                                                    Another man had died because of his stupidity.   \n",
       "339770                                                                                                                                                                                                             Bad decisions meeting Bad Practice...   \n",
       "267513                                                                                                                                                                                                             Bad decisions meeting Bad Practice...   \n",
       "...                                                                                                                                                                                                                                                  ...   \n",
       "283646  Just terrible that lethal force was used. If he just wasn't drunk, blocked a business, failed a FST, resisted arrest, fought with them to get away, TOOK THE LEOs TASER, FIRED IT AT HIM while fleeing....none of this would have ever happened.   \n",
       "421868                                                                                                        What a load of crap I don't still don't think the cop did anything wrong if he had been hit with the taser the guy could have took his gun   \n",
       "98046                                                                                                                                                                                                                                   Cant fix stupid.   \n",
       "10508                                                                                                                                                                                        This is causing anxiety that it’s literally making me sick.   \n",
       "42247                                                                                                                                                                                        This is causing anxiety that it’s literally making me sick.   \n",
       "\n",
       "                                                                                                                                                                                                                                 clean_text  \\\n",
       "75498                                                                                                                                                                                                                       very fake news    \n",
       "332489                                                                                                                                                                                                   well that was worthless commentary   \n",
       "279096                                                                                                                                                                                        another man had died because of his stupidity   \n",
       "339770                                                                                                                                                                                                   bad decisions meeting bad practice   \n",
       "267513                                                                                                                                                                                                   bad decisions meeting bad practice   \n",
       "...                                                                                                                                                                                                                                     ...   \n",
       "283646  just terrible that lethal force was used if he just wasnt drunk blocked a business failed a fst resisted arrest fought with them to get away took the leos taser fired it at him while fleeingnone of this would have ever happened   \n",
       "421868                                                                                             what a load of crap i dont still dont think the cop did anything wrong if he had been hit with the taser the guy could have took his gun   \n",
       "98046                                                                                                                                                                                                                       cant fix stupid   \n",
       "10508                                                                                                                                                                             this is causing anxiety that its literally making me sick   \n",
       "42247                                                                                                                                                                             this is causing anxiety that its literally making me sick   \n",
       "\n",
       "                                                                                                                                                                                                                                                                      lem  \\\n",
       "75498                                                                                                                                                                                                                                                  [very, fake, news]   \n",
       "332489                                                                                                                                                                                                                            [well, that, be, worthless, commentary]   \n",
       "279096                                                                                                                                                                                                             [another, man, have, die, because, of, his, stupidity]   \n",
       "339770                                                                                                                                                                                                                               [bad, decision, meet, bad, practice]   \n",
       "267513                                                                                                                                                                                                                               [bad, decision, meet, bad, practice]   \n",
       "...                                                                                                                                                                                                                                                                   ...   \n",
       "283646  [just, terrible, that, lethal, force, be, use, if, he, just, be, nt, drunk, block, a, business, fail, a, fst, resist, arrest, fight, with, they, to, get, away, take, the, leo, taser, fire, it, at, he, while, fleeingnone, of, this, would, have, ever, happen]   \n",
       "421868                                                                                          [what, a, load, of, crap, I, do, nt, still, do, nt, think, the, cop, do, anything, wrong, if, he, have, be, hit, with, the, taser, the, guy, could, have, take, his, gun]   \n",
       "98046                                                                                                                                                                                                                                               [ca, nt, fix, stupid]   \n",
       "10508                                                                                                                                                                                                     [this, be, cause, anxiety, that, its, literally, make, I, sick]   \n",
       "42247                                                                                                                                                                                                     [this, be, cause, anxiety, that, its, literally, make, I, sick]   \n",
       "\n",
       "                                                                                                                                                                     best  \\\n",
       "75498                                                                                                                                                        [fake, news]   \n",
       "332489                                                                                                                                      [well, worthless, commentary]   \n",
       "279096                                                                                                                                     [another, man, die, stupidity]   \n",
       "339770                                                                                                                               [bad, decision, meet, bad, practice]   \n",
       "267513                                                                                                                               [bad, decision, meet, bad, practice]   \n",
       "...                                                                                                                                                                   ...   \n",
       "283646  [terrible, lethal, force, use, nt, drunk, block, business, fail, fst, resist, arrest, fight, get, away, take, leo, taser, fire, fleeingnone, would, ever, happen]   \n",
       "421868                                                                     [load, crap, I, nt, still, nt, think, cop, anything, wrong, hit, taser, guy, could, take, gun]   \n",
       "98046                                                                                                                                               [ca, nt, fix, stupid]   \n",
       "10508                                                                                                                          [cause, anxiety, literally, make, I, sick]   \n",
       "42247                                                                                                                          [cause, anxiety, literally, make, I, sick]   \n",
       "\n",
       "            sent  \n",
       "75498  -0.650000  \n",
       "332489 -0.800000  \n",
       "279096 -0.600000  \n",
       "339770 -0.700000  \n",
       "267513 -0.700000  \n",
       "...          ...  \n",
       "283646 -0.675000  \n",
       "421868 -0.650000  \n",
       "98046  -0.800000  \n",
       "10508  -0.714286  \n",
       "42247  -0.714286  \n",
       "\n",
       "[234 rows x 5 columns]"
      ]
     },
     "execution_count": 141,
     "metadata": {},
     "output_type": "execute_result"
    }
   ],
   "source": [
    "sample_texts[sample_texts['sent']<-0.5]"
   ]
  },
  {
   "cell_type": "markdown",
   "metadata": {
    "id": "lHdTl7hTKlrZ"
   },
   "source": [
    "## Stanza Sentiment Analysis"
   ]
  },
  {
   "cell_type": "code",
   "execution_count": 142,
   "metadata": {},
   "outputs": [
    {
     "name": "stdout",
     "output_type": "stream",
     "text": [
      "negative\n"
     ]
    }
   ],
   "source": [
    "stanza_sentiment = ['negative', 'neutral', 'positive']\n",
    "for sentence in stanza_nlp(sample_texts['clean_text'][46063]).sentences:\n",
    "    print(stanza_sentiment[sentence.sentiment])"
   ]
  },
  {
   "cell_type": "code",
   "execution_count": 143,
   "metadata": {},
   "outputs": [
    {
     "data": {
      "text/plain": [
       "'apd shooting explainedbefore reading below remember that officers are afforded the same constitutional rights as citizens so whether theyre charged for political reasons or not the facts of the case remain the same until their day in courtread   year agoproportionality requires that any measure that interferes with fundamental rights has a legitimate public purpose and is also appropriate necessary and proportionate in the narrower sense appropriate a measure that does not meet these requirements is illegal german legal principle'"
      ]
     },
     "execution_count": 143,
     "metadata": {},
     "output_type": "execute_result"
    }
   ],
   "source": [
    "sample_texts['clean_text'][46063]"
   ]
  },
  {
   "cell_type": "code",
   "execution_count": null,
   "metadata": {},
   "outputs": [],
   "source": []
  }
 ],
 "metadata": {
  "colab": {
   "collapsed_sections": [],
   "name": "Opinion mining.ipynb",
   "provenance": []
  },
  "kernelspec": {
   "display_name": "Python 3",
   "language": "python",
   "name": "python3"
  },
  "language_info": {
   "codemirror_mode": {
    "name": "ipython",
    "version": 3
   },
   "file_extension": ".py",
   "mimetype": "text/x-python",
   "name": "python",
   "nbconvert_exporter": "python",
   "pygments_lexer": "ipython3",
   "version": "3.9.4"
  }
 },
 "nbformat": 4,
 "nbformat_minor": 1
}
