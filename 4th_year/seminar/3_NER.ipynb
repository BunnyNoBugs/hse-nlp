{
 "cells": [
  {
   "cell_type": "markdown",
   "id": "4f9f0dc0",
   "metadata": {
    "id": "4f9f0dc0"
   },
   "source": [
    "# Natasha/Yargy"
   ]
  },
  {
   "cell_type": "markdown",
   "id": "c889b32c",
   "metadata": {
    "id": "c889b32c"
   },
   "source": [
    "## базовый синтаксис"
   ]
  },
  {
   "cell_type": "code",
   "execution_count": 1,
   "id": "3Rvw88jyl5ac",
   "metadata": {
    "colab": {
     "base_uri": "https://localhost:8080/"
    },
    "id": "3Rvw88jyl5ac",
    "outputId": "c8f6ad62-7648-4f8a-f5fe-f0bc9acdd3b7"
   },
   "outputs": [
    {
     "name": "stdout",
     "output_type": "stream",
     "text": [
      "/System/Library/Frameworks/Python.framework/Versions/2.7/Extras/lib/python/OpenSSL/crypto.py:12: CryptographyDeprecationWarning: Python 2 is no longer supported by the Python core team. Support for it is now deprecated in cryptography, and will be removed in the next release.\n",
      "  from cryptography import x509\n",
      "\u001b[33mDEPRECATION: Python 2.7 will reach the end of its life on January 1st, 2020. Please upgrade your Python as Python 2.7 won't be maintained after that date. A future version of pip will drop support for Python 2.7. More details about Python 2 support in pip, can be found at https://pip.pypa.io/en/latest/development/release-process/#python-2-support\u001b[0m\n",
      "Collecting yargy\n",
      "  Using cached https://files.pythonhosted.org/packages/87/c6/3508072bae4303ba75ee2f14a8640fe09f0cc41dc19c579b17d465d4e4f5/yargy-0.15.0.tar.gz\n",
      "Collecting pymorphy2 (from yargy)\n",
      "  Using cached https://files.pythonhosted.org/packages/0a/39/27bf729ea7c9d0d9dadba9ae46d521f7c5a75aa2a867dd0b63c35ec3f0b4/pymorphy2-0.9.1.tar.gz\n",
      "Collecting dawg-python>=0.7.1 (from pymorphy2->yargy)\n",
      "  Using cached https://files.pythonhosted.org/packages/6a/84/ff1ce2071d4c650ec85745766c0047ccc3b5036f1d03559fd46bb38b5eeb/DAWG_Python-0.7.2-py2.py3-none-any.whl\n",
      "Collecting pymorphy2-dicts-ru<3.0,>=2.4 (from pymorphy2->yargy)\n",
      "  Using cached https://files.pythonhosted.org/packages/3a/79/bea0021eeb7eeefde22ef9e96badf174068a2dd20264b9a378f2be1cdd9e/pymorphy2_dicts_ru-2.4.417127.4579844-py2.py3-none-any.whl\n",
      "Collecting docopt>=0.6 (from pymorphy2->yargy)\n",
      "Requirement already satisfied: backports.functools_lru_cache>=1.0.1 in /Library/Python/2.7/site-packages (from pymorphy2->yargy) (1.6.1)\n",
      "Building wheels for collected packages: yargy, pymorphy2\n",
      "  Building wheel for yargy (setup.py) ... \u001b[?25ldone\n",
      "\u001b[?25h  Created wheel for yargy: filename=yargy-0.15.0-cp27-none-any.whl size=40291 sha256=72ff1d5d6390951b54935bedccaa98ab99550a49d4d2d458476a5255612adb48\n",
      "  Stored in directory: /Users/rhubarb/Library/Caches/pip/wheels/a5/0e/1c/509e5cefacb6ff31ba7f42f085af5951694744ee7b95bdb581\n",
      "  Building wheel for pymorphy2 (setup.py) ... \u001b[?25ldone\n",
      "\u001b[?25h  Created wheel for pymorphy2: filename=pymorphy2-0.9.1-cp27-none-any.whl size=55522 sha256=a630e86133f7b09fad249c354b2ef42a9e4a85d1b51e1dac92a65788cb8434fa\n",
      "  Stored in directory: /Users/rhubarb/Library/Caches/pip/wheels/08/85/01/1701b886a9c35129b4a66543f81e8edba72bab20485fd7e53b\n",
      "Successfully built yargy pymorphy2\n",
      "Installing collected packages: dawg-python, pymorphy2-dicts-ru, docopt, pymorphy2, yargy\n",
      "\u001b[31mERROR: Could not install packages due to an EnvironmentError: [Errno 13] Permission denied: '/Library/Python/2.7/site-packages/DAWG_Python-0.7.2.dist-info'\n",
      "Consider using the `--user` option or check the permissions.\n",
      "\u001b[0m\n"
     ]
    }
   ],
   "source": [
    "!pip install yargy"
   ]
  },
  {
   "cell_type": "code",
   "execution_count": 2,
   "id": "55d710c0",
   "metadata": {
    "id": "55d710c0"
   },
   "outputs": [],
   "source": [
    "from yargy import rule, Parser, or_, and_\n",
    "from yargy.predicates import gte, lte, caseless, normalized, dictionary, gram, is_capitalized"
   ]
  },
  {
   "cell_type": "code",
   "execution_count": 3,
   "id": "afacfffb",
   "metadata": {
    "id": "afacfffb"
   },
   "outputs": [],
   "source": [
    "# числа в определённых границах\n",
    "DAY = and_(\n",
    "    gte(1),\n",
    "    lte(31)\n",
    ")\n",
    "MONTH = and_(\n",
    "    gte(1),\n",
    "    lte(12)\n",
    ")\n",
    "YEAR = and_(\n",
    "    gte(1),\n",
    "    lte(2018)\n",
    ")\n",
    "# множество месяцев\n",
    "MONTHS = {\n",
    "    'январь',\n",
    "    'февраль',\n",
    "    'март',\n",
    "    'апрель',\n",
    "    'мая',\n",
    "    'июнь',\n",
    "    'июль',\n",
    "    'август',\n",
    "    'сентябрь',\n",
    "    'октябрь',\n",
    "    'ноябрь',\n",
    "    'декабрь'\n",
    "}\n",
    "# словарь месяцев - специальный класс в yargy\n",
    "MONTH_NAME = dictionary(MONTHS)\n",
    "# логический оператор для описания строк `г.`, `Г.`, `года` и тд\n",
    "YEAR_WORDS = or_(\n",
    "    rule(caseless('г'), '.'),\n",
    "    rule(normalized('год'))\n",
    ")\n",
    "# собираем всё в одно правило\n",
    "DATE =  rule(\n",
    "    DAY,\n",
    "    MONTH_NAME,\n",
    "    YEAR,\n",
    "    YEAR_WORDS.optional()\n",
    ")\n"
   ]
  },
  {
   "cell_type": "code",
   "execution_count": 4,
   "id": "93a2f9d4",
   "metadata": {
    "colab": {
     "base_uri": "https://localhost:8080/"
    },
    "id": "93a2f9d4",
    "outputId": "5cf649a2-7389-4b6d-de36-3019ea3fccb1"
   },
   "outputs": [
    {
     "name": "stdout",
     "output_type": "stream",
     "text": [
      "Match(tokens=[Token(value='8', span=[1, 2), type='INT'), MorphToken(value='января', span=[3, 9), type='RU', forms=[Form('январь', Grams(NOUN,gent,inan,masc,sing))]), Token(value='2014', span=[10, 14), type='INT'), MorphToken(value='года', span=[15, 19), type='RU', forms=[Form('год', Grams(NOUN,gent,inan,masc,sing)), Form('год', Grams(Infr,NOUN,accs,inan,masc,plur)), Form('год', Grams(Infr,NOUN,inan,masc,nomn,plur))])], span=[1, 19))\n",
      "8 января 2014 года\n"
     ]
    }
   ],
   "source": [
    "parser = Parser(DATE)\n",
    "text = '''\n",
    "8 января 2014 года, \n",
    "15 июня 2001 г.,\n",
    "31 февраля 2018\n",
    "'''\n",
    "# выведем только первое совпадение\n",
    "for match in parser.findall(text):\n",
    "    print(match)\n",
    "    start, end = match.span\n",
    "    print(text[start:end])\n",
    "    break"
   ]
  },
  {
   "cell_type": "markdown",
   "id": "e99e5195",
   "metadata": {
    "id": "e99e5195"
   },
   "source": [
    "## Как использовать морфологическую информацию для описания нужных подстрок?"
   ]
  },
  {
   "cell_type": "code",
   "execution_count": 5,
   "id": "94aea5d1",
   "metadata": {
    "id": "94aea5d1"
   },
   "outputs": [],
   "source": [
    "# источник: https://academia.interfax.ru/ru/news/articles/7492/\n",
    "\n",
    "text2 = \"\"\"\n",
    "В Российской академии народного хозяйства и госслужбы (РАНХиГС) сообщили \"Интерфаксу\", что \"в связи со сложной эпидемиологической ситуацией в столице и в соответствии с рекомендациями региональных властей руководством Академии было принято решение о продлении дистанционного формата обучения для студентов\".\n",
    "\"Учебный процесс будет организован в дистанционном формате до дальнейшего распоряжения\", - уточнили в Академии. Там добавили, что решение о формате обучения в филиалах вуза будет приниматься каждым регионом отдельно в зависимости от ситуации с COVID-19.\n",
    "В Московском авиационном институте (МАИ) сообщили \"Интерфаксу\", что с 8 по 13 ноября реализация основных образовательных программ будет организована исключительно с применением дистанционных образовательных технологий.\n",
    "Аналогичным образом занятия будут проходить в Московском государственном университете им. Баумана. Согласно приказу ректора вуза, в этот период \"первый прием задолженностей проводится в дистанционном формате, а приём задолженностей на аттестационных комиссиях - в очном, текущие контрольные будут сдаваться с применением онлайн-технологий\". Кроме того, ранее сообщалось, что \"Бауманка\" с 8 ноября вводит QR-коды для допуска на мероприятия вуза.\n",
    "Такая же система \"входного\" контроля будет введена с 15 ноября для допуска на очные занятия студентов в Московском городском педагогическом университете (МГПУ). Для тех, кто не прошел вакцинацию от коронавируса и не имеет медицинского отвода, занятия будут проводиться только в дистанционном формате.\n",
    "О переводе студентов на дистант после нерабочих дней сообщил ранее Национальный исследовательский университет \"Высшая школа экономики\".\n",
    "\"\"\""
   ]
  },
  {
   "cell_type": "code",
   "execution_count": 6,
   "id": "b714fd78",
   "metadata": {
    "id": "b714fd78"
   },
   "outputs": [],
   "source": [
    "from pprint import pprint"
   ]
  },
  {
   "cell_type": "code",
   "execution_count": 7,
   "id": "8e477b0a",
   "metadata": {
    "colab": {
     "base_uri": "https://localhost:8080/"
    },
    "id": "8e477b0a",
    "outputId": "b1ab1e1e-753b-48ef-f001-fc3f33f452c7"
   },
   "outputs": [
    {
     "name": "stdout",
     "output_type": "stream",
     "text": [
      "('\\n'\n",
      " 'В Российской академии народного хозяйства и госслужбы (РАНХиГС) сообщили '\n",
      " '\"Интерфаксу\", что \"в связи со сложной эпидемиологической ситуацией в столице '\n",
      " 'и в соответствии с рекомендациями региональных властей руководством Академии '\n",
      " 'было принято решение о продлении дистанционного формата обучения для '\n",
      " 'студентов\".\\n'\n",
      " '\"Учебный процесс будет организован в дистанционном формате до дальнейшего '\n",
      " 'распоряжения\", - уточнили в Академии. Там добавили, что решение о формате '\n",
      " 'обучения в филиалах вуза будет приниматься каждым регионом отдельно в '\n",
      " 'зависимости от ситуации с COVID-19.\\n'\n",
      " 'В Московском авиационном институте (МАИ) сообщили \"Интерфаксу\", что с 8 по '\n",
      " '13 ноября реализация основных образовательных программ будет организована '\n",
      " 'исключительно с применением дистанционных образовательных технологий.\\n'\n",
      " 'Аналогичным образом занятия будут проходить в Московском государственном '\n",
      " 'университете им. Баумана. Согласно приказу ректора вуза, в этот период '\n",
      " '\"первый прием задолженностей проводится в дистанционном формате, а приём '\n",
      " 'задолженностей на аттестационных комиссиях - в очном, текущие контрольные '\n",
      " 'будут сдаваться с применением онлайн-технологий\". Кроме того, ранее '\n",
      " 'сообщалось, что \"Бауманка\" с 8 ноября вводит QR-коды для допуска на '\n",
      " 'мероприятия вуза.\\n'\n",
      " 'Такая же система \"входного\" контроля будет введена с 15 ноября для допуска '\n",
      " 'на очные занятия студентов в Московском городском педагогическом '\n",
      " 'университете (МГПУ). Для тех, кто не прошел вакцинацию от коронавируса и не '\n",
      " 'имеет медицинского отвода, занятия будут проводиться только в дистанционном '\n",
      " 'формате.\\n'\n",
      " 'О переводе студентов на дистант после нерабочих дней сообщил ранее '\n",
      " 'Национальный исследовательский университет \"Высшая школа экономики\".\\n')\n"
     ]
    }
   ],
   "source": [
    "pprint(text2)"
   ]
  },
  {
   "cell_type": "code",
   "execution_count": 8,
   "id": "8878727c",
   "metadata": {
    "id": "8878727c"
   },
   "outputs": [],
   "source": [
    "TITLE = dictionary({\n",
    "    'университет',\n",
    "    'институт',\n",
    "    'академия'\n",
    "})\n",
    "VUZ = rule(\n",
    "    gram('ADJF'),  # теги pymorphy\n",
    "    gram('ADJF'),\n",
    "    TITLE\n",
    ")"
   ]
  },
  {
   "cell_type": "code",
   "execution_count": 9,
   "id": "92bce820",
   "metadata": {
    "colab": {
     "base_uri": "https://localhost:8080/"
    },
    "id": "92bce820",
    "outputId": "a6879b19-2933-447a-ed40-3d0452ff5941"
   },
   "outputs": [
    {
     "name": "stdout",
     "output_type": "stream",
     "text": [
      "Московском авиационном институте\n",
      "Московском государственном университете\n",
      "городском педагогическом университете\n",
      "Национальный исследовательский университет\n"
     ]
    }
   ],
   "source": [
    "parser = Parser(VUZ)\n",
    "for match in parser.findall(text2):\n",
    "    start, end = match.span\n",
    "    print(text2[start:end])"
   ]
  },
  {
   "cell_type": "markdown",
   "id": "ff3a6581",
   "metadata": {
    "id": "ff3a6581"
   },
   "source": [
    "Как улучшить наше правило, чтобы включать более длинные названия?"
   ]
  },
  {
   "cell_type": "code",
   "execution_count": 10,
   "id": "fb1b5c1f",
   "metadata": {
    "id": "fb1b5c1f"
   },
   "outputs": [],
   "source": [
    "VUZ = rule(\n",
    "    and_(gram('ADJF'), is_capitalized()),  # теги pymorphy: могут быть не только POS-теги\n",
    "    gram('ADJF').optional().repeatable(),\n",
    "    TITLE\n",
    ")"
   ]
  },
  {
   "cell_type": "code",
   "execution_count": 11,
   "id": "47682675",
   "metadata": {
    "id": "47682675"
   },
   "outputs": [],
   "source": [
    "# Напишем простенькую функцию для проверки правил\n",
    "def print_rule_matches(r, t):\n",
    "    parser = Parser(r)\n",
    "    for match in parser.findall(t):\n",
    "        start, end = match.span\n",
    "        print(t[start:end])"
   ]
  },
  {
   "cell_type": "code",
   "execution_count": 12,
   "id": "869f2251",
   "metadata": {
    "colab": {
     "base_uri": "https://localhost:8080/"
    },
    "id": "869f2251",
    "outputId": "5a33f915-7415-46f6-a73c-a33804b5a855"
   },
   "outputs": [
    {
     "name": "stdout",
     "output_type": "stream",
     "text": [
      "Российской академии\n",
      "Московском авиационном институте\n",
      "Московском государственном университете\n",
      "Московском городском педагогическом университете\n",
      "Национальный исследовательский университет\n"
     ]
    }
   ],
   "source": [
    "print_rule_matches(VUZ, text2)"
   ]
  },
  {
   "cell_type": "markdown",
   "id": "6735bc4e",
   "metadata": {
    "id": "6735bc4e"
   },
   "source": [
    "## Задание\n",
    "Предложите правила для выделения последовательностей *Российской академии народного хозяйства и госслужбы*, *Высшая школа экономики*\n",
    "\n",
    "Какие ещё улучшения можно сделать для этого текста?"
   ]
  },
  {
   "cell_type": "code",
   "execution_count": 13,
   "id": "b0cd98bd",
   "metadata": {
    "id": "b0cd98bd"
   },
   "outputs": [],
   "source": [
    "# YOUR CODE"
   ]
  },
  {
   "cell_type": "markdown",
   "id": "53412999",
   "metadata": {
    "id": "53412999"
   },
   "source": [
    "## Предикаты\n",
    "\n",
    "Предикаты `gram`, `is_capitalized` и т.д. принимают на вход токен, проверяют его на совпадение с каким-либо условием, возвращают `True`/`False`.\n",
    "\n",
    "Можно создать свой предикат с помощью `yargy.predicates.custom` и затем использовать его в правилах:"
   ]
  },
  {
   "cell_type": "code",
   "execution_count": 14,
   "id": "1db15cfa",
   "metadata": {
    "id": "1db15cfa"
   },
   "outputs": [],
   "source": [
    "from yargy.predicates import custom\n",
    "\n",
    "from yargy.parser import Context\n",
    "from yargy.tokenizer import Tokenizer\n",
    "import re\n",
    "\n",
    "abbr_pattern = re.compile('^[А-Я][А-Я]+$')\n",
    "\n",
    "def is_abbreviation_func(token):\n",
    "    return abbr_pattern.match(token)\n",
    "\n",
    "is_abbreviation = custom(is_abbreviation_func)"
   ]
  },
  {
   "cell_type": "code",
   "execution_count": 15,
   "id": "bdd859ef",
   "metadata": {
    "id": "bdd859ef"
   },
   "outputs": [],
   "source": [
    "ABBR = rule(\n",
    "    VUZ,\n",
    "    '(',\n",
    "    is_abbreviation,\n",
    "    ')'\n",
    ")"
   ]
  },
  {
   "cell_type": "code",
   "execution_count": 16,
   "id": "798d4ccc",
   "metadata": {
    "colab": {
     "base_uri": "https://localhost:8080/"
    },
    "id": "798d4ccc",
    "outputId": "92f38c6a-e4c6-4324-b45a-1a41d418d72b"
   },
   "outputs": [
    {
     "name": "stdout",
     "output_type": "stream",
     "text": [
      "Московском авиационном институте (МАИ)\n",
      "Московском городском педагогическом университете (МГПУ)\n"
     ]
    }
   ],
   "source": [
    "print_rule_matches(ABBR, text2)"
   ]
  },
  {
   "cell_type": "markdown",
   "id": "de916eed",
   "metadata": {
    "id": "de916eed"
   },
   "source": [
    "## Интерпретация результатов разбора\n",
    "\n",
    "Наши правила - это КС-грамматика. Парсер возвращает дерево разбора подстрок, соответствующих данной грамматике. Узлы дерева можно соотносить с полями шаблона, например, выделять в упоминании человека [фамилию], [имя], [отчество]."
   ]
  },
  {
   "cell_type": "code",
   "execution_count": 17,
   "id": "d4dc07b7",
   "metadata": {
    "colab": {
     "base_uri": "https://localhost:8080/",
     "height": 93
    },
    "id": "d4dc07b7",
    "outputId": "e089272c-4b50-4ccb-90e9-8bec84fbd38d"
   },
   "outputs": [
    {
     "data": {
      "image/svg+xml": [
       "<?xml version=\"1.0\" encoding=\"UTF-8\" standalone=\"no\"?>\n",
       "<!DOCTYPE svg PUBLIC \"-//W3C//DTD SVG 1.1//EN\"\n",
       " \"http://www.w3.org/Graphics/SVG/1.1/DTD/svg11.dtd\">\n",
       "<!-- Generated by graphviz version 2.47.1 (20210417.1919)\n",
       " -->\n",
       "<!-- Title: G Pages: 1 -->\n",
       "<svg width=\"133pt\" height=\"54pt\"\n",
       " viewBox=\"0.00 0.00 132.50 54.00\" xmlns=\"http://www.w3.org/2000/svg\" xmlns:xlink=\"http://www.w3.org/1999/xlink\">\n",
       "<g id=\"graph0\" class=\"graph\" transform=\"scale(1 1) rotate(0) translate(4 50)\">\n",
       "<title>G</title>\n",
       "<polygon fill=\"white\" stroke=\"transparent\" points=\"-4,4 -4,-50 128.5,-50 128.5,4 -4,4\"/>\n",
       "<!-- 0 -->\n",
       "<g id=\"node1\" class=\"node\">\n",
       "<title>0</title>\n",
       "<polygon fill=\"#aec7e8\" stroke=\"transparent\" points=\"71,-46 42,-46 42,-27 71,-27 71,-46\"/>\n",
       "<text text-anchor=\"middle\" x=\"56.5\" y=\"-34\" font-family=\"sans\" font-size=\"10.00\">R0</text>\n",
       "</g>\n",
       "<!-- 1 -->\n",
       "<g id=\"node2\" class=\"node\">\n",
       "<title>1</title>\n",
       "<polygon fill=\"#eeeeee\" stroke=\"transparent\" points=\"27,-19 0,-19 0,0 27,0 27,-19\"/>\n",
       "<text text-anchor=\"middle\" x=\"13.5\" y=\"-7\" font-family=\"sans\" font-size=\"10.00\">31</text>\n",
       "</g>\n",
       "<!-- 0&#45;&gt;1 -->\n",
       "<g id=\"edge1\" class=\"edge\">\n",
       "<title>0&#45;&gt;1</title>\n",
       "<path fill=\"none\" stroke=\"gray\" d=\"M41.94,-27.04C38.06,-24.78 33.84,-22.33 29.87,-20.02\"/>\n",
       "<polygon fill=\"gray\" stroke=\"gray\" points=\"30.29,-19.05 27.17,-18.45 29.24,-20.86 30.29,-19.05\"/>\n",
       "</g>\n",
       "<!-- 2 -->\n",
       "<g id=\"node3\" class=\"node\">\n",
       "<title>2</title>\n",
       "<polygon fill=\"#eeeeee\" stroke=\"transparent\" points=\"85,-19 28,-19 28,0 85,0 85,-19\"/>\n",
       "<text text-anchor=\"middle\" x=\"56.5\" y=\"-7\" font-family=\"sans\" font-size=\"10.00\">февраля</text>\n",
       "</g>\n",
       "<!-- 0&#45;&gt;2 -->\n",
       "<g id=\"edge2\" class=\"edge\">\n",
       "<title>0&#45;&gt;2</title>\n",
       "<path fill=\"none\" stroke=\"gray\" d=\"M56.5,-26.76C56.5,-25.36 56.5,-23.9 56.5,-22.45\"/>\n",
       "<polygon fill=\"gray\" stroke=\"gray\" points=\"57.55,-22.11 56.5,-19.11 55.45,-22.11 57.55,-22.11\"/>\n",
       "</g>\n",
       "<!-- 3 -->\n",
       "<g id=\"node4\" class=\"node\">\n",
       "<title>3</title>\n",
       "<polygon fill=\"#eeeeee\" stroke=\"transparent\" points=\"124.5,-19 86.5,-19 86.5,0 124.5,0 124.5,-19\"/>\n",
       "<text text-anchor=\"middle\" x=\"105.5\" y=\"-7\" font-family=\"sans\" font-size=\"10.00\">2018</text>\n",
       "</g>\n",
       "<!-- 0&#45;&gt;3 -->\n",
       "<g id=\"edge3\" class=\"edge\">\n",
       "<title>0&#45;&gt;3</title>\n",
       "<path fill=\"none\" stroke=\"gray\" d=\"M71.2,-28C75.86,-25.62 81.09,-22.95 86.03,-20.43\"/>\n",
       "<polygon fill=\"gray\" stroke=\"gray\" points=\"86.55,-21.35 88.75,-19.05 85.6,-19.48 86.55,-21.35\"/>\n",
       "</g>\n",
       "</g>\n",
       "</svg>\n"
      ],
      "text/plain": [
       "Graph(nodes=[...], edges=[...])"
      ]
     },
     "metadata": {},
     "output_type": "display_data"
    }
   ],
   "source": [
    "from IPython.display import display\n",
    "parser = Parser(DATE)\n",
    "for line in text.split('\\n'):\n",
    "    match = parser.match(line)\n",
    "    if match is not None:\n",
    "        display(match.tree.as_dot)\n",
    "        break"
   ]
  },
  {
   "cell_type": "markdown",
   "id": "84ae0148",
   "metadata": {
    "id": "84ae0148"
   },
   "source": [
    "Для этого на соответствующие нетерминалы правил нужно навесить метод `.interpretation()`.\n",
    "\n",
    "Интересно ли об этом поговорить?"
   ]
  },
  {
   "cell_type": "markdown",
   "id": "9658b73a",
   "metadata": {
    "id": "9658b73a"
   },
   "source": [
    "## Согласование\n",
    "\n",
    "Предыдущие правила выделяли последовательности токенов, не учитывая связь между ними. "
   ]
  },
  {
   "cell_type": "code",
   "execution_count": 18,
   "id": "7b9c53eb",
   "metadata": {
    "id": "7b9c53eb"
   },
   "outputs": [],
   "source": [
    "from yargy.relations import gnc_relation\n",
    "\n",
    "gnc = gnc_relation()\n",
    "NAME = rule(\n",
    "    gram('Name').match(gnc),\n",
    "    gram('Surn').match(gnc)\n",
    ")"
   ]
  },
  {
   "cell_type": "code",
   "execution_count": 19,
   "id": "cd4976e4",
   "metadata": {
    "colab": {
     "base_uri": "https://localhost:8080/"
    },
    "id": "cd4976e4",
    "outputId": "48147fab-255f-4323-f913-ef97e8908fe6"
   },
   "outputs": [
    {
     "name": "stdout",
     "output_type": "stream",
     "text": [
      "Саша Быков\n"
     ]
    }
   ],
   "source": [
    "test = \"Илье Ивановым, Павлом Семенов, Саша Быков\"\n",
    "print_rule_matches(NAME, test)"
   ]
  },
  {
   "cell_type": "markdown",
   "id": "CKZ7F_9sp_EV",
   "metadata": {
    "id": "CKZ7F_9sp_EV"
   },
   "source": [
    "## Другие типы сущностей\n",
    "\n",
    "На самом деле, такими правилами можно описывать не только PER-LOC-ORG, но и многое другое:\n",
    "- адреса (например, показывать карту в письме)\n",
    "- структурированную информацию из резюме\n",
    "- ингредиенты из рецептов  https://github.com/natasha/yargy-examples/blob/master/04_food/notes.ipynb\n",
    "- и т.п.\n",
    "\n",
    "Даже такое: https://github.com/natasha/yargy-examples/blob/master/03_fsem/notes.ipynb"
   ]
  },
  {
   "cell_type": "markdown",
   "id": "fd5bc84e",
   "metadata": {
    "id": "fd5bc84e"
   },
   "source": [
    "## Встроенные грамматики в Natasha"
   ]
  },
  {
   "cell_type": "markdown",
   "id": "05e792eb",
   "metadata": {
    "id": "05e792eb"
   },
   "source": [
    "Человечество долго решало проблему выделения стандартных NE, поэтому для них есть готовые правила (с интерпретацией и нормализацией).\n",
    "\n",
    "Также в Natasha есть готовая модель для NER: CharCNN+Bi-LSTM+CRF - более компактная, чем SOTA-модели, но не сильно уступающая по качеству.\n",
    "\n",
    "https://natasha.github.io/ner/"
   ]
  },
  {
   "cell_type": "code",
   "execution_count": 20,
   "id": "df7fda7b",
   "metadata": {
    "colab": {
     "base_uri": "https://localhost:8080/"
    },
    "id": "df7fda7b",
    "outputId": "25df9788-e150-49c2-95e6-0b0686d7dc72"
   },
   "outputs": [
    {
     "name": "stdout",
     "output_type": "stream",
     "text": [
      "/System/Library/Frameworks/Python.framework/Versions/2.7/Extras/lib/python/OpenSSL/crypto.py:12: CryptographyDeprecationWarning: Python 2 is no longer supported by the Python core team. Support for it is now deprecated in cryptography, and will be removed in the next release.\n",
      "  from cryptography import x509\n",
      "\u001b[33mDEPRECATION: Python 2.7 will reach the end of its life on January 1st, 2020. Please upgrade your Python as Python 2.7 won't be maintained after that date. A future version of pip will drop support for Python 2.7. More details about Python 2 support in pip, can be found at https://pip.pypa.io/en/latest/development/release-process/#python-2-support\u001b[0m\n",
      "Collecting natasha\n",
      "\u001b[?25l  Downloading https://files.pythonhosted.org/packages/06/3e/9caa6c28407c35ece7cbff1550bcf7dd2fc8f563e61424842e95805198c7/natasha-1.4.0.tar.gz (34.4MB)\n",
      "\u001b[K     |████████████████████████████████| 34.4MB 459kB/s  eta 0:00:01\n",
      "\u001b[?25hCollecting pymorphy2 (from natasha)\n",
      "Collecting razdel>=0.5.0 (from natasha)\n",
      "  Downloading https://files.pythonhosted.org/packages/70/ea/0151ae55bd26699487e668a865ef43e49409025c7464569beffe1a5789f0/razdel-0.5.0.tar.gz\n",
      "Collecting navec>=0.9.0 (from natasha)\n",
      "\u001b[?25l  Downloading https://files.pythonhosted.org/packages/7d/52/2469e9323708e367c6c2fea1c7964e51ab4b0cda782251df07fe22c88ea3/navec-0.10.0.tar.gz (79.7MB)\n",
      "\u001b[K     |████████████████████████████████| 79.7MB 35.7MB/s eta 0:00:01\n",
      "\u001b[?25hCollecting slovnet>=0.3.0 (from natasha)\n",
      "\u001b[?25l  Downloading https://files.pythonhosted.org/packages/14/ee/2ad9a86aea853d9d99516aea8c35be1f15364fb6db393fbe0739c9124e0b/slovnet-0.5.0.tar.gz (33.9MB)\n",
      "\u001b[K     |████████████████████████████████| 33.9MB 35.3MB/s eta 0:00:01\n",
      "\u001b[?25hCollecting yargy>=0.14.0 (from natasha)\n",
      "Collecting ipymarkup>=0.8.0 (from natasha)\n",
      "  Downloading https://files.pythonhosted.org/packages/19/0a/3a2e52002094776fc0e2756e0e6c4014a51db9baf382b7a1ce8aeed588c6/ipymarkup-0.9.0.tar.gz\n",
      "Collecting dawg-python>=0.7.1 (from pymorphy2->natasha)\n",
      "  Using cached https://files.pythonhosted.org/packages/6a/84/ff1ce2071d4c650ec85745766c0047ccc3b5036f1d03559fd46bb38b5eeb/DAWG_Python-0.7.2-py2.py3-none-any.whl\n",
      "Requirement already satisfied: backports.functools-lru-cache>=1.0.1 in /Library/Python/2.7/site-packages (from pymorphy2->natasha) (1.6.1)\n",
      "Collecting pymorphy2-dicts-ru<3.0,>=2.4 (from pymorphy2->natasha)\n",
      "  Using cached https://files.pythonhosted.org/packages/3a/79/bea0021eeb7eeefde22ef9e96badf174068a2dd20264b9a378f2be1cdd9e/pymorphy2_dicts_ru-2.4.417127.4579844-py2.py3-none-any.whl\n",
      "Collecting docopt>=0.6 (from pymorphy2->natasha)\n",
      "Requirement already satisfied: numpy in /System/Library/Frameworks/Python.framework/Versions/2.7/Extras/lib/python (from navec>=0.9.0->natasha) (1.8.0rc1)\n",
      "Collecting intervaltree>=3 (from ipymarkup>=0.8.0->natasha)\n",
      "Collecting sortedcontainers<3.0,>=2.0 (from intervaltree>=3->ipymarkup>=0.8.0->natasha)\n",
      "  Using cached https://files.pythonhosted.org/packages/32/46/9cb0e58b2deb7f82b84065f37f3bffeb12413f947f9388e4cac22c4621ce/sortedcontainers-2.4.0-py2.py3-none-any.whl\n",
      "Building wheels for collected packages: natasha, razdel, navec, slovnet, ipymarkup\n",
      "  Building wheel for natasha (setup.py) ... \u001b[?25ldone\n",
      "\u001b[?25h  Created wheel for natasha: filename=natasha-1.4.0-cp27-none-any.whl size=34408560 sha256=b20ffb256ec6ab8669d914156ec1edffb04160f7c24c924aecd2b56a1585690d\n",
      "  Stored in directory: /Users/rhubarb/Library/Caches/pip/wheels/52/8c/2d/e127fbdb26035e2c67c916ac3679262c32a02770980eaea8b1\n",
      "  Building wheel for razdel (setup.py) ... \u001b[?25ldone\n",
      "\u001b[?25h  Created wheel for razdel: filename=razdel-0.5.0-cp27-none-any.whl size=20349 sha256=a63afd2312c8680c55e9867192a21b5dae97d5dea01e23e3eb95234bf9fee05d\n",
      "  Stored in directory: /Users/rhubarb/Library/Caches/pip/wheels/b6/6c/05/e1edc284a06955dc78b52d8d37b7ea469cff7a6c3511aa4de8\n",
      "  Building wheel for navec (setup.py) ... \u001b[?25ldone\n",
      "\u001b[?25h  Created wheel for navec: filename=navec-0.10.0-cp27-none-any.whl size=22505 sha256=425bb9c9586a90340cc29a92e117c3f3cec89dea1a6c04eed152a5883a17bfb3\n",
      "  Stored in directory: /Users/rhubarb/Library/Caches/pip/wheels/e8/85/93/3a2c8f2ccf3c289c14c16c335f681e0bedf3c484d53d9f5206\n",
      "  Building wheel for slovnet (setup.py) ... \u001b[?25ldone\n",
      "\u001b[?25h  Created wheel for slovnet: filename=slovnet-0.5.0-cp27-none-any.whl size=48605 sha256=a55c4be0290393b9a33b4005c3f043ab050f22c8b2911150f736029a0fb6499b\n",
      "  Stored in directory: /Users/rhubarb/Library/Caches/pip/wheels/e1/0a/0e/bb3135a5827386ec7fcb97e7100757ed9f9c3d162f67ff21ab\n",
      "  Building wheel for ipymarkup (setup.py) ... \u001b[?25ldone\n",
      "\u001b[?25h  Created wheel for ipymarkup: filename=ipymarkup-0.9.0-cp27-none-any.whl size=13703 sha256=2464bbd177c970d8925cdd1cf3c53d4e9d1ee948365568371ee8f927514d7541\n",
      "  Stored in directory: /Users/rhubarb/Library/Caches/pip/wheels/d0/e4/fd/869be7b50c10dd1b00508c501d01a81add80f9507de9b0db51\n",
      "Successfully built natasha razdel navec slovnet ipymarkup\n",
      "Installing collected packages: dawg-python, pymorphy2-dicts-ru, docopt, pymorphy2, razdel, navec, slovnet, yargy, sortedcontainers, intervaltree, ipymarkup, natasha\n",
      "\u001b[31mERROR: Could not install packages due to an EnvironmentError: [Errno 13] Permission denied: '/Library/Python/2.7/site-packages/DAWG_Python-0.7.2.dist-info'\n",
      "Consider using the `--user` option or check the permissions.\n",
      "\u001b[0m\n"
     ]
    }
   ],
   "source": [
    "!pip install natasha"
   ]
  },
  {
   "cell_type": "code",
   "execution_count": 21,
   "id": "f7dcf002",
   "metadata": {
    "id": "f7dcf002"
   },
   "outputs": [],
   "source": [
    "from natasha import (\n",
    "    Segmenter,\n",
    "    MorphVocab,\n",
    "    \n",
    "    NewsEmbedding,\n",
    "    NewsMorphTagger,\n",
    "    NewsSyntaxParser,\n",
    "    NewsNERTagger,\n",
    "    \n",
    "    PER,\n",
    "    NamesExtractor,\n",
    "    AddrExtractor,\n",
    "\n",
    "    Doc\n",
    ")"
   ]
  },
  {
   "cell_type": "code",
   "execution_count": 22,
   "id": "521f9671",
   "metadata": {
    "id": "521f9671"
   },
   "outputs": [],
   "source": [
    "segmenter = Segmenter()\n",
    "morph_vocab = MorphVocab()\n",
    "\n",
    "emb = NewsEmbedding()\n",
    "morph_tagger = NewsMorphTagger(emb)\n",
    "syntax_parser = NewsSyntaxParser(emb)\n",
    "ner_tagger = NewsNERTagger(emb)\n",
    "names_extractor = NamesExtractor(morph_vocab)"
   ]
  },
  {
   "cell_type": "code",
   "execution_count": 23,
   "id": "391d12d1",
   "metadata": {
    "id": "391d12d1"
   },
   "outputs": [],
   "source": [
    "# функция для применения всех этапов анализа к тексту\n",
    "def natasha_pipeline(t):\n",
    "    doc = Doc(t)\n",
    "\n",
    "    doc.segment(segmenter)\n",
    "    doc.tag_morph(morph_tagger)\n",
    "    for token in doc.tokens:\n",
    "        token.lemmatize(morph_vocab)\n",
    "    doc.parse_syntax(syntax_parser)\n",
    "    doc.tag_ner(ner_tagger)\n",
    "    for span in doc.spans:\n",
    "        span.normalize(morph_vocab)\n",
    "        if span.type == 'PER':\n",
    "            span.extract_fact(names_extractor)\n",
    "            print(str(span.fact), span.normal)"
   ]
  },
  {
   "cell_type": "code",
   "execution_count": 24,
   "id": "44a351ea",
   "metadata": {
    "id": "44a351ea"
   },
   "outputs": [],
   "source": [
    "text4 = \"\"\"\n",
    "Иванов не согласился по вопросу о РОП с главой Российского союза промышленников и предпринимателей Александром Шохиным, который заявил о «большой озабоченности» бизнеса из-за концепции РОП. \n",
    "«Пока нам не удается убедить Минприроды в нецелесообразности введения с 2022 года 100% норматива утилизации упаковки.\n",
    "\"\"\""
   ]
  },
  {
   "cell_type": "code",
   "execution_count": 25,
   "id": "125948e8",
   "metadata": {
    "colab": {
     "base_uri": "https://localhost:8080/"
    },
    "id": "125948e8",
    "outputId": "17428958-0b42-4b18-cb36-c2c049e88b43"
   },
   "outputs": [
    {
     "name": "stdout",
     "output_type": "stream",
     "text": [
      "DocFact(slots=[...]) Илья Иванов\n",
      "DocFact(slots=[...]) Павел Семенов\n",
      "DocFact(slots=[...]) Саша Быков\n"
     ]
    }
   ],
   "source": [
    "natasha_pipeline(test)"
   ]
  },
  {
   "cell_type": "code",
   "execution_count": 26,
   "id": "2ee0c41a",
   "metadata": {
    "colab": {
     "base_uri": "https://localhost:8080/"
    },
    "id": "2ee0c41a",
    "outputId": "741d77db-b9e9-47de-f3a7-845a444729e4"
   },
   "outputs": [
    {
     "name": "stdout",
     "output_type": "stream",
     "text": [
      "DocFact(slots=[...]) Иванов\n",
      "DocFact(slots=[...]) Александр Шохин\n"
     ]
    }
   ],
   "source": [
    "natasha_pipeline(text4)"
   ]
  },
  {
   "cell_type": "markdown",
   "id": "ad6e5e27",
   "metadata": {
    "id": "ad6e5e27"
   },
   "source": [
    "# Другие библиотеки для русского языка"
   ]
  },
  {
   "cell_type": "markdown",
   "id": "4652e889",
   "metadata": {
    "id": "4652e889"
   },
   "source": [
    "## stanza"
   ]
  },
  {
   "cell_type": "code",
   "execution_count": 27,
   "id": "80a6df23",
   "metadata": {
    "colab": {
     "base_uri": "https://localhost:8080/"
    },
    "id": "80a6df23",
    "outputId": "5962206f-4ba0-411b-a1d5-31ee72654152"
   },
   "outputs": [
    {
     "name": "stdout",
     "output_type": "stream",
     "text": [
      "/System/Library/Frameworks/Python.framework/Versions/2.7/Extras/lib/python/OpenSSL/crypto.py:12: CryptographyDeprecationWarning: Python 2 is no longer supported by the Python core team. Support for it is now deprecated in cryptography, and will be removed in the next release.\n",
      "  from cryptography import x509\n",
      "\u001b[33mDEPRECATION: Python 2.7 will reach the end of its life on January 1st, 2020. Please upgrade your Python as Python 2.7 won't be maintained after that date. A future version of pip will drop support for Python 2.7. More details about Python 2 support in pip, can be found at https://pip.pypa.io/en/latest/development/release-process/#python-2-support\u001b[0m\n",
      "Collecting stanza\n",
      "\u001b[?25l  Downloading https://files.pythonhosted.org/packages/9e/d1/ed2639288026c9adbcc740f97bd0c11e657638a508602326484612d909b6/stanza-0.3-py2.py3-none-any.whl (76kB)\n",
      "\u001b[K     |████████████████████████████████| 81kB 1.2MB/s eta 0:00:01\n",
      "\u001b[?25hInstalling collected packages: stanza\n",
      "\u001b[31mERROR: Could not install packages due to an EnvironmentError: [Errno 13] Permission denied: '/Library/Python/2.7/site-packages/test'\n",
      "Consider using the `--user` option or check the permissions.\n",
      "\u001b[0m\n"
     ]
    }
   ],
   "source": [
    "!pip install stanza"
   ]
  },
  {
   "cell_type": "code",
   "execution_count": 28,
   "id": "e7a3eb30",
   "metadata": {
    "colab": {
     "base_uri": "https://localhost:8080/",
     "height": 173,
     "referenced_widgets": [
      "5d1fef17680b486e8dbb8d966d5881d9",
      "331e6b20f8b24b5a9edbefff665a0a80",
      "16f7c299124245e08370d73886af65c5",
      "bf478e1263254b3eaa4337d901419f23",
      "993e1053b564478e95c844b13666f21e",
      "21ec7570f9d64270ba4ea9e45b19d9f9",
      "3330a215890242b1a1472751b611a467",
      "25f32b31ef6541f3b2bd217d805d5f4a",
      "c7717532c33c43d398cb691d7f8cd1ab",
      "18e6884f86b2453facd64c0bd5c4de0e",
      "f48d35d83baf47efb58e483c35f9dbf4",
      "a8ffa6b06ee54781a249ca5c65dbf802",
      "3af35028e7034408a8082175936526ab",
      "b34c956453de4cc685288ed8f147ee1c",
      "2c616d347f884cd88503f11b11b4955e",
      "37d84e9ff81e4556b6efbfe42b886c7b",
      "41f94b19fd2e491c8f5a8909d523b3ae",
      "8a2ee364971241499e46756054635d6a",
      "3bb984d7b41c406f828c7e5a263dd49e",
      "b291b4338ab444ec83d97d5d64eb071c",
      "8f847fbd924647e9836a4541386e619b",
      "6d18cdc63a7c40a29e6b5e2f5955d3a4"
     ]
    },
    "id": "e7a3eb30",
    "outputId": "3dd9c641-8c2f-47c8-acd1-d8330fbf6afe"
   },
   "outputs": [
    {
     "data": {
      "application/vnd.jupyter.widget-view+json": {
       "model_id": "25b18a7537a4485ab8e0fad20380856a",
       "version_major": 2,
       "version_minor": 0
      },
      "text/plain": [
       "Downloading https://raw.githubusercontent.com/stanfordnlp/stanza-resources/main/resources_1.3.0.json:   0%|   …"
      ]
     },
     "metadata": {},
     "output_type": "display_data"
    },
    {
     "name": "stderr",
     "output_type": "stream",
     "text": [
      "2021-11-10 20:52:07 INFO: Downloading default packages for language: ru (Russian)...\n",
      "2021-11-10 20:52:09 INFO: File exists: /Users/rhubarb/stanza_resources/ru/default.zip.\n",
      "2021-11-10 20:52:14 INFO: Finished downloading models and saved to /Users/rhubarb/stanza_resources.\n"
     ]
    }
   ],
   "source": [
    "import stanza\n",
    "stanza.download('ru')"
   ]
  },
  {
   "cell_type": "code",
   "execution_count": 29,
   "id": "0bf4ae9c",
   "metadata": {
    "colab": {
     "base_uri": "https://localhost:8080/"
    },
    "id": "0bf4ae9c",
    "outputId": "4de71970-006e-4855-a5f8-4ba697c9fd3f"
   },
   "outputs": [
    {
     "name": "stderr",
     "output_type": "stream",
     "text": [
      "2021-11-10 20:52:14 INFO: Loading these models for language: ru (Russian):\n",
      "=========================\n",
      "| Processor | Package   |\n",
      "-------------------------\n",
      "| tokenize  | syntagrus |\n",
      "| ner       | wikiner   |\n",
      "=========================\n",
      "\n",
      "2021-11-10 20:52:14 INFO: Use device: cpu\n",
      "2021-11-10 20:52:14 INFO: Loading: tokenize\n",
      "2021-11-10 20:52:14 INFO: Loading: ner\n",
      "2021-11-10 20:52:15 INFO: Done loading processors!\n"
     ]
    },
    {
     "name": "stdout",
     "output_type": "stream",
     "text": [
      "{\n",
      "  \"text\": \"Российской академии народного хозяйства и госслужбы\",\n",
      "  \"type\": \"ORG\",\n",
      "  \"start_char\": 3,\n",
      "  \"end_char\": 54\n",
      "}\n",
      "{\n",
      "  \"text\": \"РАНХиГС\",\n",
      "  \"type\": \"ORG\",\n",
      "  \"start_char\": 56,\n",
      "  \"end_char\": 63\n",
      "}\n",
      "{\n",
      "  \"text\": \"Интерфаксу\",\n",
      "  \"type\": \"ORG\",\n",
      "  \"start_char\": 75,\n",
      "  \"end_char\": 85\n",
      "}\n",
      "{\n",
      "  \"text\": \"Академии\",\n",
      "  \"type\": \"ORG\",\n",
      "  \"start_char\": 219,\n",
      "  \"end_char\": 227\n",
      "}\n",
      "{\n",
      "  \"text\": \"Академии\",\n",
      "  \"type\": \"ORG\",\n",
      "  \"start_char\": 411,\n",
      "  \"end_char\": 419\n",
      "}\n",
      "{\n",
      "  \"text\": \"COVID\",\n",
      "  \"type\": \"MISC\",\n",
      "  \"start_char\": 553,\n",
      "  \"end_char\": 558\n",
      "}\n",
      "{\n",
      "  \"text\": \"Московском авиационном институте\",\n",
      "  \"type\": \"LOC\",\n",
      "  \"start_char\": 565,\n",
      "  \"end_char\": 597\n",
      "}\n",
      "{\n",
      "  \"text\": \"МАИ\",\n",
      "  \"type\": \"LOC\",\n",
      "  \"start_char\": 599,\n",
      "  \"end_char\": 602\n",
      "}\n",
      "{\n",
      "  \"text\": \"Интерфаксу\",\n",
      "  \"type\": \"ORG\",\n",
      "  \"start_char\": 614,\n",
      "  \"end_char\": 624\n",
      "}\n",
      "{\n",
      "  \"text\": \"Московском государственном университете им. Баумана\",\n",
      "  \"type\": \"LOC\",\n",
      "  \"start_char\": 828,\n",
      "  \"end_char\": 879\n",
      "}\n",
      "{\n",
      "  \"text\": \"Бауманка\",\n",
      "  \"type\": \"ORG\",\n",
      "  \"start_char\": 1158,\n",
      "  \"end_char\": 1166\n",
      "}\n",
      "{\n",
      "  \"text\": \"МГПУ\",\n",
      "  \"type\": \"LOC\",\n",
      "  \"start_char\": 1381,\n",
      "  \"end_char\": 1385\n",
      "}\n",
      "{\n",
      "  \"text\": \"Национальный исследовательский университет \\\"Высшая школа экономики\",\n",
      "  \"type\": \"ORG\",\n",
      "  \"start_char\": 1595,\n",
      "  \"end_char\": 1661\n",
      "}\n"
     ]
    }
   ],
   "source": [
    "nlp = stanza.Pipeline(lang='ru', processors='tokenize,ner')\n",
    "doc = nlp(text2)\n",
    "for sent in doc.sentences:\n",
    "    for ent in sent.ents:  # достаем NE\n",
    "        print(ent)"
   ]
  },
  {
   "cell_type": "markdown",
   "id": "24a09b43",
   "metadata": {
    "id": "24a09b43"
   },
   "source": [
    "## ?\n",
    "Как нормализовать упоминания сущностей?\n",
    "\n",
    "А свести все упоминания одной сущности к стандартному виду? Для этого обычно нужна внешняя база знаний (например, Wikidata)"
   ]
  },
  {
   "cell_type": "markdown",
   "id": "c12e174e",
   "metadata": {
    "id": "c12e174e"
   },
   "source": [
    "## DeepPavlov\n",
    "\n",
    "Есть модуль для **NER**, несколько моделей. По архитектуре:\n",
    "* RNN\n",
    "* BERT-based\n",
    "* Bi-LSTM-CNN-CRF http://www.ijmlc.org/vol9/758-ML0025.pdf\n",
    "\n",
    "По обучающим данным:\n",
    "* Collection3 (ru)\n",
    "* OntoNotes (en) -- более интересная разметка, см. ниже\n",
    "* CoNLL-2003\n",
    "\n",
    "Есть модуль для **Entity Linking**.\n",
    "\n",
    "Entity Linking component performs the following steps:\n",
    "\n",
    "* the substring, detected with NER (English) or NER (Russian), is fed to TfidfVectorizer and the resulting sparse vector is converted to dense one\n",
    "\n",
    "* Faiss library is used to find k nearest neighbours for tf-idf vector in the matrix where rows correspond to tf-idf vectors of words in entity titles\n",
    "\n",
    "* entities are ranked by number of relations in Wikidata (number of outgoing edges of nodes in the knowledge graph)\n",
    "\n",
    "* BERT (English) or BERT (Russian) is used for entities ranking by entity description and by sentence that mentions the entity"
   ]
  },
  {
   "cell_type": "code",
   "execution_count": 34,
   "id": "604da5a5",
   "metadata": {
    "colab": {
     "base_uri": "https://localhost:8080/",
     "height": 1000
    },
    "id": "604da5a5",
    "outputId": "720f26a5-95ba-43d6-a0d6-a32d92cca9df"
   },
   "outputs": [
    {
     "name": "stdout",
     "output_type": "stream",
     "text": [
      "Collecting deeppavlov\n",
      "  Using cached deeppavlov-0.17.1-py3-none-any.whl (929 kB)\n",
      "Collecting pymorphy2==0.8\n",
      "  Using cached pymorphy2-0.8-py2.py3-none-any.whl (46 kB)\n",
      "Collecting scipy==1.4.1\n",
      "  Using cached scipy-1.4.1.tar.gz (24.6 MB)\n",
      "  Installing build dependencies ... \u001b[?25ldone\n",
      "\u001b[?25h  Getting requirements to build wheel ... \u001b[?25ldone\n",
      "\u001b[?25h    Preparing wheel metadata ... \u001b[?25ldone\n",
      "\u001b[?25hCollecting Cython==0.29.14\n",
      "  Using cached Cython-0.29.14-cp39-cp39-macosx_10_15_x86_64.whl\n",
      "Collecting click==7.1.2\n",
      "  Using cached click-7.1.2-py2.py3-none-any.whl (82 kB)\n",
      "Collecting sacremoses==0.0.35\n",
      "  Using cached sacremoses-0.0.35-py3-none-any.whl\n",
      "Collecting nltk==3.4.5\n",
      "  Using cached nltk-3.4.5-py3-none-any.whl\n",
      "Collecting scikit-learn==0.21.2\n",
      "  Using cached scikit-learn-0.21.2.tar.gz (12.2 MB)\n",
      "Collecting pydantic==1.3\n",
      "  Using cached pydantic-1.3-py36.py37.py38-none-any.whl (85 kB)\n",
      "Collecting pyopenssl==19.1.0\n",
      "  Using cached pyOpenSSL-19.1.0-py2.py3-none-any.whl (53 kB)\n",
      "Collecting pytelegrambotapi==3.6.7\n",
      "  Using cached pyTelegramBotAPI-3.6.7-py3-none-any.whl\n",
      "Collecting rusenttokenize==0.0.5\n",
      "  Using cached rusenttokenize-0.0.5-py3-none-any.whl (10 kB)\n",
      "Collecting fastapi==0.47.1\n",
      "  Using cached fastapi-0.47.1-py3-none-any.whl (43 kB)\n",
      "Collecting ruamel.yaml==0.15.100\n",
      "  Using cached ruamel.yaml-0.15.100-cp39-cp39-macosx_10_15_x86_64.whl\n",
      "Collecting prometheus-client==0.7.1\n",
      "  Using cached prometheus_client-0.7.1-py3-none-any.whl\n",
      "Collecting h5py==2.10.0\n",
      "  Using cached h5py-2.10.0.tar.gz (301 kB)\n",
      "Collecting numpy==1.18.0\n",
      "  Using cached numpy-1.18.0-cp39-cp39-macosx_10_15_x86_64.whl\n",
      "Collecting pytz==2019.1\n",
      "  Using cached pytz-2019.1-py2.py3-none-any.whl (510 kB)\n",
      "Collecting tqdm==4.62.0\n",
      "  Using cached tqdm-4.62.0-py2.py3-none-any.whl (76 kB)\n",
      "Collecting requests==2.22.0\n",
      "  Using cached requests-2.22.0-py2.py3-none-any.whl (57 kB)\n",
      "Collecting uvicorn==0.11.7\n",
      "  Using cached uvicorn-0.11.7-py3-none-any.whl (43 kB)\n",
      "Collecting uvloop==0.14.0\n",
      "  Using cached uvloop-0.14.0-cp39-cp39-macosx_10_15_x86_64.whl\n",
      "Collecting filelock==3.0.12\n",
      "  Using cached filelock-3.0.12-py3-none-any.whl (7.6 kB)\n",
      "Collecting pandas==0.25.3\n",
      "  Using cached pandas-0.25.3.tar.gz (12.6 MB)\n",
      "Collecting overrides==2.7.0\n",
      "  Using cached overrides-2.7.0-py3-none-any.whl\n",
      "Requirement already satisfied: pymorphy2-dicts-ru in /usr/local/lib/python3.9/site-packages (from deeppavlov) (2.4.417127.4579844)\n",
      "Collecting aio-pika==6.4.1\n",
      "  Using cached aio_pika-6.4.1-py3-none-any.whl (40 kB)\n",
      "Collecting aiormq<4,>=3.2.0\n",
      "  Using cached aiormq-3.3.1-py3-none-any.whl (28 kB)\n",
      "Collecting yarl\n",
      "  Using cached yarl-1.7.2-cp39-cp39-macosx_10_9_x86_64.whl (121 kB)\n",
      "Collecting starlette<=0.12.9,>=0.12.9\n",
      "  Using cached starlette-0.12.9-py3-none-any.whl\n",
      "Requirement already satisfied: six in /usr/local/Cellar/protobuf/3.15.8/libexec/lib/python3.9/site-packages (from h5py==2.10.0->deeppavlov) (1.15.0)\n",
      "Requirement already satisfied: python-dateutil>=2.6.1 in /usr/local/lib/python3.9/site-packages (from pandas==0.25.3->deeppavlov) (2.8.1)\n",
      "Collecting pymorphy2-dicts<3.0,>=2.4\n",
      "  Using cached pymorphy2_dicts-2.4.393442.3710985-py2.py3-none-any.whl (7.1 MB)\n",
      "Requirement already satisfied: docopt>=0.6 in /usr/local/lib/python3.9/site-packages (from pymorphy2==0.8->deeppavlov) (0.6.2)\n",
      "Requirement already satisfied: dawg-python>=0.7 in /usr/local/lib/python3.9/site-packages (from pymorphy2==0.8->deeppavlov) (0.7.2)\n",
      "Collecting cryptography>=2.8\n",
      "  Using cached cryptography-35.0.0-cp36-abi3-macosx_10_10_x86_64.whl (2.5 MB)\n",
      "Requirement already satisfied: certifi>=2017.4.17 in /usr/local/lib/python3.9/site-packages (from requests==2.22.0->deeppavlov) (2021.5.30)\n",
      "Collecting idna<2.9,>=2.5\n",
      "  Using cached idna-2.8-py2.py3-none-any.whl (58 kB)\n",
      "Collecting chardet<3.1.0,>=3.0.2\n",
      "  Using cached chardet-3.0.4-py2.py3-none-any.whl (133 kB)\n",
      "Collecting urllib3!=1.25.0,!=1.25.1,<1.26,>=1.21.1\n",
      "  Using cached urllib3-1.25.11-py2.py3-none-any.whl (127 kB)\n",
      "Requirement already satisfied: joblib in /usr/local/lib/python3.9/site-packages (from sacremoses==0.0.35->deeppavlov) (1.0.1)\n",
      "Collecting httptools==0.1.*\n",
      "  Using cached httptools-0.1.2-cp39-cp39-macosx_10_14_x86_64.whl (101 kB)\n",
      "Collecting h11<0.10,>=0.8\n",
      "  Using cached h11-0.9.0-py2.py3-none-any.whl (53 kB)\n",
      "Collecting websockets==8.*\n",
      "  Using cached websockets-8.1-cp39-cp39-macosx_10_15_x86_64.whl\n",
      "Collecting pamqp==2.3.0\n",
      "  Using cached pamqp-2.3.0-py2.py3-none-any.whl (28 kB)\n",
      "Requirement already satisfied: cffi>=1.12 in /usr/local/lib/python3.9/site-packages (from cryptography>=2.8->pyopenssl==19.1.0->deeppavlov) (1.14.6)\n",
      "Requirement already satisfied: pycparser in /usr/local/lib/python3.9/site-packages (from cffi>=1.12->cryptography>=2.8->pyopenssl==19.1.0->deeppavlov) (2.20)\n",
      "Collecting multidict>=4.0\n",
      "  Using cached multidict-5.2.0-cp39-cp39-macosx_10_9_x86_64.whl (45 kB)\n",
      "Building wheels for collected packages: h5py, pandas, scikit-learn, scipy\n",
      "  Building wheel for h5py (setup.py) ... \u001b[?25lerror\n",
      "\u001b[31m  ERROR: Command errored out with exit status 1:\n",
      "   command: /usr/local/opt/python@3.9/bin/python3.9 -u -c 'import sys, setuptools, tokenize; sys.argv[0] = '\"'\"'/private/var/folders/ym/8fzzl3l14nq33df_1tbc24xstj1vzy/T/pip-install-7zgg4jks/h5py_417537a52ebd4c7da5020befc16db72d/setup.py'\"'\"'; __file__='\"'\"'/private/var/folders/ym/8fzzl3l14nq33df_1tbc24xstj1vzy/T/pip-install-7zgg4jks/h5py_417537a52ebd4c7da5020befc16db72d/setup.py'\"'\"';f=getattr(tokenize, '\"'\"'open'\"'\"', open)(__file__);code=f.read().replace('\"'\"'\\r\\n'\"'\"', '\"'\"'\\n'\"'\"');f.close();exec(compile(code, __file__, '\"'\"'exec'\"'\"'))' bdist_wheel -d /private/var/folders/ym/8fzzl3l14nq33df_1tbc24xstj1vzy/T/pip-wheel-es05ob33\n",
      "       cwd: /private/var/folders/ym/8fzzl3l14nq33df_1tbc24xstj1vzy/T/pip-install-7zgg4jks/h5py_417537a52ebd4c7da5020befc16db72d/\n",
      "  Complete output (64 lines):\n",
      "  running bdist_wheel\n",
      "  running build\n",
      "  running build_py\n",
      "  creating build\n",
      "  creating build/lib.macosx-10.15-x86_64-3.9\n",
      "  creating build/lib.macosx-10.15-x86_64-3.9/h5py\n",
      "  copying h5py/h5py_warnings.py -> build/lib.macosx-10.15-x86_64-3.9/h5py\n",
      "  copying h5py/version.py -> build/lib.macosx-10.15-x86_64-3.9/h5py\n",
      "  copying h5py/highlevel.py -> build/lib.macosx-10.15-x86_64-3.9/h5py\n",
      "  copying h5py/__init__.py -> build/lib.macosx-10.15-x86_64-3.9/h5py\n",
      "  copying h5py/ipy_completer.py -> build/lib.macosx-10.15-x86_64-3.9/h5py\n",
      "  creating build/lib.macosx-10.15-x86_64-3.9/h5py/_hl\n",
      "  copying h5py/_hl/files.py -> build/lib.macosx-10.15-x86_64-3.9/h5py/_hl\n",
      "  copying h5py/_hl/compat.py -> build/lib.macosx-10.15-x86_64-3.9/h5py/_hl\n",
      "  copying h5py/_hl/__init__.py -> build/lib.macosx-10.15-x86_64-3.9/h5py/_hl\n",
      "  copying h5py/_hl/selections.py -> build/lib.macosx-10.15-x86_64-3.9/h5py/_hl\n",
      "  copying h5py/_hl/dataset.py -> build/lib.macosx-10.15-x86_64-3.9/h5py/_hl\n",
      "  copying h5py/_hl/vds.py -> build/lib.macosx-10.15-x86_64-3.9/h5py/_hl\n",
      "  copying h5py/_hl/selections2.py -> build/lib.macosx-10.15-x86_64-3.9/h5py/_hl\n",
      "  copying h5py/_hl/group.py -> build/lib.macosx-10.15-x86_64-3.9/h5py/_hl\n",
      "  copying h5py/_hl/datatype.py -> build/lib.macosx-10.15-x86_64-3.9/h5py/_hl\n",
      "  copying h5py/_hl/attrs.py -> build/lib.macosx-10.15-x86_64-3.9/h5py/_hl\n",
      "  copying h5py/_hl/dims.py -> build/lib.macosx-10.15-x86_64-3.9/h5py/_hl\n",
      "  copying h5py/_hl/base.py -> build/lib.macosx-10.15-x86_64-3.9/h5py/_hl\n",
      "  copying h5py/_hl/filters.py -> build/lib.macosx-10.15-x86_64-3.9/h5py/_hl\n",
      "  creating build/lib.macosx-10.15-x86_64-3.9/h5py/tests\n",
      "  copying h5py/tests/test_deprecation.py -> build/lib.macosx-10.15-x86_64-3.9/h5py/tests\n",
      "  copying h5py/tests/test_dimension_scales.py -> build/lib.macosx-10.15-x86_64-3.9/h5py/tests\n",
      "  copying h5py/tests/test_attribute_create.py -> build/lib.macosx-10.15-x86_64-3.9/h5py/tests\n",
      "  copying h5py/tests/test_file_image.py -> build/lib.macosx-10.15-x86_64-3.9/h5py/tests\n",
      "  copying h5py/tests/test_h5d_direct_chunk.py -> build/lib.macosx-10.15-x86_64-3.9/h5py/tests\n",
      "  copying h5py/tests/test_h5f.py -> build/lib.macosx-10.15-x86_64-3.9/h5py/tests\n",
      "  copying h5py/tests/test_dataset_getitem.py -> build/lib.macosx-10.15-x86_64-3.9/h5py/tests\n",
      "  copying h5py/tests/test_group.py -> build/lib.macosx-10.15-x86_64-3.9/h5py/tests\n",
      "  copying h5py/tests/test_dataset_swmr.py -> build/lib.macosx-10.15-x86_64-3.9/h5py/tests\n",
      "  copying h5py/tests/test_slicing.py -> build/lib.macosx-10.15-x86_64-3.9/h5py/tests\n",
      "  copying h5py/tests/test_h5pl.py -> build/lib.macosx-10.15-x86_64-3.9/h5py/tests\n",
      "  copying h5py/tests/test_attrs.py -> build/lib.macosx-10.15-x86_64-3.9/h5py/tests\n",
      "  copying h5py/tests/__init__.py -> build/lib.macosx-10.15-x86_64-3.9/h5py/tests\n",
      "  copying h5py/tests/test_attrs_data.py -> build/lib.macosx-10.15-x86_64-3.9/h5py/tests\n",
      "  copying h5py/tests/test_h5t.py -> build/lib.macosx-10.15-x86_64-3.9/h5py/tests\n",
      "  copying h5py/tests/test_h5p.py -> build/lib.macosx-10.15-x86_64-3.9/h5py/tests\n",
      "  copying h5py/tests/test_dims_dimensionproxy.py -> build/lib.macosx-10.15-x86_64-3.9/h5py/tests\n",
      "  copying h5py/tests/test_datatype.py -> build/lib.macosx-10.15-x86_64-3.9/h5py/tests\n",
      "  copying h5py/tests/common.py -> build/lib.macosx-10.15-x86_64-3.9/h5py/tests\n",
      "  copying h5py/tests/test_dataset.py -> build/lib.macosx-10.15-x86_64-3.9/h5py/tests\n",
      "  copying h5py/tests/test_file.py -> build/lib.macosx-10.15-x86_64-3.9/h5py/tests\n",
      "  copying h5py/tests/test_selections.py -> build/lib.macosx-10.15-x86_64-3.9/h5py/tests\n",
      "  copying h5py/tests/test_threads.py -> build/lib.macosx-10.15-x86_64-3.9/h5py/tests\n",
      "  copying h5py/tests/test_dtype.py -> build/lib.macosx-10.15-x86_64-3.9/h5py/tests\n",
      "  copying h5py/tests/test_h5.py -> build/lib.macosx-10.15-x86_64-3.9/h5py/tests\n",
      "  copying h5py/tests/test_file2.py -> build/lib.macosx-10.15-x86_64-3.9/h5py/tests\n",
      "  copying h5py/tests/test_completions.py -> build/lib.macosx-10.15-x86_64-3.9/h5py/tests\n",
      "  copying h5py/tests/test_filters.py -> build/lib.macosx-10.15-x86_64-3.9/h5py/tests\n",
      "  copying h5py/tests/test_base.py -> build/lib.macosx-10.15-x86_64-3.9/h5py/tests\n",
      "  copying h5py/tests/test_objects.py -> build/lib.macosx-10.15-x86_64-3.9/h5py/tests\n",
      "  creating build/lib.macosx-10.15-x86_64-3.9/h5py/tests/test_vds\n",
      "  copying h5py/tests/test_vds/test_highlevel_vds.py -> build/lib.macosx-10.15-x86_64-3.9/h5py/tests/test_vds\n",
      "  copying h5py/tests/test_vds/test_virtual_source.py -> build/lib.macosx-10.15-x86_64-3.9/h5py/tests/test_vds\n",
      "  copying h5py/tests/test_vds/__init__.py -> build/lib.macosx-10.15-x86_64-3.9/h5py/tests/test_vds\n",
      "  copying h5py/tests/test_vds/test_lowlevel_vds.py -> build/lib.macosx-10.15-x86_64-3.9/h5py/tests/test_vds\n",
      "  running build_ext\n",
      "  Loading library to get version: libhdf5.dylib\n",
      "  error: dlopen(libhdf5.dylib, 6): image not found\n",
      "  ----------------------------------------\u001b[0m\n",
      "\u001b[31m  ERROR: Failed building wheel for h5py\u001b[0m\n",
      "\u001b[?25h  Running setup.py clean for h5py\n"
     ]
    },
    {
     "name": "stdout",
     "output_type": "stream",
     "text": [
      "  Building wheel for pandas (setup.py) ... \u001b[?25l|^C\n",
      "\u001b[?25canceled\n",
      "\u001b[31mERROR: Operation cancelled by user\u001b[0m\n",
      "\u001b[33mWARNING: You are using pip version 21.0.1; however, version 21.3.1 is available.\n",
      "You should consider upgrading via the '/usr/local/opt/python@3.9/bin/python3.9 -m pip install --upgrade pip' command.\u001b[0m\n"
     ]
    }
   ],
   "source": [
    "!pip3 install deeppavlov"
   ]
  },
  {
   "cell_type": "code",
   "execution_count": 35,
   "id": "cd99d807",
   "metadata": {
    "colab": {
     "base_uri": "https://localhost:8080/"
    },
    "id": "cd99d807",
    "outputId": "c1059693-9614-43c6-acd7-4a4c10429798"
   },
   "outputs": [
    {
     "ename": "ModuleNotFoundError",
     "evalue": "No module named 'deeppavlov'",
     "output_type": "error",
     "traceback": [
      "\u001b[0;31m---------------------------------------------------------------------------\u001b[0m",
      "\u001b[0;31mModuleNotFoundError\u001b[0m                       Traceback (most recent call last)",
      "\u001b[0;32m/var/folders/ym/8fzzl3l14nq33df_1tbc24xstj1vzy/T/ipykernel_84547/943832711.py\u001b[0m in \u001b[0;36m<module>\u001b[0;34m\u001b[0m\n\u001b[0;32m----> 1\u001b[0;31m \u001b[0;32mfrom\u001b[0m \u001b[0mdeeppavlov\u001b[0m \u001b[0;32mimport\u001b[0m \u001b[0mconfigs\u001b[0m\u001b[0;34m,\u001b[0m \u001b[0mbuild_model\u001b[0m\u001b[0;34m\u001b[0m\u001b[0;34m\u001b[0m\u001b[0m\n\u001b[0m\u001b[1;32m      2\u001b[0m \u001b[0mner_model\u001b[0m \u001b[0;34m=\u001b[0m \u001b[0mbuild_model\u001b[0m\u001b[0;34m(\u001b[0m\u001b[0mconfigs\u001b[0m\u001b[0;34m.\u001b[0m\u001b[0mner\u001b[0m\u001b[0;34m.\u001b[0m\u001b[0mner_ontonotes_bert_mult_torch\u001b[0m\u001b[0;34m,\u001b[0m \u001b[0mdownload\u001b[0m\u001b[0;34m=\u001b[0m\u001b[0;32mTrue\u001b[0m\u001b[0;34m)\u001b[0m\u001b[0;34m\u001b[0m\u001b[0;34m\u001b[0m\u001b[0m\n",
      "\u001b[0;31mModuleNotFoundError\u001b[0m: No module named 'deeppavlov'"
     ]
    }
   ],
   "source": [
    "from deeppavlov import configs, build_model\n",
    "ner_model = build_model(configs.ner.ner_ontonotes_bert_mult_torch, download=True)"
   ]
  },
  {
   "cell_type": "code",
   "execution_count": null,
   "id": "58f9e0b6",
   "metadata": {
    "colab": {
     "base_uri": "https://localhost:8080/",
     "height": 356
    },
    "id": "58f9e0b6",
    "outputId": "56882f3c-f863-4ba0-d00c-f47599549e54"
   },
   "outputs": [],
   "source": [
    "ner_model([text4.split('\\n')[1]])"
   ]
  },
  {
   "cell_type": "code",
   "execution_count": null,
   "id": "ymWYy0hDpDGR",
   "metadata": {
    "id": "ymWYy0hDpDGR"
   },
   "outputs": [],
   "source": [
    "text5 = \"\"\"\n",
    "Режим Виши или Вишистская Франция (официальное название Францу́зское Госуда́рство (фр. l'État français)) — коллаборационистский режим в Южной Франции, появившийся после поражения Франции в начале Второй мировой войны и падения Парижа в 1940 году. \n",
    "Одновременно Северная Франция и атлантическое побережье были оккупированы нацистской Германией с согласия Вишистского правительства. \n",
    "Режим существовал с 10 июля 1940 по 22 апреля 1945 (де-факто до 25 августа 1944). \n",
    "Официально придерживался политики нейтралитета, но фактически проводил политику в интересах стран «оси».\n",
    "\"\"\""
   ]
  },
  {
   "cell_type": "code",
   "execution_count": null,
   "id": "uY4zfAe0pKvr",
   "metadata": {
    "colab": {
     "base_uri": "https://localhost:8080/",
     "height": 188
    },
    "id": "uY4zfAe0pKvr",
    "outputId": "58929c75-4b06-43e8-a4ba-00ef24b3ff0f"
   },
   "outputs": [],
   "source": [
    "pprint(text5)\n",
    "text5"
   ]
  },
  {
   "cell_type": "code",
   "execution_count": null,
   "id": "ApX-ASQ_pMgH",
   "metadata": {
    "colab": {
     "base_uri": "https://localhost:8080/",
     "height": 374
    },
    "id": "ApX-ASQ_pMgH",
    "outputId": "2e58d083-dd31-4cc4-a434-bde02415b3b9"
   },
   "outputs": [],
   "source": [
    "sentences = ner_model([line for line in text5.splitlines() if line])\n",
    "list(zip(sentences[0][0], sentences[1][0]))"
   ]
  },
  {
   "cell_type": "code",
   "execution_count": null,
   "id": "1fca362b",
   "metadata": {
    "id": "1fca362b"
   },
   "outputs": [],
   "source": [
    "el_model = build_model(configs.kbqa.entity_linking_rus, download=True)\n",
    "el_model(['Москва — столица России, город федерального значения, административный центр Центрального федерального округа и центр Московской области.'])"
   ]
  },
  {
   "cell_type": "code",
   "execution_count": null,
   "id": "Ju2acmpOvmpi",
   "metadata": {
    "id": "Ju2acmpOvmpi"
   },
   "outputs": [],
   "source": []
  }
 ],
 "metadata": {
  "accelerator": "GPU",
  "colab": {
   "collapsed_sections": [
    "24a09b43"
   ],
   "name": "3_NER.ipynb",
   "provenance": []
  },
  "kernelspec": {
   "display_name": "Python 3",
   "language": "python",
   "name": "python3"
  },
  "language_info": {
   "codemirror_mode": {
    "name": "ipython",
    "version": 3
   },
   "file_extension": ".py",
   "mimetype": "text/x-python",
   "name": "python",
   "nbconvert_exporter": "python",
   "pygments_lexer": "ipython3",
   "version": "3.9.4"
  },
  "widgets": {
   "application/vnd.jupyter.widget-state+json": {
    "16f7c299124245e08370d73886af65c5": {
     "model_module": "@jupyter-widgets/controls",
     "model_module_version": "1.5.0",
     "model_name": "FloatProgressModel",
     "state": {
      "_dom_classes": [],
      "_model_module": "@jupyter-widgets/controls",
      "_model_module_version": "1.5.0",
      "_model_name": "FloatProgressModel",
      "_view_count": null,
      "_view_module": "@jupyter-widgets/controls",
      "_view_module_version": "1.5.0",
      "_view_name": "ProgressView",
      "bar_style": "success",
      "description": "",
      "description_tooltip": null,
      "layout": "IPY_MODEL_25f32b31ef6541f3b2bd217d805d5f4a",
      "max": 24459,
      "min": 0,
      "orientation": "horizontal",
      "style": "IPY_MODEL_c7717532c33c43d398cb691d7f8cd1ab",
      "value": 24459
     }
    },
    "18e6884f86b2453facd64c0bd5c4de0e": {
     "model_module": "@jupyter-widgets/base",
     "model_module_version": "1.2.0",
     "model_name": "LayoutModel",
     "state": {
      "_model_module": "@jupyter-widgets/base",
      "_model_module_version": "1.2.0",
      "_model_name": "LayoutModel",
      "_view_count": null,
      "_view_module": "@jupyter-widgets/base",
      "_view_module_version": "1.2.0",
      "_view_name": "LayoutView",
      "align_content": null,
      "align_items": null,
      "align_self": null,
      "border": null,
      "bottom": null,
      "display": null,
      "flex": null,
      "flex_flow": null,
      "grid_area": null,
      "grid_auto_columns": null,
      "grid_auto_flow": null,
      "grid_auto_rows": null,
      "grid_column": null,
      "grid_gap": null,
      "grid_row": null,
      "grid_template_areas": null,
      "grid_template_columns": null,
      "grid_template_rows": null,
      "height": null,
      "justify_content": null,
      "justify_items": null,
      "left": null,
      "margin": null,
      "max_height": null,
      "max_width": null,
      "min_height": null,
      "min_width": null,
      "object_fit": null,
      "object_position": null,
      "order": null,
      "overflow": null,
      "overflow_x": null,
      "overflow_y": null,
      "padding": null,
      "right": null,
      "top": null,
      "visibility": null,
      "width": null
     }
    },
    "21ec7570f9d64270ba4ea9e45b19d9f9": {
     "model_module": "@jupyter-widgets/base",
     "model_module_version": "1.2.0",
     "model_name": "LayoutModel",
     "state": {
      "_model_module": "@jupyter-widgets/base",
      "_model_module_version": "1.2.0",
      "_model_name": "LayoutModel",
      "_view_count": null,
      "_view_module": "@jupyter-widgets/base",
      "_view_module_version": "1.2.0",
      "_view_name": "LayoutView",
      "align_content": null,
      "align_items": null,
      "align_self": null,
      "border": null,
      "bottom": null,
      "display": null,
      "flex": null,
      "flex_flow": null,
      "grid_area": null,
      "grid_auto_columns": null,
      "grid_auto_flow": null,
      "grid_auto_rows": null,
      "grid_column": null,
      "grid_gap": null,
      "grid_row": null,
      "grid_template_areas": null,
      "grid_template_columns": null,
      "grid_template_rows": null,
      "height": null,
      "justify_content": null,
      "justify_items": null,
      "left": null,
      "margin": null,
      "max_height": null,
      "max_width": null,
      "min_height": null,
      "min_width": null,
      "object_fit": null,
      "object_position": null,
      "order": null,
      "overflow": null,
      "overflow_x": null,
      "overflow_y": null,
      "padding": null,
      "right": null,
      "top": null,
      "visibility": null,
      "width": null
     }
    },
    "25f32b31ef6541f3b2bd217d805d5f4a": {
     "model_module": "@jupyter-widgets/base",
     "model_module_version": "1.2.0",
     "model_name": "LayoutModel",
     "state": {
      "_model_module": "@jupyter-widgets/base",
      "_model_module_version": "1.2.0",
      "_model_name": "LayoutModel",
      "_view_count": null,
      "_view_module": "@jupyter-widgets/base",
      "_view_module_version": "1.2.0",
      "_view_name": "LayoutView",
      "align_content": null,
      "align_items": null,
      "align_self": null,
      "border": null,
      "bottom": null,
      "display": null,
      "flex": null,
      "flex_flow": null,
      "grid_area": null,
      "grid_auto_columns": null,
      "grid_auto_flow": null,
      "grid_auto_rows": null,
      "grid_column": null,
      "grid_gap": null,
      "grid_row": null,
      "grid_template_areas": null,
      "grid_template_columns": null,
      "grid_template_rows": null,
      "height": null,
      "justify_content": null,
      "justify_items": null,
      "left": null,
      "margin": null,
      "max_height": null,
      "max_width": null,
      "min_height": null,
      "min_width": null,
      "object_fit": null,
      "object_position": null,
      "order": null,
      "overflow": null,
      "overflow_x": null,
      "overflow_y": null,
      "padding": null,
      "right": null,
      "top": null,
      "visibility": null,
      "width": null
     }
    },
    "2c616d347f884cd88503f11b11b4955e": {
     "model_module": "@jupyter-widgets/controls",
     "model_module_version": "1.5.0",
     "model_name": "HTMLModel",
     "state": {
      "_dom_classes": [],
      "_model_module": "@jupyter-widgets/controls",
      "_model_module_version": "1.5.0",
      "_model_name": "HTMLModel",
      "_view_count": null,
      "_view_module": "@jupyter-widgets/controls",
      "_view_module_version": "1.5.0",
      "_view_name": "HTMLView",
      "description": "",
      "description_tooltip": null,
      "layout": "IPY_MODEL_8f847fbd924647e9836a4541386e619b",
      "placeholder": "​",
      "style": "IPY_MODEL_6d18cdc63a7c40a29e6b5e2f5955d3a4",
      "value": " 574M/574M [00:09&lt;00:00, 55.9MB/s]"
     }
    },
    "331e6b20f8b24b5a9edbefff665a0a80": {
     "model_module": "@jupyter-widgets/controls",
     "model_module_version": "1.5.0",
     "model_name": "HTMLModel",
     "state": {
      "_dom_classes": [],
      "_model_module": "@jupyter-widgets/controls",
      "_model_module_version": "1.5.0",
      "_model_name": "HTMLModel",
      "_view_count": null,
      "_view_module": "@jupyter-widgets/controls",
      "_view_module_version": "1.5.0",
      "_view_name": "HTMLView",
      "description": "",
      "description_tooltip": null,
      "layout": "IPY_MODEL_21ec7570f9d64270ba4ea9e45b19d9f9",
      "placeholder": "​",
      "style": "IPY_MODEL_3330a215890242b1a1472751b611a467",
      "value": "Downloading https://raw.githubusercontent.com/stanfordnlp/stanza-resources/main/resources_1.3.0.json: "
     }
    },
    "3330a215890242b1a1472751b611a467": {
     "model_module": "@jupyter-widgets/controls",
     "model_module_version": "1.5.0",
     "model_name": "DescriptionStyleModel",
     "state": {
      "_model_module": "@jupyter-widgets/controls",
      "_model_module_version": "1.5.0",
      "_model_name": "DescriptionStyleModel",
      "_view_count": null,
      "_view_module": "@jupyter-widgets/base",
      "_view_module_version": "1.2.0",
      "_view_name": "StyleView",
      "description_width": ""
     }
    },
    "37d84e9ff81e4556b6efbfe42b886c7b": {
     "model_module": "@jupyter-widgets/base",
     "model_module_version": "1.2.0",
     "model_name": "LayoutModel",
     "state": {
      "_model_module": "@jupyter-widgets/base",
      "_model_module_version": "1.2.0",
      "_model_name": "LayoutModel",
      "_view_count": null,
      "_view_module": "@jupyter-widgets/base",
      "_view_module_version": "1.2.0",
      "_view_name": "LayoutView",
      "align_content": null,
      "align_items": null,
      "align_self": null,
      "border": null,
      "bottom": null,
      "display": null,
      "flex": null,
      "flex_flow": null,
      "grid_area": null,
      "grid_auto_columns": null,
      "grid_auto_flow": null,
      "grid_auto_rows": null,
      "grid_column": null,
      "grid_gap": null,
      "grid_row": null,
      "grid_template_areas": null,
      "grid_template_columns": null,
      "grid_template_rows": null,
      "height": null,
      "justify_content": null,
      "justify_items": null,
      "left": null,
      "margin": null,
      "max_height": null,
      "max_width": null,
      "min_height": null,
      "min_width": null,
      "object_fit": null,
      "object_position": null,
      "order": null,
      "overflow": null,
      "overflow_x": null,
      "overflow_y": null,
      "padding": null,
      "right": null,
      "top": null,
      "visibility": null,
      "width": null
     }
    },
    "3af35028e7034408a8082175936526ab": {
     "model_module": "@jupyter-widgets/controls",
     "model_module_version": "1.5.0",
     "model_name": "HTMLModel",
     "state": {
      "_dom_classes": [],
      "_model_module": "@jupyter-widgets/controls",
      "_model_module_version": "1.5.0",
      "_model_name": "HTMLModel",
      "_view_count": null,
      "_view_module": "@jupyter-widgets/controls",
      "_view_module_version": "1.5.0",
      "_view_name": "HTMLView",
      "description": "",
      "description_tooltip": null,
      "layout": "IPY_MODEL_41f94b19fd2e491c8f5a8909d523b3ae",
      "placeholder": "​",
      "style": "IPY_MODEL_8a2ee364971241499e46756054635d6a",
      "value": "Downloading https://huggingface.co/stanfordnlp/stanza-ru/resolve/v1.3.0/models/default.zip: 100%"
     }
    },
    "3bb984d7b41c406f828c7e5a263dd49e": {
     "model_module": "@jupyter-widgets/base",
     "model_module_version": "1.2.0",
     "model_name": "LayoutModel",
     "state": {
      "_model_module": "@jupyter-widgets/base",
      "_model_module_version": "1.2.0",
      "_model_name": "LayoutModel",
      "_view_count": null,
      "_view_module": "@jupyter-widgets/base",
      "_view_module_version": "1.2.0",
      "_view_name": "LayoutView",
      "align_content": null,
      "align_items": null,
      "align_self": null,
      "border": null,
      "bottom": null,
      "display": null,
      "flex": null,
      "flex_flow": null,
      "grid_area": null,
      "grid_auto_columns": null,
      "grid_auto_flow": null,
      "grid_auto_rows": null,
      "grid_column": null,
      "grid_gap": null,
      "grid_row": null,
      "grid_template_areas": null,
      "grid_template_columns": null,
      "grid_template_rows": null,
      "height": null,
      "justify_content": null,
      "justify_items": null,
      "left": null,
      "margin": null,
      "max_height": null,
      "max_width": null,
      "min_height": null,
      "min_width": null,
      "object_fit": null,
      "object_position": null,
      "order": null,
      "overflow": null,
      "overflow_x": null,
      "overflow_y": null,
      "padding": null,
      "right": null,
      "top": null,
      "visibility": null,
      "width": null
     }
    },
    "41f94b19fd2e491c8f5a8909d523b3ae": {
     "model_module": "@jupyter-widgets/base",
     "model_module_version": "1.2.0",
     "model_name": "LayoutModel",
     "state": {
      "_model_module": "@jupyter-widgets/base",
      "_model_module_version": "1.2.0",
      "_model_name": "LayoutModel",
      "_view_count": null,
      "_view_module": "@jupyter-widgets/base",
      "_view_module_version": "1.2.0",
      "_view_name": "LayoutView",
      "align_content": null,
      "align_items": null,
      "align_self": null,
      "border": null,
      "bottom": null,
      "display": null,
      "flex": null,
      "flex_flow": null,
      "grid_area": null,
      "grid_auto_columns": null,
      "grid_auto_flow": null,
      "grid_auto_rows": null,
      "grid_column": null,
      "grid_gap": null,
      "grid_row": null,
      "grid_template_areas": null,
      "grid_template_columns": null,
      "grid_template_rows": null,
      "height": null,
      "justify_content": null,
      "justify_items": null,
      "left": null,
      "margin": null,
      "max_height": null,
      "max_width": null,
      "min_height": null,
      "min_width": null,
      "object_fit": null,
      "object_position": null,
      "order": null,
      "overflow": null,
      "overflow_x": null,
      "overflow_y": null,
      "padding": null,
      "right": null,
      "top": null,
      "visibility": null,
      "width": null
     }
    },
    "5d1fef17680b486e8dbb8d966d5881d9": {
     "model_module": "@jupyter-widgets/controls",
     "model_module_version": "1.5.0",
     "model_name": "HBoxModel",
     "state": {
      "_dom_classes": [],
      "_model_module": "@jupyter-widgets/controls",
      "_model_module_version": "1.5.0",
      "_model_name": "HBoxModel",
      "_view_count": null,
      "_view_module": "@jupyter-widgets/controls",
      "_view_module_version": "1.5.0",
      "_view_name": "HBoxView",
      "box_style": "",
      "children": [
       "IPY_MODEL_331e6b20f8b24b5a9edbefff665a0a80",
       "IPY_MODEL_16f7c299124245e08370d73886af65c5",
       "IPY_MODEL_bf478e1263254b3eaa4337d901419f23"
      ],
      "layout": "IPY_MODEL_993e1053b564478e95c844b13666f21e"
     }
    },
    "6d18cdc63a7c40a29e6b5e2f5955d3a4": {
     "model_module": "@jupyter-widgets/controls",
     "model_module_version": "1.5.0",
     "model_name": "DescriptionStyleModel",
     "state": {
      "_model_module": "@jupyter-widgets/controls",
      "_model_module_version": "1.5.0",
      "_model_name": "DescriptionStyleModel",
      "_view_count": null,
      "_view_module": "@jupyter-widgets/base",
      "_view_module_version": "1.2.0",
      "_view_name": "StyleView",
      "description_width": ""
     }
    },
    "8a2ee364971241499e46756054635d6a": {
     "model_module": "@jupyter-widgets/controls",
     "model_module_version": "1.5.0",
     "model_name": "DescriptionStyleModel",
     "state": {
      "_model_module": "@jupyter-widgets/controls",
      "_model_module_version": "1.5.0",
      "_model_name": "DescriptionStyleModel",
      "_view_count": null,
      "_view_module": "@jupyter-widgets/base",
      "_view_module_version": "1.2.0",
      "_view_name": "StyleView",
      "description_width": ""
     }
    },
    "8f847fbd924647e9836a4541386e619b": {
     "model_module": "@jupyter-widgets/base",
     "model_module_version": "1.2.0",
     "model_name": "LayoutModel",
     "state": {
      "_model_module": "@jupyter-widgets/base",
      "_model_module_version": "1.2.0",
      "_model_name": "LayoutModel",
      "_view_count": null,
      "_view_module": "@jupyter-widgets/base",
      "_view_module_version": "1.2.0",
      "_view_name": "LayoutView",
      "align_content": null,
      "align_items": null,
      "align_self": null,
      "border": null,
      "bottom": null,
      "display": null,
      "flex": null,
      "flex_flow": null,
      "grid_area": null,
      "grid_auto_columns": null,
      "grid_auto_flow": null,
      "grid_auto_rows": null,
      "grid_column": null,
      "grid_gap": null,
      "grid_row": null,
      "grid_template_areas": null,
      "grid_template_columns": null,
      "grid_template_rows": null,
      "height": null,
      "justify_content": null,
      "justify_items": null,
      "left": null,
      "margin": null,
      "max_height": null,
      "max_width": null,
      "min_height": null,
      "min_width": null,
      "object_fit": null,
      "object_position": null,
      "order": null,
      "overflow": null,
      "overflow_x": null,
      "overflow_y": null,
      "padding": null,
      "right": null,
      "top": null,
      "visibility": null,
      "width": null
     }
    },
    "993e1053b564478e95c844b13666f21e": {
     "model_module": "@jupyter-widgets/base",
     "model_module_version": "1.2.0",
     "model_name": "LayoutModel",
     "state": {
      "_model_module": "@jupyter-widgets/base",
      "_model_module_version": "1.2.0",
      "_model_name": "LayoutModel",
      "_view_count": null,
      "_view_module": "@jupyter-widgets/base",
      "_view_module_version": "1.2.0",
      "_view_name": "LayoutView",
      "align_content": null,
      "align_items": null,
      "align_self": null,
      "border": null,
      "bottom": null,
      "display": null,
      "flex": null,
      "flex_flow": null,
      "grid_area": null,
      "grid_auto_columns": null,
      "grid_auto_flow": null,
      "grid_auto_rows": null,
      "grid_column": null,
      "grid_gap": null,
      "grid_row": null,
      "grid_template_areas": null,
      "grid_template_columns": null,
      "grid_template_rows": null,
      "height": null,
      "justify_content": null,
      "justify_items": null,
      "left": null,
      "margin": null,
      "max_height": null,
      "max_width": null,
      "min_height": null,
      "min_width": null,
      "object_fit": null,
      "object_position": null,
      "order": null,
      "overflow": null,
      "overflow_x": null,
      "overflow_y": null,
      "padding": null,
      "right": null,
      "top": null,
      "visibility": null,
      "width": null
     }
    },
    "a8ffa6b06ee54781a249ca5c65dbf802": {
     "model_module": "@jupyter-widgets/controls",
     "model_module_version": "1.5.0",
     "model_name": "HBoxModel",
     "state": {
      "_dom_classes": [],
      "_model_module": "@jupyter-widgets/controls",
      "_model_module_version": "1.5.0",
      "_model_name": "HBoxModel",
      "_view_count": null,
      "_view_module": "@jupyter-widgets/controls",
      "_view_module_version": "1.5.0",
      "_view_name": "HBoxView",
      "box_style": "",
      "children": [
       "IPY_MODEL_3af35028e7034408a8082175936526ab",
       "IPY_MODEL_b34c956453de4cc685288ed8f147ee1c",
       "IPY_MODEL_2c616d347f884cd88503f11b11b4955e"
      ],
      "layout": "IPY_MODEL_37d84e9ff81e4556b6efbfe42b886c7b"
     }
    },
    "b291b4338ab444ec83d97d5d64eb071c": {
     "model_module": "@jupyter-widgets/controls",
     "model_module_version": "1.5.0",
     "model_name": "ProgressStyleModel",
     "state": {
      "_model_module": "@jupyter-widgets/controls",
      "_model_module_version": "1.5.0",
      "_model_name": "ProgressStyleModel",
      "_view_count": null,
      "_view_module": "@jupyter-widgets/base",
      "_view_module_version": "1.2.0",
      "_view_name": "StyleView",
      "bar_color": null,
      "description_width": ""
     }
    },
    "b34c956453de4cc685288ed8f147ee1c": {
     "model_module": "@jupyter-widgets/controls",
     "model_module_version": "1.5.0",
     "model_name": "FloatProgressModel",
     "state": {
      "_dom_classes": [],
      "_model_module": "@jupyter-widgets/controls",
      "_model_module_version": "1.5.0",
      "_model_name": "FloatProgressModel",
      "_view_count": null,
      "_view_module": "@jupyter-widgets/controls",
      "_view_module_version": "1.5.0",
      "_view_name": "ProgressView",
      "bar_style": "success",
      "description": "",
      "description_tooltip": null,
      "layout": "IPY_MODEL_3bb984d7b41c406f828c7e5a263dd49e",
      "max": 574067219,
      "min": 0,
      "orientation": "horizontal",
      "style": "IPY_MODEL_b291b4338ab444ec83d97d5d64eb071c",
      "value": 574067219
     }
    },
    "bf478e1263254b3eaa4337d901419f23": {
     "model_module": "@jupyter-widgets/controls",
     "model_module_version": "1.5.0",
     "model_name": "HTMLModel",
     "state": {
      "_dom_classes": [],
      "_model_module": "@jupyter-widgets/controls",
      "_model_module_version": "1.5.0",
      "_model_name": "HTMLModel",
      "_view_count": null,
      "_view_module": "@jupyter-widgets/controls",
      "_view_module_version": "1.5.0",
      "_view_name": "HTMLView",
      "description": "",
      "description_tooltip": null,
      "layout": "IPY_MODEL_18e6884f86b2453facd64c0bd5c4de0e",
      "placeholder": "​",
      "style": "IPY_MODEL_f48d35d83baf47efb58e483c35f9dbf4",
      "value": " 142k/? [00:00&lt;00:00, 2.25MB/s]"
     }
    },
    "c7717532c33c43d398cb691d7f8cd1ab": {
     "model_module": "@jupyter-widgets/controls",
     "model_module_version": "1.5.0",
     "model_name": "ProgressStyleModel",
     "state": {
      "_model_module": "@jupyter-widgets/controls",
      "_model_module_version": "1.5.0",
      "_model_name": "ProgressStyleModel",
      "_view_count": null,
      "_view_module": "@jupyter-widgets/base",
      "_view_module_version": "1.2.0",
      "_view_name": "StyleView",
      "bar_color": null,
      "description_width": ""
     }
    },
    "f48d35d83baf47efb58e483c35f9dbf4": {
     "model_module": "@jupyter-widgets/controls",
     "model_module_version": "1.5.0",
     "model_name": "DescriptionStyleModel",
     "state": {
      "_model_module": "@jupyter-widgets/controls",
      "_model_module_version": "1.5.0",
      "_model_name": "DescriptionStyleModel",
      "_view_count": null,
      "_view_module": "@jupyter-widgets/base",
      "_view_module_version": "1.2.0",
      "_view_name": "StyleView",
      "description_width": ""
     }
    }
   }
  }
 },
 "nbformat": 4,
 "nbformat_minor": 5
}
