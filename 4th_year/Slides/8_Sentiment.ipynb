{
 "cells": [
  {
   "cell_type": "markdown",
   "metadata": {
    "slideshow": {
     "slide_type": "slide"
    }
   },
   "source": [
    "# Sentiment analysis: continued\n",
    "\n",
    "## Екатерина Владимировна Еникеева\n",
    "\n",
    "### 2021"
   ]
  },
  {
   "cell_type": "markdown",
   "metadata": {
    "slideshow": {
     "slide_type": "slide"
    }
   },
   "source": [
    "# План занятия\n",
    "\n",
    "- ещё немного про разные датасеты, связанные с тональностью. и про UGC\n",
    "- подходы к оценке тональности на уровне текста/предложения\n",
    "- подходы к fine-grained анализу тональности/ABSA\n",
    "- другие задачи, связанные с UGC"
   ]
  },
  {
   "cell_type": "markdown",
   "metadata": {
    "slideshow": {
     "slide_type": "slide"
    }
   },
   "source": [
    "# Уровни анализа\n",
    "--  из прошлой лекции\n",
    "\n",
    "### Document-level\n",
    "документ = мнение об одном объекте $\\rightarrow$ оценка\n",
    "\n",
    "### Sentence-level\n",
    "документ > предложения $\\rightarrow$ оценка $+/-/0$\n",
    "\n",
    "### Entity and aspect level\n",
    "(feature-based analysis)\n",
    "\n",
    "оценка относительно объекта / аспекта\n",
    "\n",
    "оценка: абсолютная / сравнительная (*Coke tastes better than Pepsi*)"
   ]
  },
  {
   "cell_type": "markdown",
   "metadata": {
    "slideshow": {
     "slide_type": "slide"
    }
   },
   "source": [
    "# Оценка на уровне документа/предложения\n",
    "\n",
    "-- решается как задача классификации / регрессии\n",
    "\n",
    "-- есть объекты X и значения c/y, которые хотим предсказывать"
   ]
  },
  {
   "cell_type": "markdown",
   "metadata": {
    "slideshow": {
     "slide_type": "slide"
    }
   },
   "source": [
    "## Stanford Sentiment Treebank\n",
    "\n",
    "### Мотивация\n",
    "(почему именно treebank?)\n",
    "- data-based: BOW хорошо работает на документах, но на предложениях $accuracy \\leq 80%$\n",
    "- лингвистическая: нельзя игнорировать порядок слов (отрицание и т.п.)\n",
    "\n",
    "**стандартный корпус для оценки методов**"
   ]
  },
  {
   "cell_type": "markdown",
   "metadata": {
    "slideshow": {
     "slide_type": "subslide"
    }
   },
   "source": [
    "# Stanford Sentiment Treebank\n",
    "\n",
    "\n",
    "## Разметка\n",
    "- 10К предложений отзывов с RottenTomatoes\n",
    "- \\+ Stanford Parser\n",
    "- аннотатор размечает синтаксически допустимую фразу (связное под-дерево)\n",
    "  - интуитивно (based on reader's perception)\n",
    "\n",
    "<img width=500 src=\"5_Sentiment/sst_markup.png\"/>\n",
    "\n",
    "Источник: https://nlp.stanford.edu/~socherr/EMNLP2013_RNTN.pdf"
   ]
  },
  {
   "cell_type": "markdown",
   "metadata": {
    "slideshow": {
     "slide_type": "subslide"
    }
   },
   "source": [
    "# Stanford Sentiment Treebank\n",
    "\n",
    "<img width=1000 src=\"5_Sentiment/sst_ngrams.png\"/>\n",
    "\n",
    "Источник: там же"
   ]
  },
  {
   "cell_type": "markdown",
   "metadata": {
    "slideshow": {
     "slide_type": "subslide"
    }
   },
   "source": [
    "# Stanford Sentiment Treebank\n",
    "\n",
    "## Итог\n",
    "\n",
    "- аннотаторы не ставят крайние значения (см. [Likert scale](https://en.wikipedia.org/wiki/Likert_scale))\n",
    "- эталон - шкала 1...5 - *fine-grained  sentiment classification*\n",
    "\n",
    "## Датасеты\n",
    "* SST-1: разметка по 3 классам\n",
    "* SST-2: то же, но без нейтральных\n",
    "* SST-5: разметка по 5 классам\n"
   ]
  },
  {
   "cell_type": "markdown",
   "metadata": {
    "slideshow": {
     "slide_type": "subslide"
    }
   },
   "source": [
    "# Stanford Sentiment Treebank: пример\n",
    "\n",
    "<img width=800 src=\"5_Sentiment/sst_parse.png\">\n",
    "\n",
    "Источник: https://nlp.stanford.edu/sentiment/treebank.html"
   ]
  },
  {
   "cell_type": "markdown",
   "metadata": {
    "slideshow": {
     "slide_type": "subslide"
    }
   },
   "source": [
    "# SST + Python\n",
    "\n",
    "Библиотека **pytreebank**"
   ]
  },
  {
   "cell_type": "markdown",
   "metadata": {
    "slideshow": {
     "slide_type": "slide"
    }
   },
   "source": [
    "# Deeply Moving: Deep Learning for Sentiment Analysis\n",
    "\n",
    "-- статья 2013 года, в которой описывается SST и метод SA на нём\n",
    "\n",
    "-- linguistically-motivated model:\n",
    "- RNN + phrase compositionality matrix = Recursive Neural Tensor Network\n",
    "  - phrase compositionality matrix: раньше учили для каждого токена вектор и матрицу (контекстное представвление)\n",
    "  - предлагают учить одну compositionality matrix для всех токенов\n"
   ]
  },
  {
   "cell_type": "markdown",
   "metadata": {
    "slideshow": {
     "slide_type": "subslide"
    }
   },
   "source": [
    "<img width=400 src=\"5_Sentiment/rntn.png\"/>\n",
    "\n",
    "Источник: https://nlp.stanford.edu/~socherr/EMNLP2013_RNTN.pdf"
   ]
  },
  {
   "cell_type": "markdown",
   "metadata": {
    "slideshow": {
     "slide_type": "slide"
    }
   },
   "source": [
    "# IMDB dataset\n",
    "\n",
    "Описан в [статье](https://www.aclweb.org/anthology/P11-1015.pdf)\n",
    "\n",
    "- 50K отзывов\n",
    "- 2 класса, полярные тексты:\n",
    "  - $\\leq4$ - отрицательные\n",
    "  - $\\geq7$ - положительные\n",
    "- не больше 30 отзывов на 1 фильм\n",
    "- задача: обучить тональные эмбеддинги"
   ]
  },
  {
   "cell_type": "markdown",
   "metadata": {
    "slideshow": {
     "slide_type": "slide"
    }
   },
   "source": [
    "# IMDB: Document Embeddings\n",
    "\n",
    "- учим вектора n-грамм и документов\n",
    "- вектора n-грамм, составляющих документ, должны быть похожи на вектор документа (cosine similarity)\n",
    "- accuracy = 97.42%\n",
    "\n",
    "Источник: https://www.aclweb.org/anthology/P19-2057.pdf"
   ]
  },
  {
   "cell_type": "markdown",
   "metadata": {
    "slideshow": {
     "slide_type": "slide"
    }
   },
   "source": [
    "# Классические ML модели\n",
    "\n",
    "> N классов в зависимости от разметки - SVM, Random Forest, ...\n",
    "- count-based представление X:\n",
    "  - разные взвешивания - tf*idf, ...\n",
    "  - учитывать важные слова: тональные словари\n",
    "  - модификаторы: ^\n",
    "  - нетекстовые элементы: эмодзи, восклицательный/вопросительный знак\n",
    "- embeddings-based:\n",
    "  - текст/предложение/n-грамма - набор токенов - stack/concatenate token embeddings\n",
    "- гибрид: к векторным представлениям добавляем традиционные фичи"
   ]
  },
  {
   "cell_type": "markdown",
   "metadata": {
    "slideshow": {
     "slide_type": "slide"
    }
   },
   "source": [
    "# Нейросетевые модели\n",
    "\n",
    "- поскольку для SA важны отдельные спаны текста, часто предлагают использовать CNN\n",
    "\n",
    "<img width=400 src=\"5_Sentiment/gated_cnn.png\"/>\n",
    "\n",
    "https://arxiv.org/pdf/1805.07043.pdf\n",
    "- а также страшную вещь [RNN-Capsule](https://www.researchgate.net/publication/323257127_Sentiment_Analysis_by_Capsules) / см также [тут](https://aclanthology.org/D19-1654.pdf)\n"
   ]
  },
  {
   "cell_type": "markdown",
   "metadata": {
    "slideshow": {
     "slide_type": "slide"
    }
   },
   "source": [
    "# Контекстуальные модели\n",
    "\n",
    "> contextualized embeddings: ELMo, BERT, ...\n",
    "\n",
    "- можем \"свернуть\" весь контекст в одно представление\n",
    "- обучаемся сначала на большом корпусе на задачу LM - **pre-trained model**\n",
    "- затем дообучаемся на downstream task (Sentiment classification, ...) - **fine-tuning**"
   ]
  },
  {
   "cell_type": "markdown",
   "metadata": {
    "slideshow": {
     "slide_type": "subslide"
    }
   },
   "source": [
    "## CoVe\n",
    "\n",
    "- обучаемся задаче машинного перевода\n",
    "- берём скрытые представления и передаём их в классификатор:\n",
    "\n",
    "<img width=300 src=\"5_Sentiment/cove.png\"/>\n",
    "\n",
    "https://arxiv.org/pdf/1708.00107.pdf"
   ]
  },
  {
   "cell_type": "markdown",
   "metadata": {
    "slideshow": {
     "slide_type": "slide"
    }
   },
   "source": [
    "## ELMO\n",
    "\n",
    "- см. слайды по WSD\n",
    "- заменили CoVe на ELMo, получили +1% accuracy\n",
    "\n",
    "https://arxiv.org/pdf/1802.05365.pdf + [Biattentive Classification Network](https://arxiv.org/pdf/1708.00107.pdf)"
   ]
  },
  {
   "cell_type": "markdown",
   "metadata": {
    "slideshow": {
     "slide_type": "subslide"
    }
   },
   "source": [
    "# BERT\n",
    "\n",
    "- учим LM, но более сложной архитектуры - Transformer, затем простой классификатор:\n",
    "\n",
    "<img width=200 src=\"5_Sentiment/bert_sst.png\"/>\n",
    "\n",
    "[Fine-grained Sentiment Classification using BERT](https://arxiv.org/pdf/1910.03474v1.pdf)"
   ]
  },
  {
   "cell_type": "markdown",
   "metadata": {
    "slideshow": {
     "slide_type": "subslide"
    }
   },
   "source": [
    "## Ещё pre-trained модели\n",
    "\n",
    "- [AlBERT](https://arxiv.org/pdf/1909.11942v6.pdf)\n",
    "- [text-to-text transformers](https://arxiv.org/pdf/1910.10683v3.pdf) (T5)"
   ]
  },
  {
   "cell_type": "markdown",
   "metadata": {
    "slideshow": {
     "slide_type": "slide"
    }
   },
   "source": [
    "# Challenges\n",
    "<br/>\n",
    "<img width=800 src=\"5_Sentiment/sst_5_leaderboard.png\"/>\n",
    "\n",
    "https://paperswithcode.com/sota/sentiment-analysis-on-sst-5-fine-grained"
   ]
  },
  {
   "cell_type": "markdown",
   "metadata": {
    "slideshow": {
     "slide_type": "slide"
    }
   },
   "source": [
    "# Multimodal Sentiment Analysis\n",
    "\n",
    "\n",
    "- Multimodal Corpus of Sentiment Intensity [MOSI](https://arxiv.org/pdf/1606.06259.pdf)\n",
    "- Multimodal Opinion Sentiment and Emotion Intensity [CMU-MOSEI](https://www.aclweb.org/anthology/P18-1208.pdf)\n",
    "\n",
    "------\n",
    "\n",
    "- шкала -3...+3 (как в SST)\n",
    "- видео с YouTube - 2-5 минут - \"opinion vlogs\"\n",
    "- транскрипции с помощью PRAAT\n",
    "\n"
   ]
  },
  {
   "cell_type": "markdown",
   "metadata": {
    "slideshow": {
     "slide_type": "subslide"
    }
   },
   "source": [
    "## Улучшения в CMU-MOSEI:\n",
    "- 250 популярных тем\n",
    "- размечают тональность + эмоции\n",
    "-  subjectivity segmentation\n",
    "\n",
    "<img width=600 src=\"5_Sentiment/mosei.png\"/>"
   ]
  },
  {
   "cell_type": "markdown",
   "metadata": {
    "slideshow": {
     "slide_type": "notes"
    }
   },
   "source": [
    "[Context-Dependent Sentiment Analysis in User-Generated Videos](https://www.aclweb.org/anthology/P17-1081.pdf)\n",
    "\n",
    "[A Transformer-based joint-encoding for Emotion Recognition and\n",
    "Sentiment Analysis](https://arxiv.org/pdf/2006.15955v1.pdf)\n",
    "\n",
    "[GATED MECHANISM FOR ATTENTION BASED MULTIMODAL SENTIMENT ANALYSIS](https://arxiv.org/pdf/2003.01043v1.pdf)"
   ]
  },
  {
   "cell_type": "markdown",
   "metadata": {
    "slideshow": {
     "slide_type": "slide"
    }
   },
   "source": [
    "# Подходы к мультимодальности\n",
    "\n",
    "<img width=300 src=\"5_Sentiment/multimodal.png\"/>\n",
    "\n",
    "Источник: https://www.aclweb.org/anthology/P17-1081.pdf"
   ]
  },
  {
   "cell_type": "markdown",
   "metadata": {
    "slideshow": {
     "slide_type": "slide"
    }
   },
   "source": [
    "# Aspect-based SA\n",
    "\n",
    "Две задачи:\n",
    "\n",
    "(1) выделение аспектов\n",
    "\n",
    "(2) классификация сентимента\n",
    "\n",
    "---\n",
    "\n",
    "**Подходы к (1)**\n",
    "- sequence tagging\n",
    "  - BIO-tagging\n",
    "  - можно учитывать контекст\n",
    "  - HMM, CRF, RNN ...\n",
    "\n",
    "|I|loved|pizza|and|the|waitress|was|very|nice|.|\n",
    "|-|-|-|-|-|-|-|-|-|-|\n",
    "|O|O|B-FOOD|O|O|B-SERVICE|O|O|O|O|\n",
    "\n",
    "- выделение фраз-аспектов по синтаксическим/статистическим признакам\n",
    "  - см. тональные лексиконы"
   ]
  },
  {
   "cell_type": "markdown",
   "metadata": {
    "slideshow": {
     "slide_type": "slide"
    }
   },
   "source": [
    "# SemEval\n",
    "\n",
    "Соревнования: \n",
    "\n",
    "[SemEval'14 Task 4](https://aclanthology.org/S14-2004.pdf), \n",
    "[SemEval'15 Task 12](https://aclanthology.org/S15-2082.pdf), \n",
    "[SemEval'16 Task 5](https://aclanthology.org/S16-1002.pdf)\n",
    "\n",
    "Постановка задачи:\n",
    "1. Sentence-level ABSA\n",
    "  1. Aspect term extraction ('14) / OTE - Opinion target extraction ('15-'16)\n",
    "  2. Aspect term polarity\n",
    "  3. Aspect category detection ('14) / Aspect category ('15/'16)\n",
    "  4. Aspect category polarity / Sentiment polarity ('15/'16)\n",
    "\n",
    "2. Text-level ABSA ('16)\n",
    "\n",
    "Домены:\n",
    "- пользоавтельские отзывы: рестораны, ноутбуки, мобильные телефоны, камеры, отели, музеи\n",
    "- твиты: телекоммуникации"
   ]
  },
  {
   "cell_type": "markdown",
   "metadata": {
    "slideshow": {
     "slide_type": "slide"
    }
   },
   "source": [
    "## Aspect term extraction / OTE\n",
    "\n",
    "- традиционно: CRF на hand-crafted features\n",
    "\n",
    "В рамках SemEval-2016:\n",
    "- начинают использовать эмбеддинги\n",
    "  - эмбеддинги слов и контекста (например, [тут](https://aclanthology.org/S16-1050.pdf) - обученные на Amazon Reviews)\n",
    "  - word clusters (K-средних на эмбеддингах слов [тут](https://aclanthology.org/S16-1045.pdf))\n",
    "- тематические лексиконы - см. раздел 2.2 [тут](https://aclanthology.org/S16-1046.pdf))\n"
   ]
  },
  {
   "cell_type": "markdown",
   "metadata": {
    "slideshow": {
     "slide_type": "slide"
    }
   },
   "source": [
    "# Особенности данных\n",
    "\n",
    "Многие тональные датасеты - user generated content (UGC). Поэтому\n",
    "- тональные оценки не всегда надёжны\n",
    "\n",
    "<img width=400 src=\"5_Sentiment/score_distr.png\"/>\n",
    "\n",
    "Источник: http://www.dialog-21.ru/media/1378/83.pdf"
   ]
  },
  {
   "cell_type": "markdown",
   "metadata": {
    "slideshow": {
     "slide_type": "subslide"
    }
   },
   "source": [
    "# Особенности данных\n",
    "\n",
    "- много опечаток, сленга, транслитерации специальной лексики:\n",
    "\n",
    "<img width=500 src=\"5_Sentiment/market.png\"/>"
   ]
  },
  {
   "cell_type": "markdown",
   "metadata": {
    "slideshow": {
     "slide_type": "slide"
    }
   },
   "source": [
    "# Другие задачи, связанные с текстовым UGC\n",
    "\n",
    "- Фильтрация / модерация\n",
    "  - фейковые отзывы\n",
    "  - нецензурное содержание\n",
    "  - hatespeech ...\n",
    "- Суммаризация\n",
    "  - общее мнение, последовательность событий ...\n",
    "- Локализация (МП)\n",
    "  - для продвижения продуктов/брендов на новых рынках\n",
    "- Рекомендательные системы\n",
    "  - новый контент на основе пользовательских отзывов\n",
    "...\n"
   ]
  },
  {
   "cell_type": "markdown",
   "metadata": {
    "slideshow": {
     "slide_type": "slide"
    }
   },
   "source": [
    "# Financial Phrasebank\n",
    "\n",
    "- 10K статей об экономике / финансах\n",
    "- выделение \"финансовых сущностей\"\n",
    "- матчинг сущностей и лексикона\n",
    "- полярность рассматривается с т.з. инвестора: как отразится событие на состоянии рынков"
   ]
  },
  {
   "cell_type": "markdown",
   "metadata": {
    "slideshow": {
     "slide_type": "subslide"
    }
   },
   "source": [
    "# Financial Phrasebank\n",
    "\n",
    "<img width=500 src=\"5_Sentiment/finphrase.png\"/>"
   ]
  },
  {
   "cell_type": "markdown",
   "metadata": {
    "slideshow": {
     "slide_type": "notes"
    }
   },
   "source": [
    "Статья про корпус [здесь](https://arxiv.org/pdf/1307.5336.pdf)\n",
    "\n",
    "Про обучение модели на Fin.Phrasebank - [FinBERT](https://arxiv.org/pdf/1908.10063.pdf)\n",
    "\n",
    "[Код и модели](https://github.com/ProsusAI/finBERT)\n",
    "\n",
    "Также соревнование SemEval https://alt.qcri.org/semeval2017/task5/"
   ]
  },
  {
   "cell_type": "markdown",
   "metadata": {
    "slideshow": {
     "slide_type": "notes"
    }
   },
   "source": [
    "# Разное\n",
    "[Тональные словари на многих языках](https://github.com/nproellochs/SentimentDictionaries)"
   ]
  }
 ],
 "metadata": {
  "celltoolbar": "Slideshow",
  "kernelspec": {
   "display_name": "Python 3",
   "language": "python",
   "name": "python3"
  },
  "language_info": {
   "codemirror_mode": {
    "name": "ipython",
    "version": 3
   },
   "file_extension": ".py",
   "mimetype": "text/x-python",
   "name": "python",
   "nbconvert_exporter": "python",
   "pygments_lexer": "ipython3",
   "version": "3.9.4"
  }
 },
 "nbformat": 4,
 "nbformat_minor": 4
}
