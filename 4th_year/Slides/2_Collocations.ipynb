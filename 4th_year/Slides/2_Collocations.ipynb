{
 "cells": [
  {
   "cell_type": "markdown",
   "metadata": {
    "slideshow": {
     "slide_type": "slide"
    }
   },
   "source": [
    "# Автоматическое извлечение коллокаций\n",
    "### Методы выделения устойчивых словосочетаний и различных ассоциативных связей между лексемами\n",
    "\n",
    "## Е.В. Еникеева\n",
    "## 2022"
   ]
  },
  {
   "cell_type": "markdown",
   "metadata": {
    "slideshow": {
     "slide_type": "slide"
    }
   },
   "source": [
    "# Применение\n",
    "\n",
    "- обучение языкам - словари сочетаемости, лексический подход\n",
    "- типология\n",
    "- филологические исследования: контент-анализ и проч.\n",
    "\n",
    "NLP-задачи, где коллокации не то, чем кажутся:\n",
    "- анализ тональности\n",
    "- машинный перевод\n",
    "- диалоговые системы\n",
    "- и везде, где нужны NLG/NLU\n"
   ]
  },
  {
   "cell_type": "markdown",
   "metadata": {
    "slideshow": {
     "slide_type": "slide"
    }
   },
   "source": [
    "# Определение коллокаций\n",
    "\n",
    "* подход, основанный на значении\n",
    "* статистический подход"
   ]
  },
  {
   "cell_type": "markdown",
   "metadata": {
    "slideshow": {
     "slide_type": "slide"
    }
   },
   "source": [
    "# Коллокации с т.з. семантики\n",
    "\n",
    "- некомпозициональность (на разных уровнях)\n",
    "\n",
    "*железный гвоздь*, *железная руда* vs. *железная дорога*, *железная воля*\n"
   ]
  },
  {
   "cell_type": "markdown",
   "metadata": {
    "slideshow": {
     "slide_type": "slide"
    }
   },
   "source": [
    "# Отечественная традиция\n",
    "\n",
    "- В.В. Виноградов:\n",
    "  - фразеологические сращения *бить баклуши, собаку съел*\n",
    "  - фразеологические единства *бабье лето, тянуть лямку*\n",
    "  - фразеологические сочетания *беспробудное пьянство, насупить брови*\n",
    " \n"
   ]
  },
  {
   "cell_type": "markdown",
   "metadata": {
    "slideshow": {
     "slide_type": "subslide"
    }
   },
   "source": [
    "# Отечественная традиция\n",
    "\n",
    "- И.А. Мельчук, Л.Н. Иорданская:\n",
    "  несвободные словосочетания (фраземы)\n",
    "  - прагматемы *best before*\n",
    "  - семантические фраземы: идиомы *дать по шапке* **vs.** полуфраземы (коллокации) *отпустить шутку*\n",
    "  - квазиидиомы *bacon and eggs*\n",
    "\n"
   ]
  },
  {
   "cell_type": "markdown",
   "metadata": {
    "slideshow": {
     "slide_type": "subslide"
    }
   },
   "source": [
    "# Отечественная традиция\n",
    "\n",
    "- А. Баранов, Д. Добровольский:\n",
    "  - идиомы *шишка на ровном места*\n",
    "  - коллокации *зло берёт*\n",
    "  - паремии/пословицы *цыплят по осени считают*\n",
    "  - грамматические фразеологизмы *во что бы то ни стало*\n",
    "  - синтаксические фразеологизмы *X такой X*\n"
   ]
  },
  {
   "cell_type": "markdown",
   "metadata": {
    "slideshow": {
     "slide_type": "subslide"
    }
   },
   "source": [
    "# Отечественная традиция\n",
    "\n",
    "###  В общем: коллокации — реализация ограниченной лексической сочетаемости"
   ]
  },
  {
   "cell_type": "markdown",
   "metadata": {
    "slideshow": {
     "slide_type": "notes"
    }
   },
   "source": [
    "Виноградов\n",
    "http://philology.ru/linguistics2/vinogradov-77d.htm"
   ]
  },
  {
   "cell_type": "markdown",
   "metadata": {
    "slideshow": {
     "slide_type": "notes"
    }
   },
   "source": [
    "Мельчук:\n",
    "Прагматемы – это словосочетания, в которых нарушается первое условие из определения свободного словосочетания, то есть для понятия, выражаемого данным словосочетанием, возможно только одно данное означаемое. Что касается означающих, то они могут быть построены регулярно, но с ограничениями. Например, английское Best before… (употребить до) построено регулярно, но имеет прагматические ограничения в том смысле, что в ситуациях его использования (например, на упаковке с йогуртом) не возможен никакой синонимичный эквивалент.\n"
   ]
  },
  {
   "cell_type": "markdown",
   "metadata": {
    "slideshow": {
     "slide_type": "slide"
    }
   },
   "source": [
    "# Зарубежные аналоги\n",
    "\n",
    "- Британские учёные\n",
    "  - \"Collocations of a given word are statements of the habitual or customary places of that word.\" (Firth 1957)\n",
    "  - \"recurrent combinations of words that co-occur more often than chance and that correspond to arbitrary word usages.\" (Smadja 1993)\n",
    "\n",
    "* Грамматика конструкций (CxG) - Ch. Fillmore, M. Tomasello, A. Goldberg\n",
    "  - \"Any linguistic pattern is recognized as a construction as long as some aspect of its form or function is not strictly predictable from its component parts or from other constructions recognized to exist.\" (Goldberg 2006)\n",
    "  - Лингвистика конструкций (2010) под ред. Е.В. Рахилиной"
   ]
  },
  {
   "cell_type": "markdown",
   "metadata": {
    "slideshow": {
     "slide_type": "notes"
    }
   },
   "source": [
    "Firth J. R. A synopsis of linguistic theory, 1930-1955. // J. R. Firth et al. Studies in Linguistic Analysis. — Special volume of the Philological Society. —Oxford: Blackwell. 1957. P. 1‑32.\n",
    "\n",
    "Jackson H. Words and their Meaning. — London and New York: Longman, 1995\n",
    "\n",
    "Usage-based grammar, etc.\n",
    "\n",
    "Joan Bybee - Bybee, Joan. 2010. Language, usage and cognition. Cambridge: Cambridge University Press.\n",
    "\n",
    "Patrick Hanks - Corpus Pattern Analysis; Pattern Dictionary of English verbs\n",
    "\n",
    "Ray Jackendoff - лексикон в [Parallel Architecture](https://www.oxfordhandbooks.com/view/10.1093/oxfordhb/9780199677078.001.0001/oxfordhb-9780199677078-e-23) \n",
    "\n",
    "Goldberg 2006 Constructions at Work: The Nature of Generalization in Language"
   ]
  },
  {
   "cell_type": "markdown",
   "metadata": {
    "slideshow": {
     "slide_type": "slide"
    }
   },
   "source": [
    "# Статистический подход\n",
    "\n",
    "**слова встречаются в текстах \"чаще, чем случайно\"**\n",
    "- зависимые события?\n",
    "- наблюдаемая частота/вероятность больше ожидаемой"
   ]
  },
  {
   "cell_type": "markdown",
   "metadata": {
    "slideshow": {
     "slide_type": "slide"
    }
   },
   "source": [
    "# Отличия стат. подхода\n",
    "NB! При лингвистическом подходе пары вида:\n",
    "*месяц год*, *рубить дрова* – не коллокации,\n",
    "- но они устойчиво встречаются в одном контексте\n",
    "- вероятность совместной встречаемости значительно выше ожидаемой вероятности совместной встречаемости, если бы они были независимы\n",
    "- их полезно выделять для некоторых задач NLP\n",
    "> для выделения коллокаций и др. типов ассоциативных связей применяют специальные меры ассоциативной связи"
   ]
  },
  {
   "cell_type": "markdown",
   "metadata": {
    "slideshow": {
     "slide_type": "slide"
    }
   },
   "source": [
    "# Таблицы сопряженности\n",
    "\\- как оценить встречаемость/вероятность (см. лекцию 1)\n",
    "\n",
    "<table align=\"center\">\n",
    "    <tr>\n",
    "        <td></td>\n",
    "        <td>$w_1$</td>\n",
    "        <td>not $w_1$</td>\n",
    "        <td>Total (row sum)</td>\n",
    "    </tr>\n",
    "    <tr>\n",
    "        <td>$w_2$</td>\n",
    "        <td>$O_{11}$=a</td>\n",
    "        <td>$O_{12}$=b</td>\n",
    "        <td>${T'}_1$=a+b</td>\n",
    "    </tr>\n",
    "    <tr>\n",
    "        <td>not $w_2$</td>\n",
    "        <td>$O_{12}$=c-a</td>\n",
    "        <td>$O_{22}$=d-b</td>\n",
    "        <td>${T'}_2$=c+d-a-b</td>\n",
    "    </tr>\n",
    "    <tr>\n",
    "        <td>Total (column sum)</td>\n",
    "        <td>$T_1$=c</td>\n",
    "        <td>$T_2$=d</td>\n",
    "        <td>$N$=c+d</td>\n",
    "    </tr>\n",
    "</table>"
   ]
  },
  {
   "cell_type": "markdown",
   "metadata": {
    "slideshow": {
     "slide_type": "slide"
    }
   },
   "source": [
    "# Выделение кандидатов\n",
    "\n",
    "\\- фиксируем \"ключевое\" слово (headword)\n",
    "\n",
    "- window-based (n-граммы)\n",
    "  - морфологические паттерны\n",
    "- syntax-based (синтаксические группы)\n",
    "\n",
    "> что качественнее?\n",
    "> что проще?"
   ]
  },
  {
   "cell_type": "markdown",
   "metadata": {
    "slideshow": {
     "slide_type": "notes"
    }
   },
   "source": [
    "Akinina, Y.S., Kuznetsov, I.O. and Toldova, S.Y., 2013. The impact of syntactic structure on verb-noun collocation extraction. In Компьютерная лингвистика и интеллектуальные технологии: материалы международной конференции «Диалог (Vol. 29, pp. 2-17). "
   ]
  },
  {
   "cell_type": "markdown",
   "metadata": {
    "slideshow": {
     "slide_type": "slide"
    }
   },
   "source": [
    "# Влияние ширины окна\n",
    "\n",
    "\\- разные типы отношений между словами:\n",
    "* +1, -1: \n",
    "\n",
    "фразеологизмы, составные лексические единицы (ср. *бить баклуши*, *НИУ ВШЭ*)\n",
    "* +X (фиксированное расстояние, обычно не больше 3) \n",
    "\n",
    "фразеологизмы типа *bread and butter*\n",
    "* до +5, -5 - устойчивые конструкции:\n",
    "\n",
    "глагол+прямое дополнение (*оказывать ...сопротивление, бросать ... взгляды* и т.п.) или предлог+сущ (ср. *на ... лугах* vs. *в ... полях*) \n",
    "* +предложение, -предложение (вплоть до абзаца):\n",
    "\n",
    "лексемы, относящиеся к одному семантическому полю\n",
    "*Врач – больница - медсестра*\n"
   ]
  },
  {
   "cell_type": "markdown",
   "metadata": {
    "slideshow": {
     "slide_type": "slide"
    }
   },
   "source": [
    "# Частота совместной встречаемости\n",
    "\\- простейший метод\n",
    "\n",
    "> какие мб проблемы? как их решать?"
   ]
  },
  {
   "cell_type": "markdown",
   "metadata": {
    "slideshow": {
     "slide_type": "slide"
    }
   },
   "source": [
    "# Дисперсия позиции коллоката относительно ключевого слова\n",
    "\n",
    "|контекст|позиция|\n",
    "|-|-|\n",
    "|She knocked on his door|3|\n",
    "|a men knocked on the metal front door|5|\n",
    "|they knocked at the door|3|\n",
    "|100 women knocked on Donaldson’s door|5|\n",
    "\n",
    "среднее: $X_{средн}=(3+5+3+5)/4=4$\n",
    "\n",
    "среднеквадратичное отклонение: $s=\\sqrt{\\frac{1}{3}((3-4)^2 + (3-4)^2 + (5-4)^2 + (5-4)^2)}\\approx1.15$"
   ]
  },
  {
   "cell_type": "markdown",
   "metadata": {
    "slideshow": {
     "slide_type": "slide"
    }
   },
   "source": [
    "# Меры ассоциации\n",
    "\\- статистические критерии, проверяющие гипотезу о независимости событий\n",
    "\n",
    "- t-критерий Стъюдента\n",
    "- критерий $\\chi^2$\n",
    "- pointwise mutual information (PMI)\n",
    "- log likelihood\n",
    "- меры Жаккара (Jakkard) и Дайса (Dice)"
   ]
  },
  {
   "cell_type": "markdown",
   "metadata": {
    "slideshow": {
     "slide_type": "slide"
    }
   },
   "source": [
    "# t-score\n",
    "\n",
    "**Гипотеза $H_0$**: $P(w_1,w_2)=P(w_1)*P(w_2)$\n",
    "\n",
    "$$t = \\frac{\\bar{x} - \\mu}{\\sqrt{\\frac{s^2}{n}}}$$\n",
    "\n",
    "где $\\bar{x}$ — наблюдаемое среднее (нормализованная частота биграммы)\n",
    "\n",
    "$\\mu$ — ожидаемое среднее (считаем, что появление каждого слова независимо, то есть произведение вероятностей)\n",
    "\n",
    "$s$ — стандартное отклонение ($s^2$ — дисперсия; \n",
    "выбор слова описывается распределением Бернулли, поэтому $s^2 = p(1-p)\\approx p$)\n",
    "\n",
    "$n$ — размер выборки (размер корпуса)"
   ]
  },
  {
   "cell_type": "markdown",
   "metadata": {
    "slideshow": {
     "slide_type": "notes"
    }
   },
   "source": [
    "https://ru.wikipedia.org/wiki/Распределение_Бернулли\n",
    "как кубик: знаем независимую вероятность каждого слова (\"кубик\" со сторонами=кол-во слов в корпусе, вес каждой стороны - нормализованная частота слова), каждый раз кидаем кубик"
   ]
  },
  {
   "cell_type": "markdown",
   "metadata": {
    "slideshow": {
     "slide_type": "slide"
    }
   },
   "source": [
    "# t-score\n",
    "\n",
    "$$\\bar{x} = \\frac{count(w_1,w_2)}{N}$$\n",
    "\n",
    "$$\\mu=\\frac{count(w_1)}{N} * \\frac{count(w_2)}{N}$$\n",
    "\n",
    "$$s^2=\\frac{count(w_1,w_2)}{N}$$"
   ]
  },
  {
   "cell_type": "markdown",
   "metadata": {
    "slideshow": {
     "slide_type": "slide"
    }
   },
   "source": [
    "# t-score для сравнения сочетаемости\n",
    "\n",
    "$v_1$ и $v_2$ – синонимичные слова, сочетаемость которых мы хотим сравнить\n",
    "\n",
    "$c(v_1,w)$ – абсолютная частота совместной встречаемости синонима $v_1$  и коллоката,\n",
    "\n",
    "$c(v_2,w)$ – абсолютная частота совместной встречаемости синонима $v_2$ и коллоката\n",
    "\n",
    "$N$ – объем корпуса\n",
    "\n",
    "$$t = \\frac{\\bar{x_1}-\\bar{x_2}}{\\sqrt{\\frac{s_1^2}{n_1}+\\frac{s_2^2}{n_2}}}$$"
   ]
  },
  {
   "cell_type": "markdown",
   "metadata": {
    "slideshow": {
     "slide_type": "subslide"
    }
   },
   "source": [
    "# t-score для сравнения сочетаемости\n",
    "\n",
    "|*t*|*C(w)*|*C(strong+w)*|*C(powerful+w)*|Word|\n",
    "|-|-|-|-|-|\n",
    "|3.1622|933|0|10|computers|\n",
    "|2.8284|2337|0|8|computer|\n",
    "|2.4494|289|0|6|symbol|\n",
    "|2.4494|588|0|6|machines|\n",
    "|2.2360|2266|0|5|Germany|\n",
    "|2.2360|3745|0|5|nation|\n",
    "|2.2360|395|0|5|chip|\n",
    "|2.1828|3418|4|13|force|\n",
    "|2.0000|1403|0|4|friends|\n",
    "|7.0710|3685|50|0|support|\n",
    "|6.3257|3616|58|7|enough|\n",
    "|4.6904|986|22|0|safety|\n",
    "|4.5825|3741|21|0|sales|\n",
    "|4.0249|1093|19|1|opposition|\n",
    "|3.9000|802|18|1|showing|\n",
    "|3.9000|1641|18|1|sense|\n",
    "|3.7416|2501|14|0|defense|\n"
   ]
  },
  {
   "cell_type": "markdown",
   "metadata": {
    "slideshow": {
     "slide_type": "slide"
    }
   },
   "source": [
    "# Критерий $\\chi^2$\n",
    "\n",
    "Ожидаемую частоту оценим так:\n",
    "$E_{ij}=\\frac{T_i*{T'}_j}{N}$\n",
    "\n",
    "Тогда для $\\chi^2$ справедливо следующее:\n",
    "\n",
    "$$\\chi^2 = \\sum{\\frac{(O_{ij}-E_{ij})^2}{E_{ij}}} = \\frac{N(O_{11}O_{22}-O_{12}O_{21})}{(O_{11}+O_{12})(O_{11}+O_{21})(O_{12}+O_{22})(O_{21}+O_{22})}$$\n",
    "\n",
    "(см. лекцию 1)"
   ]
  },
  {
   "cell_type": "markdown",
   "metadata": {
    "slideshow": {
     "slide_type": "slide"
    }
   },
   "source": [
    "# Критерий $\\chi^2$\n",
    "\n",
    "Можно также применять для:\n",
    "- поиска переводных эквивалентов (в параллельном корпусе)\n",
    "- сравнения лексики двух корпусов"
   ]
  },
  {
   "cell_type": "markdown",
   "metadata": {
    "slideshow": {
     "slide_type": "slide"
    }
   },
   "source": [
    "# Pointwise mutual information\n",
    "\n",
    "\\- PMI, поточечная взаимная информация\n",
    "\n",
    "$$PMI(w_1,w_2)=log_2{\\frac{P(w_1,w_2)}{P(w_1)P(w_2)}}$$"
   ]
  },
  {
   "cell_type": "markdown",
   "metadata": {
    "slideshow": {
     "slide_type": "slide"
    }
   },
   "source": [
    "# Особенности мер\n",
    "- PMI \"переоценивает\" редкие слова\n",
    "  - можно фильтровать по порогу / применять сглаживание\n",
    "- t-score, log likelihood ratio переоценивают частотные слова\n"
   ]
  },
  {
   "cell_type": "markdown",
   "metadata": {
    "slideshow": {
     "slide_type": "slide"
    }
   },
   "source": [
    "<img src=\"table.png\" alt=\"table\" width=\"500\"/>"
   ]
  },
  {
   "cell_type": "markdown",
   "metadata": {
    "slideshow": {
     "slide_type": "slide"
    }
   },
   "source": [
    "# Меры Жаккара и Дайса\n",
    "\n",
    "\\- *коэффициенты сходства*\n",
    "\n",
    "\n",
    "$$Dice=\\frac{2*c(w_1,w_2)}{c(w_1)+c(w_2)}$$\n",
    "\n",
    "$$Jaccard=\\frac{c(w_1,w_2)}{c(w_1)+c(w_2)-c(w_1,w_2)}$$\n"
   ]
  },
  {
   "cell_type": "markdown",
   "metadata": {
    "slideshow": {
     "slide_type": "slide"
    }
   },
   "source": [
    "# Оценка качества\n",
    "\n",
    "- словари коллокаций/сочетаемости\n",
    "  - можно оценивать точность/полноту\n",
    "- результат - ранжированный список\n",
    "  - можно сравнивать ранжирование - ранговая корреляция\n",
    "  - коэффициенты Кендалла, Спирмена etc."
   ]
  },
  {
   "cell_type": "markdown",
   "metadata": {
    "slideshow": {
     "slide_type": "slide"
    }
   },
   "source": [
    "# Коэффициент Спирмена $\\rho$\n",
    "\n",
    "Пусть мера $x$ ранжирует выборку с рангами $r_i$, а мера $y$ - с рангами $s_i$;\n",
    "\n",
    "И пусть размер выборки $n$.\n",
    "\n",
    "Тогда\n",
    "$$\\rho=1-\\frac{\\sum_{i=0}^n{(r_i-s_i)^2}}{n^3-n}$$\n",
    "\n",
    "NB! Отрицательные значения - обратная корреляция.\n",
    "\n",
    "https://docs.scipy.org/doc/scipy/reference/generated/scipy.stats.spearmanr.html"
   ]
  },
  {
   "cell_type": "markdown",
   "metadata": {
    "slideshow": {
     "slide_type": "slide"
    }
   },
   "source": [
    "# Другие приложения мер ассоциации\n",
    "\n",
    "- специфические типы коллокаций: модель управления, именованные сущности ...\n",
    "- тональные словари\n",
    "- нарративные схемы\n"
   ]
  },
  {
   "cell_type": "markdown",
   "metadata": {
    "slideshow": {
     "slide_type": "slide"
    }
   },
   "source": [
    "# Векторные методы\n",
    "\n",
    "- традиционные ДСМ - разные арифметические операции для моделирования вектора словосочетания\n",
    "  - $score(A,N)=sim(AN, N)\\approx sim(A,N)$\n",
    "- эмбеддинги\n",
    "  - cosine similarity\n",
    "  - context matrix (word2vec, GloVe)\n",
    "  - аналогии\n",
    "  - линейное преобразование"
   ]
  },
  {
   "cell_type": "markdown",
   "metadata": {
    "slideshow": {
     "slide_type": "slide"
    }
   },
   "source": [
    "# Аналогии\n",
    "\n",
    "*king - man + woman = queen* \n",
    "\n",
    "<img src=\"analogy.png\" width=400/>"
   ]
  },
  {
   "cell_type": "markdown",
   "metadata": {
    "slideshow": {
     "slide_type": "notes"
    }
   },
   "source": [
    "https://rusvectores.org/ru/calculator/#"
   ]
  },
  {
   "cell_type": "markdown",
   "metadata": {
    "slideshow": {
     "slide_type": "slide"
    }
   },
   "source": [
    "# Линейное преобразование\n",
    "\n",
    "Линейным преобразованием $T: V\\rightarrow W$ будем считать матрицу $\\Psi$, которая на выборках $M_T$ из $V$ и $C_T$ из $W$ даёт $M_T\\times \\Psi_T=С_T$\n",
    "\n",
    "С помощью SVD* минимизируем значение\n",
    "$$\\sum_{i=0}^N{\\|\\Psi_t*a_{t_i} - c_{t_i}\\|^2}$$\n",
    "\n",
    "Пара $(a_{t_i}, c_{t_i})$ - главное слово + коллокат из обучающего набора\n",
    "\n",
    "\n",
    "*Singular Value Decomposition https://en.wikipedia.org/wiki/Singular_value_decompositionhttps://en.wikipedia.org/wiki/Singular_value_decomposition"
   ]
  },
  {
   "cell_type": "markdown",
   "metadata": {
    "slideshow": {
     "slide_type": "slide"
    }
   },
   "source": [
    "# Где применять\n",
    "\n",
    "Типизированные коллокации:\n",
    "- по синтаксическим отношениям\n",
    "- по семантическим признакам:\n",
    "  - лексические функции (см. Мельчук)\n",
    "  \n",
    "**Magn**(болезнь)=тяжёлая\n",
    "\n",
    "**Oper1**(поддержка)=оказывать"
   ]
  },
  {
   "cell_type": "markdown",
   "metadata": {
    "slideshow": {
     "slide_type": "notes"
    }
   },
   "source": [
    "Rodríguez-Fernández S., Anke L., Carlini R., Wanner L. (2016) Semantics-driven recognition of collocations using word embeddings, Proceedings of the 2016 Annual Meeting of the Association for Computational Linguistics (ACL), Berlin, Germany.\n",
    "\n",
    "Russian Collocation Extraction Based on Word Embeddings http://www.dialog-21.ru/media/3908/enikeevaevmitrofanovaoa.pdf"
   ]
  },
  {
   "cell_type": "markdown",
   "metadata": {
    "slideshow": {
     "slide_type": "slide"
    }
   },
   "source": [
    "# Перейдем к практике"
   ]
  },
  {
   "cell_type": "markdown",
   "metadata": {
    "slideshow": {
     "slide_type": "notes"
    }
   },
   "source": [
    "[Список мер ассоциации](http://collocations.de/AM/index.html)\n",
    "\n",
    "[Тьюториал NLTK](https://www.nltk.org/howto/collocations.html)"
   ]
  },
  {
   "cell_type": "code",
   "execution_count": 2,
   "metadata": {
    "slideshow": {
     "slide_type": "subslide"
    }
   },
   "outputs": [],
   "source": [
    "import nltk\n",
    "from nltk.collocations import *\n",
    "import pandas as pd"
   ]
  },
  {
   "cell_type": "code",
   "execution_count": 3,
   "metadata": {
    "slideshow": {
     "slide_type": "subslide"
    }
   },
   "outputs": [],
   "source": [
    "data = pd.read_json(\"ng_1.jsonlines\", lines=True)\n"
   ]
  },
  {
   "cell_type": "code",
   "execution_count": 4,
   "metadata": {
    "slideshow": {
     "slide_type": "subslide"
    }
   },
   "outputs": [
    {
     "data": {
      "text/html": [
       "<div>\n",
       "<style scoped>\n",
       "    .dataframe tbody tr th:only-of-type {\n",
       "        vertical-align: middle;\n",
       "    }\n",
       "\n",
       "    .dataframe tbody tr th {\n",
       "        vertical-align: top;\n",
       "    }\n",
       "\n",
       "    .dataframe thead th {\n",
       "        text-align: right;\n",
       "    }\n",
       "</style>\n",
       "<table border=\"1\" class=\"dataframe\">\n",
       "  <thead>\n",
       "    <tr style=\"text-align: right;\">\n",
       "      <th></th>\n",
       "      <th>keywords</th>\n",
       "      <th>title</th>\n",
       "      <th>url</th>\n",
       "      <th>content</th>\n",
       "      <th>summary</th>\n",
       "    </tr>\n",
       "  </thead>\n",
       "  <tbody>\n",
       "    <tr>\n",
       "      <th>0</th>\n",
       "      <td>[школа, образовательные стандарты, литература,...</td>\n",
       "      <td>Ольга Васильева обещала \"НГ\" не перегружать шк...</td>\n",
       "      <td>https://amp.ng.ru/?p=http://www.ng.ru/educatio...</td>\n",
       "      <td>В среду состоялось отложенное заседание Совета...</td>\n",
       "      <td>Глава Минобрнауки считает, что в нездоровом аж...</td>\n",
       "    </tr>\n",
       "    <tr>\n",
       "      <th>1</th>\n",
       "      <td>[красота, законы]</td>\n",
       "      <td>У красоты собственные закон и воля</td>\n",
       "      <td>https://amp.ng.ru/?p=http://www.ng.ru/style/20...</td>\n",
       "      <td>Хорошо, когда красота в глазах смотрящего живе...</td>\n",
       "      <td>О живительной пользе укорота при выборе между ...</td>\n",
       "    </tr>\n",
       "    <tr>\n",
       "      <th>2</th>\n",
       "      <td>[юзефович, гражданская война, пепеляев, якутия]</td>\n",
       "      <td>Апокалиптический бунт</td>\n",
       "      <td>https://amp.ng.ru/?p=http://www.ng.ru/zavisima...</td>\n",
       "      <td>Когда-то Леонид Юзефович написал книгу о монго...</td>\n",
       "      <td>Крепость из тел и призрак независимой Якутии</td>\n",
       "    </tr>\n",
       "    <tr>\n",
       "      <th>3</th>\n",
       "      <td>[формула1, автоспорт, гонки, испания, квят]</td>\n",
       "      <td>F1. Предсказать результаты Гран-При Испании бы...</td>\n",
       "      <td>http://www.ng.ru/autosport/2015-05-10/100_f1sp...</td>\n",
       "      <td>Гран-При Испании открыло евротур «Формулы-1». ...</td>\n",
       "      <td>Явный недостаток зрителей на трибунах уже, пох...</td>\n",
       "    </tr>\n",
       "    <tr>\n",
       "      <th>4</th>\n",
       "      <td>[есенин, православие, святая русь, поэзия, год...</td>\n",
       "      <td>Возвращение в небесное отечество</td>\n",
       "      <td>http://www.ng.ru/facts/2015-12-16/6_esenin.html</td>\n",
       "      <td>Десять лет назад была популярна версия убийств...</td>\n",
       "      <td>Богоискательство Сергея Есенина, возможно, при...</td>\n",
       "    </tr>\n",
       "    <tr>\n",
       "      <th>...</th>\n",
       "      <td>...</td>\n",
       "      <td>...</td>\n",
       "      <td>...</td>\n",
       "      <td>...</td>\n",
       "      <td>...</td>\n",
       "    </tr>\n",
       "    <tr>\n",
       "      <th>983</th>\n",
       "      <td>[украина, деньги, контрибуция, рада, прибалтика]</td>\n",
       "      <td>Верховная рада считает денежки, которые намере...</td>\n",
       "      <td>http://www.ng.ru/columnist/2018-03-20/100_ukra...</td>\n",
       "      <td>Парламент Украины рекомендует властям страны п...</td>\n",
       "      <td>Киев, как и страны Балтии, решил взыскать с Мо...</td>\n",
       "    </tr>\n",
       "    <tr>\n",
       "      <th>984</th>\n",
       "      <td>[книги, инквизиция, аутодафе, савонарола, дека...</td>\n",
       "      <td>Люди со спичками</td>\n",
       "      <td>http://www.ng.ru/subject/2017-02-09/1_875_glav...</td>\n",
       "      <td>То ли потому, что в феврале предписано классик...</td>\n",
       "      <td>Пушкин, Гоголь, Брэдбери и печка как лучший ре...</td>\n",
       "    </tr>\n",
       "    <tr>\n",
       "      <th>985</th>\n",
       "      <td>[алькаида, терроризм, сша, саудовская аравия, ...</td>\n",
       "      <td>\"Аль-Каида\" взорвала мусульман</td>\n",
       "      <td>http://www.ng.ru/world/2003-11-10/1_al_kaida.html</td>\n",
       "      <td>На фоне возрастающих потерь в Ираке власти Сое...</td>\n",
       "      <td></td>\n",
       "    </tr>\n",
       "    <tr>\n",
       "      <th>986</th>\n",
       "      <td>[болгария, патриарх кирилл, османское иго, пра...</td>\n",
       "      <td>РПЦ пытается отделить православие от Европы</td>\n",
       "      <td>http://www.ng.ru/facts/2018-03-07/9_438_broser...</td>\n",
       "      <td>Были времена, когда православное духовенство в...</td>\n",
       "      <td>Патриарх Кирилл преподал урок истории президен...</td>\n",
       "    </tr>\n",
       "    <tr>\n",
       "      <th>987</th>\n",
       "      <td>[мариус петипа, достоевский, балет, мариинский...</td>\n",
       "      <td>Феерия в Мариинском театре</td>\n",
       "      <td>https://amp.ng.ru/?p=http://www.ng.ru/ng_exlib...</td>\n",
       "      <td>В марте исполняется 200 лет со дня рождения Ма...</td>\n",
       "      <td>Балет, который мы навсегда потеряли</td>\n",
       "    </tr>\n",
       "  </tbody>\n",
       "</table>\n",
       "<p>988 rows × 5 columns</p>\n",
       "</div>"
      ],
      "text/plain": [
       "                                              keywords  \\\n",
       "0    [школа, образовательные стандарты, литература,...   \n",
       "1                                    [красота, законы]   \n",
       "2      [юзефович, гражданская война, пепеляев, якутия]   \n",
       "3          [формула1, автоспорт, гонки, испания, квят]   \n",
       "4    [есенин, православие, святая русь, поэзия, год...   \n",
       "..                                                 ...   \n",
       "983   [украина, деньги, контрибуция, рада, прибалтика]   \n",
       "984  [книги, инквизиция, аутодафе, савонарола, дека...   \n",
       "985  [алькаида, терроризм, сша, саудовская аравия, ...   \n",
       "986  [болгария, патриарх кирилл, османское иго, пра...   \n",
       "987  [мариус петипа, достоевский, балет, мариинский...   \n",
       "\n",
       "                                                 title  \\\n",
       "0    Ольга Васильева обещала \"НГ\" не перегружать шк...   \n",
       "1                   У красоты собственные закон и воля   \n",
       "2                                Апокалиптический бунт   \n",
       "3    F1. Предсказать результаты Гран-При Испании бы...   \n",
       "4                     Возвращение в небесное отечество   \n",
       "..                                                 ...   \n",
       "983  Верховная рада считает денежки, которые намере...   \n",
       "984                                   Люди со спичками   \n",
       "985                     \"Аль-Каида\" взорвала мусульман   \n",
       "986       РПЦ пытается отделить православие от Европы    \n",
       "987                         Феерия в Мариинском театре   \n",
       "\n",
       "                                                   url  \\\n",
       "0    https://amp.ng.ru/?p=http://www.ng.ru/educatio...   \n",
       "1    https://amp.ng.ru/?p=http://www.ng.ru/style/20...   \n",
       "2    https://amp.ng.ru/?p=http://www.ng.ru/zavisima...   \n",
       "3    http://www.ng.ru/autosport/2015-05-10/100_f1sp...   \n",
       "4      http://www.ng.ru/facts/2015-12-16/6_esenin.html   \n",
       "..                                                 ...   \n",
       "983  http://www.ng.ru/columnist/2018-03-20/100_ukra...   \n",
       "984  http://www.ng.ru/subject/2017-02-09/1_875_glav...   \n",
       "985  http://www.ng.ru/world/2003-11-10/1_al_kaida.html   \n",
       "986  http://www.ng.ru/facts/2018-03-07/9_438_broser...   \n",
       "987  https://amp.ng.ru/?p=http://www.ng.ru/ng_exlib...   \n",
       "\n",
       "                                               content  \\\n",
       "0    В среду состоялось отложенное заседание Совета...   \n",
       "1    Хорошо, когда красота в глазах смотрящего живе...   \n",
       "2    Когда-то Леонид Юзефович написал книгу о монго...   \n",
       "3    Гран-При Испании открыло евротур «Формулы-1». ...   \n",
       "4    Десять лет назад была популярна версия убийств...   \n",
       "..                                                 ...   \n",
       "983  Парламент Украины рекомендует властям страны п...   \n",
       "984  То ли потому, что в феврале предписано классик...   \n",
       "985  На фоне возрастающих потерь в Ираке власти Сое...   \n",
       "986  Были времена, когда православное духовенство в...   \n",
       "987  В марте исполняется 200 лет со дня рождения Ма...   \n",
       "\n",
       "                                               summary  \n",
       "0    Глава Минобрнауки считает, что в нездоровом аж...  \n",
       "1    О живительной пользе укорота при выборе между ...  \n",
       "2         Крепость из тел и призрак независимой Якутии  \n",
       "3    Явный недостаток зрителей на трибунах уже, пох...  \n",
       "4    Богоискательство Сергея Есенина, возможно, при...  \n",
       "..                                                 ...  \n",
       "983  Киев, как и страны Балтии, решил взыскать с Мо...  \n",
       "984  Пушкин, Гоголь, Брэдбери и печка как лучший ре...  \n",
       "985                                                     \n",
       "986  Патриарх Кирилл преподал урок истории президен...  \n",
       "987                Балет, который мы навсегда потеряли  \n",
       "\n",
       "[988 rows x 5 columns]"
      ]
     },
     "execution_count": 4,
     "metadata": {},
     "output_type": "execute_result"
    }
   ],
   "source": [
    "data"
   ]
  },
  {
   "cell_type": "code",
   "execution_count": 5,
   "metadata": {
    "slideshow": {
     "slide_type": "subslide"
    }
   },
   "outputs": [
    {
     "data": {
      "text/plain": [
       "4940"
      ]
     },
     "execution_count": 5,
     "metadata": {},
     "output_type": "execute_result"
    }
   ],
   "source": [
    "data.size"
   ]
  },
  {
   "cell_type": "code",
   "execution_count": 6,
   "metadata": {
    "slideshow": {
     "slide_type": "fragment"
    }
   },
   "outputs": [],
   "source": [
    "sample = data.truncate(100)"
   ]
  },
  {
   "cell_type": "code",
   "execution_count": 7,
   "metadata": {
    "slideshow": {
     "slide_type": "slide"
    }
   },
   "outputs": [],
   "source": [
    "from pymorphy2 import MorphAnalyzer\n",
    "m = MorphAnalyzer()"
   ]
  },
  {
   "cell_type": "code",
   "execution_count": 8,
   "metadata": {
    "slideshow": {
     "slide_type": "fragment"
    }
   },
   "outputs": [],
   "source": [
    "from nltk.tokenize import RegexpTokenizer\n",
    "tokenizer = RegexpTokenizer(r'\\w+')"
   ]
  },
  {
   "cell_type": "code",
   "execution_count": 9,
   "metadata": {
    "slideshow": {
     "slide_type": "fragment"
    }
   },
   "outputs": [],
   "source": [
    "def normalize(text):\n",
    "    # Take input text and return list of lemmas\n",
    "    lemmas = []\n",
    "    for t in tokenizer.tokenize(text):\n",
    "        lemmas.append(m.parse(t)[0].normal_form)\n",
    "    return lemmas"
   ]
  },
  {
   "cell_type": "code",
   "execution_count": 10,
   "metadata": {
    "slideshow": {
     "slide_type": "slide"
    }
   },
   "outputs": [],
   "source": [
    "tok_texts = sample['content'].apply(tokenizer.tokenize).to_list()"
   ]
  },
  {
   "cell_type": "code",
   "execution_count": 11,
   "metadata": {
    "slideshow": {
     "slide_type": "fragment"
    }
   },
   "outputs": [],
   "source": [
    "texts = sample['content'].apply(normalize).tolist()"
   ]
  },
  {
   "cell_type": "markdown",
   "metadata": {
    "slideshow": {
     "slide_type": "slide"
    }
   },
   "source": [
    "## Коллокации в NLTK"
   ]
  },
  {
   "cell_type": "code",
   "execution_count": 12,
   "metadata": {
    "slideshow": {
     "slide_type": "fragment"
    }
   },
   "outputs": [
    {
     "name": "stdout",
     "output_type": "stream",
     "text": [
      "Help on class BigramCollocationFinder in module nltk.collocations:\n",
      "\n",
      "class BigramCollocationFinder(AbstractCollocationFinder)\n",
      " |  BigramCollocationFinder(word_fd, bigram_fd, window_size=2)\n",
      " |  \n",
      " |  A tool for the finding and ranking of bigram collocations or other\n",
      " |  association measures. It is often useful to use from_words() rather than\n",
      " |  constructing an instance directly.\n",
      " |  \n",
      " |  Method resolution order:\n",
      " |      BigramCollocationFinder\n",
      " |      AbstractCollocationFinder\n",
      " |      builtins.object\n",
      " |  \n",
      " |  Methods defined here:\n",
      " |  \n",
      " |  __init__(self, word_fd, bigram_fd, window_size=2)\n",
      " |      Construct a BigramCollocationFinder, given FreqDists for\n",
      " |      appearances of words and (possibly non-contiguous) bigrams.\n",
      " |  \n",
      " |  score_ngram(self, score_fn, w1, w2)\n",
      " |      Returns the score for a given bigram using the given scoring\n",
      " |      function.  Following Church and Hanks (1990), counts are scaled by\n",
      " |      a factor of 1/(window_size - 1).\n",
      " |  \n",
      " |  ----------------------------------------------------------------------\n",
      " |  Class methods defined here:\n",
      " |  \n",
      " |  from_words(words, window_size=2) from builtins.type\n",
      " |      Construct a BigramCollocationFinder for all bigrams in the given\n",
      " |      sequence.  When window_size > 2, count non-contiguous bigrams, in the\n",
      " |      style of Church and Hanks's (1990) association ratio.\n",
      " |  \n",
      " |  ----------------------------------------------------------------------\n",
      " |  Data and other attributes defined here:\n",
      " |  \n",
      " |  default_ws = 2\n",
      " |  \n",
      " |  ----------------------------------------------------------------------\n",
      " |  Methods inherited from AbstractCollocationFinder:\n",
      " |  \n",
      " |  above_score(self, score_fn, min_score)\n",
      " |      Returns a sequence of ngrams, ordered by decreasing score, whose\n",
      " |      scores each exceed the given minimum score.\n",
      " |  \n",
      " |  apply_freq_filter(self, min_freq)\n",
      " |      Removes candidate ngrams which have frequency less than min_freq.\n",
      " |  \n",
      " |  apply_ngram_filter(self, fn)\n",
      " |      Removes candidate ngrams (w1, w2, ...) where fn(w1, w2, ...)\n",
      " |      evaluates to True.\n",
      " |  \n",
      " |  apply_word_filter(self, fn)\n",
      " |      Removes candidate ngrams (w1, w2, ...) where any of (fn(w1), fn(w2),\n",
      " |      ...) evaluates to True.\n",
      " |  \n",
      " |  nbest(self, score_fn, n)\n",
      " |      Returns the top n ngrams when scored by the given function.\n",
      " |  \n",
      " |  score_ngrams(self, score_fn)\n",
      " |      Returns a sequence of (ngram, score) pairs ordered from highest to\n",
      " |      lowest score, as determined by the scoring function provided.\n",
      " |  \n",
      " |  ----------------------------------------------------------------------\n",
      " |  Class methods inherited from AbstractCollocationFinder:\n",
      " |  \n",
      " |  from_documents(documents) from builtins.type\n",
      " |      Constructs a collocation finder given a collection of documents,\n",
      " |      each of which is a list (or iterable) of tokens.\n",
      " |  \n",
      " |  ----------------------------------------------------------------------\n",
      " |  Data descriptors inherited from AbstractCollocationFinder:\n",
      " |  \n",
      " |  __dict__\n",
      " |      dictionary for instance variables (if defined)\n",
      " |  \n",
      " |  __weakref__\n",
      " |      list of weak references to the object (if defined)\n",
      "\n"
     ]
    }
   ],
   "source": [
    "help(BigramCollocationFinder)"
   ]
  },
  {
   "cell_type": "code",
   "execution_count": null,
   "metadata": {
    "slideshow": {
     "slide_type": "slide"
    }
   },
   "outputs": [],
   "source": [
    "# Коллекция метрик\n",
    "bigram_measures = nltk.collocations.BigramAssocMeasures()\n",
    "# Экстрактор коллокаций\n",
    "finder2 = BigramCollocationFinder.from_documents(texts)"
   ]
  },
  {
   "cell_type": "code",
   "execution_count": null,
   "metadata": {
    "slideshow": {
     "slide_type": "subslide"
    }
   },
   "outputs": [],
   "source": [
    "nonorm_finder = BigramCollocationFinder.from_documents(tok_texts)"
   ]
  },
  {
   "cell_type": "code",
   "execution_count": null,
   "metadata": {
    "slideshow": {
     "slide_type": "subslide"
    }
   },
   "outputs": [],
   "source": [
    "help(bigram_measures)"
   ]
  },
  {
   "cell_type": "code",
   "execution_count": null,
   "metadata": {
    "slideshow": {
     "slide_type": "subslide"
    }
   },
   "outputs": [],
   "source": [
    "finder2.score_ngrams(bigram_measures.likelihood_ratio)"
   ]
  },
  {
   "cell_type": "code",
   "execution_count": null,
   "metadata": {
    "slideshow": {
     "slide_type": "subslide"
    }
   },
   "outputs": [],
   "source": [
    "nonorm_finder.score_ngrams(bigram_measures.likelihood_ratio)"
   ]
  },
  {
   "cell_type": "code",
   "execution_count": null,
   "metadata": {
    "slideshow": {
     "slide_type": "subslide"
    }
   },
   "outputs": [],
   "source": [
    "finder2.score_ngrams(bigram_measures.pmi)"
   ]
  },
  {
   "cell_type": "code",
   "execution_count": null,
   "metadata": {
    "slideshow": {
     "slide_type": "subslide"
    }
   },
   "outputs": [],
   "source": [
    "finder2.score_ngrams(bigram_measures.dice)"
   ]
  },
  {
   "cell_type": "code",
   "execution_count": null,
   "metadata": {
    "slideshow": {
     "slide_type": "slide"
    }
   },
   "outputs": [],
   "source": [
    "# Применить фильтр по частоте\n",
    "finder2.apply_freq_filter(10)"
   ]
  },
  {
   "cell_type": "code",
   "execution_count": null,
   "metadata": {
    "slideshow": {
     "slide_type": "subslide"
    }
   },
   "outputs": [],
   "source": [
    "finder2.score_ngrams(bigram_measures.pmi)"
   ]
  },
  {
   "cell_type": "markdown",
   "metadata": {
    "slideshow": {
     "slide_type": "slide"
    }
   },
   "source": [
    "## Для каких задач могут быть полезны такие коллокации?.."
   ]
  },
  {
   "cell_type": "markdown",
   "metadata": {
    "slideshow": {
     "slide_type": "slide"
    }
   },
   "source": [
    "## Как оценить качество ранжирования"
   ]
  },
  {
   "cell_type": "code",
   "execution_count": null,
   "metadata": {
    "slideshow": {
     "slide_type": "fragment"
    }
   },
   "outputs": [],
   "source": [
    "# Про корреляцию\n",
    "from nltk.metrics.spearman import *\n"
   ]
  },
  {
   "cell_type": "markdown",
   "metadata": {
    "slideshow": {
     "slide_type": "fragment"
    }
   },
   "source": [
    "В этом модуле есть функция `ranks_from_scores`, которая приводит список энграмм со скорами к списку энграмм с рангами.\n",
    "\n",
    "Затем два ранжированных списка можно сравнить функцией `spearman_correlation`"
   ]
  },
  {
   "cell_type": "code",
   "execution_count": null,
   "metadata": {
    "slideshow": {
     "slide_type": "slide"
    }
   },
   "outputs": [],
   "source": [
    "scores_ll = finder2.score_ngrams(bigram_measures.likelihood_ratio)\n",
    "scores_pmi = finder2.score_ngrams(bigram_measures.pmi)\n",
    "list(ranks_from_scores(scores_pmi))"
   ]
  },
  {
   "cell_type": "code",
   "execution_count": null,
   "metadata": {
    "slideshow": {
     "slide_type": "slide"
    }
   },
   "outputs": [],
   "source": [
    "scores_ll = finder2.score_ngrams(bigram_measures.likelihood_ratio)\n",
    "scores_pmi = finder2.score_ngrams(bigram_measures.pmi)\n",
    "list(ranks_from_scores(scores_pmi))"
   ]
  },
  {
   "cell_type": "code",
   "execution_count": null,
   "metadata": {
    "slideshow": {
     "slide_type": "slide"
    }
   },
   "outputs": [],
   "source": [
    "scores_ll = finder2.score_ngrams(bigram_measures.likelihood_ratio)\n",
    "scores_pmi = finder2.score_ngrams(bigram_measures.pmi)\n",
    "list(ranks_from_scores(scores_pmi))"
   ]
  },
  {
   "cell_type": "code",
   "execution_count": null,
   "metadata": {
    "slideshow": {
     "slide_type": "slide"
    }
   },
   "outputs": [],
   "source": [
    "spearman_correlation(\n",
    "    ranks_from_scores(scores_ll),\n",
    "    ranks_from_scores(scores_pmi)\n",
    ")"
   ]
  }
 ],
 "metadata": {
  "celltoolbar": "Slideshow",
  "kernelspec": {
   "display_name": "Python 3",
   "language": "python",
   "name": "python3"
  },
  "language_info": {
   "codemirror_mode": {
    "name": "ipython",
    "version": 3
   },
   "file_extension": ".py",
   "mimetype": "text/x-python",
   "name": "python",
   "nbconvert_exporter": "python",
   "pygments_lexer": "ipython3",
   "version": "3.9.4"
  },
  "pycharm": {
   "stem_cell": {
    "cell_type": "raw",
    "metadata": {
     "collapsed": false
    },
    "source": []
   }
  }
 },
 "nbformat": 4,
 "nbformat_minor": 2
}
