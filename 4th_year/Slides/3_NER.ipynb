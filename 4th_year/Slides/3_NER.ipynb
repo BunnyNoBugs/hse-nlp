{
 "cells": [
  {
   "cell_type": "markdown",
   "metadata": {
    "slideshow": {
     "slide_type": "slide"
    }
   },
   "source": [
    "# Named entity recognition (NER)\n",
    "\n",
    "## Е.В. Еникеева\n",
    "\n",
    "## 2022/11/17"
   ]
  },
  {
   "cell_type": "markdown",
   "metadata": {
    "slideshow": {
     "slide_type": "notes"
    }
   },
   "source": [
    "# NER План\n",
    "\n",
    "* Постановка задачи\n",
    "  * проблема - неоднозначность => нужно учитывать контекст\n",
    "* Применение\n",
    "* Датасеты и разметка\n",
    "  * MUC, ACE\n",
    "  * CoNLL\n",
    "  * BIO-разметка\n",
    "* Supervised learning\n",
    "  * два подхода: выделение кандидатов + классификация vs. теггинг последовательности\n",
    "  * выделение кандидатов: синтаксические шаблоны, словари (ключевые слова, газетиры, лексические шаблоны)\n",
    "  * как можно расширять такие словари\n",
    "  * bootstrapping\n",
    "  * CRF\n",
    "* Оценка качества\n",
    "\n",
    "\n",
    "https://nlp.rusvectores.org/en/publ/aist_2016_915619d137e77e9d84569f3fa9493cdb476d5e39"
   ]
  },
  {
   "cell_type": "markdown",
   "metadata": {
    "slideshow": {
     "slide_type": "slide"
    }
   },
   "source": [
    "# Извлечение информации из текста (Information extraction)\n",
    "* извлечение/распознавание именованных сущностей (Named enitites extraction/recognition, NER/NERC)\n",
    "* извлечение отношений: часть-целое, персона-статус/должность/фамилия/место работы… (Relationship Extraction & Classification)\n",
    "* извлечение фактов/событий: продажа, арест, стихийные бедствия … - факт + участники факта + локализация + время (Event Detection & Classification)\n",
    "* извлечение речи персон\n",
    "* временной анализ событий (Temporal Analysis)\n",
    "* заполнение шаблонов о событии/факте\n"
   ]
  },
  {
   "cell_type": "markdown",
   "metadata": {
    "slideshow": {
     "slide_type": "slide"
    }
   },
   "source": [
    "# Разметка именованных сущностей\n",
    "\n",
    "* выделение спанов - подстрок / последовательностей токенов\n",
    "* определение границ ИС - оффсеты / индексы начала и конца спана\n",
    "* теггинг\n",
    "* *нормализация\n",
    "* *ontology  mapping\n",
    "\n",
    "![](3_NER_img/Raul_castro_example.png)"
   ]
  },
  {
   "cell_type": "markdown",
   "metadata": {
    "slideshow": {
     "slide_type": "slide"
    }
   },
   "source": [
    "# Типы именованных сущностей\n",
    "Стандартные:\n",
    "- Person *Paris Hilton*\n",
    "- Location *Paris*\n",
    "- Organization *Hilton*\n",
    "\n",
    "Более специфические:\n",
    "- LocOrg (см. FactRuEval-2016) *конференция прошла в ВШЭ*\n",
    "- валюта / сумма + валюта  *$500*\n",
    "- даты *November 3rd*\n",
    "- именованные события *World War II*"
   ]
  },
  {
   "cell_type": "markdown",
   "metadata": {
    "slideshow": {
     "slide_type": "slide"
    }
   },
   "source": [
    "# Проблемы\n",
    "\n",
    "- словарный подход\n",
    "> неоднозначность!\n",
    "\n",
    "- data-driven подход\n",
    "> сложность разметки"
   ]
  },
  {
   "cell_type": "markdown",
   "metadata": {
    "slideshow": {
     "slide_type": "slide"
    }
   },
   "source": [
    "# Использование разметки NE\n",
    "* Информационный поиск\n",
    "* Пополнение онтологий, баз данных / знаний\n",
    "* Knowledge extraction\n",
    "  * маппинг сущностей в онтологию (внешнюю/внутреннюю)\n",
    "* Вопросно-ответные системы\n",
    "* Аналитика контента\n",
    "  * аналитика по упоминаемости персоны\n",
    "  * репутация ВУЗов\n",
    "* Привлечение внимания эксперта к значимым аспектам информации\n",
    "  * например, рабочее место журналиста; подсветка в новостных текстах\n",
    "  * рубрикация и кластеризация текстов\n",
    "\n"
   ]
  },
  {
   "cell_type": "markdown",
   "metadata": {
    "slideshow": {
     "slide_type": "subslide"
    }
   },
   "source": [
    "# Использование разметки NE\n",
    "\n",
    "<img width=600 src=\"3_NER_img/вузы.png\"/>\n",
    "\n",
    "Источник: https://ineo.hse.ru/data/2012/04/20/1250125810/UniversResults_HSE_IRO_seminar_01-11-2011.pdf"
   ]
  },
  {
   "cell_type": "markdown",
   "metadata": {
    "slideshow": {
     "slide_type": "subslide"
    }
   },
   "source": [
    "# Использование разметки NE\n",
    "\n",
    "<img width=500 src=\"3_NER_img/lenta_NE.png\"/>\n",
    "\n",
    "Источник: lenta.ru"
   ]
  },
  {
   "cell_type": "markdown",
   "metadata": {
    "slideshow": {
     "slide_type": "subslide"
    }
   },
   "source": [
    "# Использование разметки NE\n",
    "\n",
    "<img width=800 src=\"3_NER_img/eventos.png\"/>\n",
    "\n",
    "Источник: проект Eventos https://publications.hse.ru/articles/97529325"
   ]
  },
  {
   "cell_type": "markdown",
   "metadata": {
    "slideshow": {
     "slide_type": "slide"
    }
   },
   "source": [
    "# Подготовка данных\n",
    "\n",
    "* специализированные corpus-editors\n",
    "* необходима связь с препроцессингом:\n",
    "  * какие токены входят в сущность\n",
    "  * границы сущности в исходном тексте\n",
    "  \n",
    "![](3_NER_img/Raul_castro_example.png)\n",
    "Источник: http://opencorpora.org/wiki/Nermanual/2/model"
   ]
  },
  {
   "cell_type": "markdown",
   "metadata": {
    "slideshow": {
     "slide_type": "slide"
    }
   },
   "source": [
    "# NER standards\n",
    "\n",
    "* Message understanding conference (MUC), Automatic content extraction (ACE) ...\n",
    "* SemEval workshops\n",
    "* Conference on Computational Natural Language Learning (CoNLL)"
   ]
  },
  {
   "cell_type": "markdown",
   "metadata": {
    "slideshow": {
     "slide_type": "slide"
    }
   },
   "source": [
    "# Разметка BIOES\n",
    "\n",
    "(иногда - *BIO-tagging*)\n",
    "\n",
    "**B** - beginning - 1 токен сущности\n",
    "\n",
    "**I** - inside - не 1/последний токен сущности\n",
    "\n",
    "**O** - out - не сущность\n",
    "\n",
    "**E** - ending - последний токен сущности\n",
    "\n",
    "**S** - single - сущность из одного токена\n",
    "\n",
    "|Рауль|Модесто|Кастро|Рус|родился|в|городке|Биран|в|1931|году|.|\n",
    "|:-:|:-:|:-:|:-:|:-:|:-:|:-:|:-:|:-:|:-:|:-:|:-:|\n",
    "|B-PER|I-PER|I-PER|E-PER|OUT|OUT|OUT|S-LOC|OUT|OUT|B-DATE|E-DATE|OUT|"
   ]
  },
  {
   "cell_type": "markdown",
   "metadata": {
    "slideshow": {
     "slide_type": "subslide"
    }
   },
   "source": [
    "# Недостатки разметки BIOES\n",
    "\n",
    "> один токен - один тег\n",
    "\n",
    "> не учитываем вложенность\n",
    "\n",
    "> маппинг в исходный текст через токенизацию"
   ]
  },
  {
   "cell_type": "markdown",
   "metadata": {
    "slideshow": {
     "slide_type": "slide"
    }
   },
   "source": [
    "# BIO + CoNLL\n",
    "\n",
    "Nerus: NER+corpus\n",
    "\n",
    "<img src=\"3_NER_img/nerus.png\"/>\n"
   ]
  },
  {
   "cell_type": "markdown",
   "metadata": {
    "slideshow": {
     "slide_type": "slide"
    }
   },
   "source": [
    "# Датасеты для русского языка\n",
    "\n",
    "* [RuEval-2014](http://www.dialog-21.ru/evaluation/2014/anaphora/)\n",
    "* [FactRuEval-2016](https://github.com/dialogue-evaluation/factRuEval-2016)\n",
    "* [Nerus](https://github.com/natasha/nerus)\n",
    "* некоторые другие - в проекте [Corus](https://github.com/natasha/corus):\n",
    "  * Collection-5\n",
    "  * WikiNer"
   ]
  },
  {
   "cell_type": "markdown",
   "metadata": {
    "slideshow": {
     "slide_type": "subslide"
    }
   },
   "source": [
    "# WikiNER\n",
    "\n",
    "- полуавтоматическая разметка\n",
    "- выделяем заголовки-NE\n",
    "- ищем их в текстах\n",
    "\n",
    "https://www.sciencedirect.com/science/article/pii/S0004370212000276?via%3Dihub"
   ]
  },
  {
   "cell_type": "markdown",
   "metadata": {
    "slideshow": {
     "slide_type": "notes"
    }
   },
   "source": [
    "[Ru-Eval](https://ru-eval.github.io/resources.html)\n",
    "\n",
    "Маппинг в онтологию для русского http://www.dialog-21.ru/media/3433/sysoevaaandrianovia.pdf"
   ]
  },
  {
   "cell_type": "markdown",
   "metadata": {
    "slideshow": {
     "slide_type": "subslide"
    }
   },
   "source": [
    "### Проблемы разметки:\n",
    "\n",
    "* инструкция\n",
    "  * вложенность, дескрипторы, ...\n",
    "* разметчики\n",
    "\n",
    "> *Московский государственный университет  имени М.В. Ломоносова*\n",
    "\n",
    "> *Верховный суд (республики)*_[дескриптор] *Татарстан*\n",
    "\n",
    "> *Сергиево-Посадский (городской округ)*_[дескриптор] *Московской области*\n"
   ]
  },
  {
   "cell_type": "markdown",
   "metadata": {
    "slideshow": {
     "slide_type": "subslide"
    }
   },
   "source": [
    "### Оценка качества\n",
    "\n",
    "**precision / recall**\n",
    "* token-level\n",
    "* span-level\n",
    "  * учитывать правильно выделенные спаны с неправильным тегом?\n",
    "  * учитывать пересечение эталонных спанов и автоматически выделенных?\n",
    "\n",
    "См. https://github.com/davidsbatista/NER-Evaluation"
   ]
  },
  {
   "cell_type": "markdown",
   "metadata": {
    "slideshow": {
     "slide_type": "notes"
    }
   },
   "source": [
    "**Системы оценки**\n",
    "\n",
    "ACE http://www.eng.utah.edu/~cs6961/papers/ACE-2008-description.pdf\n",
    "\n",
    "MUC http://www.aclweb.org/anthology/M93-1007\n",
    "\n",
    "SemEeval 2013 https://aclanthology.org/S13-2056.pdf"
   ]
  },
  {
   "cell_type": "markdown",
   "metadata": {
    "slideshow": {
     "slide_type": "slide"
    }
   },
   "source": [
    "### Принципы оценки SemEval\n",
    "\n",
    "Тип совпадения:\n",
    "* *Correct (COR)* : both are the same;\n",
    "* *Incorrect (INC)* : the output of a system and the golden annotation don’t match;\n",
    "* *Partial (PAR)* : system and the golden annotation are somewhat “similar” but not the same;\n",
    "* *Missing (MIS)* : a golden annotation is not captured by a system;\n",
    "* *Spurius (SPU)* : system produces a response which doesn’t exist in the golden annotation;\n"
   ]
  },
  {
   "cell_type": "markdown",
   "metadata": {
    "slideshow": {
     "slide_type": "subslide"
    }
   },
   "source": [
    "**Тип оценки:**\n",
    "* Strict: точное совпадение границ и тега;\n",
    "* Exact: точное совпадение границ без учета тега;\n",
    "* Partial: частичное пересечение границ без учета тега;\n",
    "* Type: частичное пересечение разметки (границ и тегов)\n",
    "\n",
    "См. https://www.davidsbatista.net/blog/2018/05/09/Named_Entity_Evaluation/"
   ]
  },
  {
   "cell_type": "markdown",
   "metadata": {
    "slideshow": {
     "slide_type": "subslide"
    }
   },
   "source": [
    "\n",
    "<table class=\"tg\">\n",
    "  <tbody><tr>\n",
    "    <th class=\"text-center\" colspan=\"1\"><span style=\"font-weight:bold\">Scenario</span></th>\n",
    "    <th class=\"text-center\" colspan=\"2\"><span style=\"font-weight:bold\">Golden Standard</span></th>\n",
    "    <th class=\"text-center\" colspan=\"2\"><span style=\"font-weight:bold\">System Prediction</span></th>\n",
    "    <th class=\"text-center\" colspan=\"4\"><span style=\"font-weight:bold\">Evaluation Schema</span></th>\n",
    "  </tr>\n",
    "  <tr>\n",
    "    <td></td>\n",
    "    <td><span style=\"font-weight:bold\">Entity Type</span></td>\n",
    "    <td><span style=\"font-weight:bold\">Surface String</span></td>    \n",
    "    <td><span style=\"font-weight:bold\">Entity Type</span></td>\n",
    "    <td><span style=\"font-weight:bold\">Surface String</span></td>    \n",
    "    <td><span class=\"text-center\" style=\"font-weight:bold\">Type</span></td>\n",
    "    <td><span class=\"text-center\" style=\"font-weight:bold\">Partial</span></td>\n",
    "    <td><span class=\"text-center\" style=\"font-weight:bold\">Exact</span></td>\n",
    "    <td><span class=\"text-center\" style=\"font-weight:bold\">Strict</span></td>\n",
    "  </tr>\n",
    "  <tr>\n",
    "    <td>III</td>\n",
    "    <td>brand</td>\n",
    "    <td>TIKOSYN</td>\n",
    "    <td></td>\n",
    "    <td></td>\n",
    "    <td>MIS</td>\n",
    "    <td>MIS</td>\n",
    "    <td>MIS</td>\n",
    "    <td>MIS</td>\n",
    "  </tr>\n",
    "  <tr>\n",
    "    <td>II</td>\n",
    "    <td></td>\n",
    "    <td></td>\n",
    "    <td>brand</td>\n",
    "    <td>healthy</td>\n",
    "    <td>SPU</td>\n",
    "    <td>SPU</td>\n",
    "    <td>SPU</td>\n",
    "    <td>SPU</td>\n",
    "  </tr>\n",
    "  <tr>\n",
    "    <td>V</td>\n",
    "    <td>drug</td>\n",
    "    <td>warfarin</td>\n",
    "    <td>drug</td>\n",
    "    <td>of warfarin</td>\n",
    "    <td>COR</td>\n",
    "    <td>PAR</td>\n",
    "    <td>INC</td>\n",
    "    <td>INC</td>\n",
    "  </tr>\n",
    "  <tr>\n",
    "    <td>IV</td>\n",
    "    <td>drug</td>\n",
    "    <td>propranolol</td>\n",
    "    <td>brand</td>\n",
    "    <td>propranolol</td>\n",
    "    <td>INC</td>\n",
    "    <td>COR</td>\n",
    "    <td>COR</td>\n",
    "    <td>INC</td>\n",
    "  </tr>\n",
    "  <tr>\n",
    "    <td>I</td>\n",
    "    <td>drug</td>\n",
    "    <td>phenytoin</td>\n",
    "    <td>drug</td>\n",
    "    <td>phenytoin</td>\n",
    "    <td>COR</td>\n",
    "    <td>COR</td>\n",
    "    <td>COR</td>\n",
    "    <td>COR</td>\n",
    "  </tr>\n",
    "  <tr>\n",
    "    <td>I</td>  \n",
    "    <td>Drug</td>\n",
    "    <td>theophylline</td>\n",
    "    <td>drug</td>\n",
    "    <td>theophylline</td>\n",
    "    <td>COR</td>\n",
    "    <td>COR</td>\n",
    "    <td>COR</td>\n",
    "    <td>COR</td>\n",
    "  </tr>\n",
    "  <tr>\n",
    "    <td>VI</td>\n",
    "    <td>group</td>\n",
    "    <td>contraceptives</td>\n",
    "    <td>drug</td>\n",
    "    <td>oral contraceptives</td>\n",
    "    <td>INC</td>\n",
    "    <td>PAR</td>\n",
    "    <td>INC</td>\n",
    "    <td>INC</td>\n",
    "  </tr>\n",
    "</tbody></table>"
   ]
  },
  {
   "cell_type": "markdown",
   "metadata": {
    "slideshow": {
     "slide_type": "subslide"
    }
   },
   "source": [
    "### Метрики SemEval\n",
    "\n",
    "Как оценить количество релевантных и предсказанных элементов? (знаменатель в формулах Precision&Recall)\n",
    "\n",
    "$\\text{TRUE} = COR + INC + PAR + MIS = TP + FN$\n",
    "\n",
    "$\\text{PRED} = COR + INC + PAR + SPU = TP + FP$\n"
   ]
  },
  {
   "cell_type": "markdown",
   "metadata": {
    "slideshow": {
     "slide_type": "fragment"
    }
   },
   "source": [
    "**Exact Match (strict + exact):**\n",
    "\n",
    "$\\text{Precision} = \\frac{COR}{PRED} = \\frac{TP}{TP+FP}$\n",
    "\n",
    "$\\text{Recall} = \\frac{COR}{TRUE} = \\frac{TP}{TP+FN}$"
   ]
  },
  {
   "cell_type": "markdown",
   "metadata": {
    "slideshow": {
     "slide_type": "fragment"
    }
   },
   "source": [
    "**Partial Match (partial + type):**\n",
    "\n",
    "$\\text{Precision} = \\frac{COR\\ +\\ 0.5\\ \\times\\ PAR}{PRED} = \\frac{TP}{TP+FP}$\n",
    "\n",
    "$\\text{Recall} = \\frac{COR\\ +\\ 0.5\\ \\times\\ PAR}{TRUE} = \\frac{COR}{PRED} = \\frac{TP}{TP+FP}$"
   ]
  },
  {
   "cell_type": "markdown",
   "metadata": {
    "slideshow": {
     "slide_type": "slide"
    }
   },
   "source": [
    "# Использование rule-based подходов\n",
    "\n",
    "* тексты одной тематики\n",
    "* чётко ограниченная предметная область\n",
    "* легко формализуемые сущности\n",
    "* мало неоднозначности\n",
    "* стандартные тексты (напр., заявления одного типа)"
   ]
  },
  {
   "cell_type": "markdown",
   "metadata": {
    "slideshow": {
     "slide_type": "slide"
    }
   },
   "source": [
    "# Пример: Томита-парсер"
   ]
  },
  {
   "cell_type": "markdown",
   "metadata": {
    "slideshow": {
     "slide_type": "fragment"
    }
   },
   "source": [
    "### Ключевые слова\n",
    "```cpp\n",
    "TAuxDicArticle \"месяц\"\n",
    "{\n",
    "    key = \"январь\" | \"февраль\" | \"март\" | \"апрель\" | \"май\" | \"июнь\" |\n",
    "          \"июль\" | \"август\" |   \"сентябрь\" | \"октябрь\" | \"ноябрь\" | \"декабрь\"\n",
    "}\n",
    "TAuxDicArticle \"день_недели\"\n",
    "{\n",
    "    key = \"понедельник\" | \"вторник\" | \"среда\" | \"четверг\" | \"пятница\" | \"суббота\" | \"воскресенье\"\n",
    "}\n",
    "```"
   ]
  },
  {
   "cell_type": "markdown",
   "metadata": {
    "slideshow": {
     "slide_type": "subslide"
    }
   },
   "source": [
    "### Правила грамматики\n",
    "```cpp\n",
    "DayOfWeek -> Noun<kwtype=\"день_недели\">;\n",
    "Day -> AnyWord<wff=/([1-2]?[0-9])|(3[0-1])/>;\n",
    "Month -> Noun<kwtype=\"месяц\">;\n",
    "YearDescr -> \"год\" | \"г. \"\n",
    "Year -> AnyWord<wff=/[1-2]?[0-9]{1,3}г?\\.?/>;\n",
    "Year -> Year YearDescr;\n",
    "\n",
    "// \"понедельник, 3 сентября 2012г.\"\n",
    "Date -> DayOfWeek interp (Date.DayOfWeek) (Comma)\n",
    "        Day interp (Date.Day) \n",
    "        Month interp (Date.Month)\n",
    "        (Year interp (Date.Year)); \n",
    "```"
   ]
  },
  {
   "cell_type": "markdown",
   "metadata": {
    "slideshow": {
     "slide_type": "notes"
    }
   },
   "source": [
    "См. https://github.com/yandex/tomita-parser/blob/master/docs/ru/README.md"
   ]
  },
  {
   "cell_type": "markdown",
   "metadata": {
    "slideshow": {
     "slide_type": "slide"
    }
   },
   "source": [
    "# Словари ключевых слов\n",
    "\n",
    "словарь / газетир\n",
    "\n",
    "Можно собирать полуавтоматически:\n",
    "- semantic similarity\n",
    "- bootstrapping: находим похожие вхождения по шаблонам\n",
    "| | |\n",
    "|-|-|\n",
    "|“The city like New York” | “The city like X ” |\n",
    "|“My name is John” | “My name is Y” |\n",
    "|“Улица ак. Варги” | “Улица ак. Z” |"
   ]
  },
  {
   "cell_type": "markdown",
   "metadata": {
    "slideshow": {
     "slide_type": "slide"
    }
   },
   "source": [
    "# Ещё пример: natasha/yargy"
   ]
  },
  {
   "cell_type": "code",
   "execution_count": 10,
   "metadata": {
    "slideshow": {
     "slide_type": "fragment"
    }
   },
   "outputs": [],
   "source": [
    "#!pip install yargy"
   ]
  },
  {
   "cell_type": "code",
   "execution_count": 11,
   "metadata": {
    "slideshow": {
     "slide_type": "fragment"
    }
   },
   "outputs": [],
   "source": [
    "from yargy import rule, Parser, or_, and_\n",
    "from yargy.predicates import gte, lte, caseless, normalized, dictionary"
   ]
  },
  {
   "cell_type": "code",
   "execution_count": 12,
   "metadata": {
    "slideshow": {
     "slide_type": "fragment"
    }
   },
   "outputs": [
    {
     "name": "stdout",
     "output_type": "stream",
     "text": [
      "Match(tokens=[Token(value='8', span=[1, 2), type='INT'), MorphToken(value='января', span=[3, 9), type='RU', forms=[Form('январь', Grams(NOUN,gent,inan,masc,sing))]), Token(value='2014', span=[10, 14), type='INT'), MorphToken(value='года', span=[15, 19), type='RU', forms=[Form('год', Grams(NOUN,gent,inan,masc,sing)), Form('год', Grams(Infr,NOUN,accs,inan,masc,plur)), Form('год', Grams(Infr,NOUN,inan,masc,nomn,plur))])], span=[1, 19))\n",
      "Match(tokens=[Token(value='15', span=[21, 23), type='INT'), MorphToken(value='июня', span=[24, 28), type='RU', forms=[Form('июнь', Grams(NOUN,gent,inan,masc,sing))]), Token(value='2001', span=[29, 33), type='INT'), MorphToken(value='г', span=[34, 35), type='RU', forms=[Form('г', Grams(Abbr,Fixd,NOUN,gent,inan,masc,sing)), Form('г', Grams(Abbr,Fixd,NOUN,inan,loct,masc,sing)), Form('г', Grams(Abbr,Fixd,NOUN,inan,masc,nomn,sing)), Form('г', Grams(Abbr,Fixd,NOUN,anim,masc,nomn,sing)), Form('г', Grams(Abbr,Fixd,NOUN,anim,gent,masc,sing)), Form('г', Grams(Abbr,Fixd,NOUN,accs,inan,masc,sing)), Form('г', Grams(Abbr,Fixd,NOUN,gent,inan,masc,plur)), Form('г', Grams(Abbr,Fixd,NOUN,datv,inan,masc,sing)), Form('г', Grams(Abbr,Fixd,NOUN,ablt,inan,masc,sing)), Form('г', Grams(Abbr,Fixd,NOUN,inan,masc,nomn,plur)), Form('г', Grams(Abbr,Fixd,NOUN,datv,inan,masc,plur)), Form('г', Grams(Abbr,Fixd,NOUN,accs,inan,masc,plur)), Form('г', Grams(Abbr,Fixd,NOUN,ablt,inan,masc,plur)), Form('г', Grams(Abbr,Fixd,NOUN,inan,loct,masc,plur)), Form('г', Grams(Abbr,Fixd,NOUN,anim,datv,masc,sing)), Form('г', Grams(Abbr,Fixd,NOUN,accs,anim,masc,sing)), Form('г', Grams(Abbr,Fixd,NOUN,ablt,anim,masc,sing)), Form('г', Grams(Abbr,Fixd,NOUN,anim,loct,masc,sing)), Form('г', Grams(Abbr,Fixd,NOUN,anim,masc,nomn,plur)), Form('г', Grams(Abbr,Fixd,NOUN,anim,gent,masc,plur)), Form('г', Grams(Abbr,Fixd,NOUN,anim,datv,masc,plur)), Form('г', Grams(Abbr,Fixd,NOUN,accs,anim,masc,plur)), Form('г', Grams(Abbr,Fixd,NOUN,ablt,anim,masc,plur)), Form('г', Grams(Abbr,Fixd,NOUN,anim,loct,masc,plur))]), Token(value='.', span=[35, 36), type='PUNCT')], span=[21, 36))\n",
      "Match(tokens=[Token(value='31', span=[38, 40), type='INT'), MorphToken(value='февраля', span=[41, 48), type='RU', forms=[Form('февраль', Grams(NOUN,gent,inan,masc,sing))]), Token(value='2018', span=[49, 53), type='INT')], span=[38, 53))\n"
     ]
    }
   ],
   "source": [
    "DAY = and_(\n",
    "    gte(1),\n",
    "    lte(31)\n",
    ")\n",
    "MONTH = and_(\n",
    "    gte(1),\n",
    "    lte(12)\n",
    ")\n",
    "YEAR = and_(\n",
    "    gte(1),\n",
    "    lte(2018)\n",
    ")\n",
    "\n",
    "MONTHS = {\n",
    "    'январь',\n",
    "    'февраль',\n",
    "    'март',\n",
    "    'апрель',\n",
    "    'мая',\n",
    "    'июнь',\n",
    "    'июль',\n",
    "    'август',\n",
    "    'сентябрь',\n",
    "    'октябрь',\n",
    "    'ноябрь',\n",
    "    'декабрь'\n",
    "}\n",
    "MONTH_NAME = dictionary(MONTHS)\n",
    "YEAR_WORDS = or_(\n",
    "    rule(caseless('г'), '.'),\n",
    "    rule(normalized('год'))\n",
    ")\n",
    "DATE =  rule(\n",
    "    DAY,\n",
    "    MONTH_NAME,\n",
    "    YEAR,\n",
    "    YEAR_WORDS.optional()\n",
    ")\n",
    "\n",
    "parser = Parser(DATE)\n",
    "text = '''\n",
    "8 января 2014 года, 15 июня 2001 г.,\n",
    "31 февраля 2018\n",
    "'''\n",
    "for match in parser.findall(text):\n",
    "    print(match)"
   ]
  },
  {
   "cell_type": "markdown",
   "metadata": {
    "slideshow": {
     "slide_type": "notes"
    }
   },
   "source": [
    "См. ещё примеры https://habr.com/ru/post/349864/\n",
    "\n",
    "И ещё https://github.com/natasha/yargy-examples"
   ]
  },
  {
   "cell_type": "markdown",
   "metadata": {
    "slideshow": {
     "slide_type": "slide"
    }
   },
   "source": [
    "# Classification-based подход\n",
    "\n",
    "* выделяем кандидатов в NE\n",
    "* feature extraction\n",
    "* классифицируем\n",
    "\n",
    "> какие недостатки?"
   ]
  },
  {
   "cell_type": "markdown",
   "metadata": {
    "slideshow": {
     "slide_type": "slide"
    }
   },
   "source": [
    "# Sequence tagging\n",
    "\n",
    "POS-tagging, NER - задачи *разметки последовательности*\n",
    "\n",
    "Classification vs. sequence tagging:\n",
    "- представление объекта - label \n",
    "- объект + контекст (включая предыдущие теги) - label\n",
    "\n",
    "Главные проблемы sequence tagging:\n",
    "* inference: новая последовательность лейблов для входных данных\n",
    "* decoding: оценить данную последовательность лейблов"
   ]
  },
  {
   "cell_type": "markdown",
   "metadata": {
    "slideshow": {
     "slide_type": "slide"
    }
   },
   "source": [
    "# Генеративные модели\n",
    "\n",
    "Моделируем совместное распределение $p(y,x)$\n",
    "\n",
    "Простейший классификатор - наивный Байес\n",
    "$$p(y,x)=p(y)*\\prod_{k=1}^K{p(x_k|y)}$$\n",
    "\n",
    "Простейший теггинг последовательностей - HMM\n",
    "$$p(x,y)=\\prod_{t=1}^T{p(y_t|y_{t-1})p(x_t|y_t)}$$"
   ]
  },
  {
   "cell_type": "markdown",
   "metadata": {
    "slideshow": {
     "slide_type": "slide"
    }
   },
   "source": [
    "# Дискриминативные модели\n",
    "\n",
    "Моделируем условную вероятность $p(y|x)$\n",
    "\n",
    "Простейший классификатор - логистическая регрессия\n",
    "\n",
    "$p(y|x)=\\frac{1}{Z}\\exp\\{\\lambda_y + \\sum_{j=1}^K{\\lambda_{y,j}x_j}\\}$\n",
    ", где $Z=\\sum_y{exp\\{\\lambda_y+\\sum_{j=1}^K{\\lambda_{y,j}x_j}\\}}$\n",
    "\n",
    "Простейший теггинг последовательностей - linear CRF"
   ]
  },
  {
   "cell_type": "markdown",
   "metadata": {
    "slideshow": {
     "slide_type": "slide"
    }
   },
   "source": [
    "## HMM\n",
    "\n",
    "<img src=\"https://d1m75rqqgidzqn.cloudfront.net/wp-data/2020/04/16135135/pos7.png\">"
   ]
  },
  {
   "cell_type": "markdown",
   "metadata": {
    "slideshow": {
     "slide_type": "slide"
    }
   },
   "source": [
    "# Дискриминативные модели\n",
    "\n",
    "Введем feature functions: функции, которые выбирают фичи текущего класса (см.[Дельта Кронекера/identity functions](https://ru.wikipedia.org/wiki/Символ_Кронекера)), они будут иметь вид $f_k(y_t,y_{t-1},x_t)$\n",
    "\n",
    "для перехода между y: $f_{ij}(y, y', x) = 1_{\\{y=i\\}}1_{\\{y'=j\\}}$\n",
    "\n",
    "для перехода x->y: $f_{io}(y, y', x) = 1_{\\{y=i\\}}1_{\\{x=o\\}}$\n",
    "\n",
    "*Логистическую регрессию* тогда можно представить так:\n",
    "$$p(y|x)=\\frac{1}{Z}\\exp \\left\\{ \\sum_{k=1}^K{\\lambda_k * f_k(y,x)} \\right\\}$$"
   ]
  },
  {
   "cell_type": "markdown",
   "metadata": {
    "slideshow": {
     "slide_type": "subslide"
    }
   },
   "source": [
    "# Условные случайные поля\n",
    "\n",
    "*Conditional Random Fields* (CRF)\n",
    "\n",
    "Простейший случай - *Linear-chain conditional random field*\n",
    "\n",
    "$$p(y|x)=\\frac{1}{Z(x)}\\exp{ \\left\\{ \\sum_{k=1}^K{\\lambda_k f_k(y_t,y_{t-1},x)} \\right\\}}$$\n",
    "\n",
    "($Z(x)$ - сумма по всем $y$)\n",
    "\n",
    "Общий случай - General CRFs - более дистантные зависимости\n",
    "\n",
    "Подробнее: https://people.cs.umass.edu/~mccallum/papers/crf-tutorial.pdf"
   ]
  },
  {
   "cell_type": "markdown",
   "metadata": {
    "slideshow": {
     "slide_type": "notes"
    }
   },
   "source": [
    "Впервые CRF предложены в статье [Lafferty et al., 2001](https://repository.upenn.edu/cgi/viewcontent.cgi?article=1162&context=cis_papers)\n",
    "\n",
    "Для задач NLP использованы в [McCallum 2003](https://www.aclweb.org/anthology/W03-0430.pdf)"
   ]
  },
  {
   "cell_type": "markdown",
   "metadata": {
    "slideshow": {
     "slide_type": "slide"
    }
   },
   "source": [
    "# Генеративные vs. дискриминативные модели\n",
    "\n",
    "<img src=\"3_NER_img/gen_vs_discr.png\"/>"
   ]
  },
  {
   "cell_type": "markdown",
   "metadata": {
    "slideshow": {
     "slide_type": "slide"
    }
   },
   "source": [
    "# Подбор параметров\n",
    "\n",
    "*Parameter estimation*\n",
    "\n",
    "Обычно - **maximum likelihood estimation** (conditional log likelihood):\n",
    "\n",
    "$$\\mathscr{l}(\\theta)=\\sum_{i=1}^N {\\log p(\\mathbf{y}^{(i)}|\\mathbf{x}^{(i)})}$$\n",
    "\n",
    "> Gradient descent!"
   ]
  },
  {
   "cell_type": "markdown",
   "metadata": {
    "slideshow": {
     "slide_type": "slide"
    }
   },
   "source": [
    "# Inference\n",
    "\n",
    "*Почему проблема?*\n",
    "Экспоненциальная сложность\n",
    "\n",
    "* HMM - алгоритм Витерби\n",
    "\n",
    "* CRF - схожий  подход, основанный на динамическом программировании"
   ]
  },
  {
   "cell_type": "markdown",
   "metadata": {
    "slideshow": {
     "slide_type": "slide"
    }
   },
   "source": [
    "# Преимущества CRF\n",
    "\n",
    "> учитывает фичи независимо от расстояния\n",
    "\n",
    "> находит более сложные зависимости \n",
    "\n",
    "> (как и все дискриминативные модели) не моделирует $\\text{p}(x)$"
   ]
  },
  {
   "cell_type": "markdown",
   "metadata": {
    "slideshow": {
     "slide_type": "slide"
    }
   },
   "source": [
    "# Применение CRF к задаче NER\n",
    "\n",
    "* фичи: POS-теги, char-level (капитализация, суффиксы/префиксы)\n",
    "* поверх эмбеддингов:\n",
    "   - word embeddings\n",
    "   - char embeddings\n",
    "   - нейронная архитектура<br/>*напр. BiLSTM-CRF NER*"
   ]
  },
  {
   "cell_type": "markdown",
   "metadata": {
    "slideshow": {
     "slide_type": "subslide"
    }
   },
   "source": [
    "## BiLSTM-CRF архитектура\n",
    "\n",
    "<img width=600 src=\"3_NER_img/bilstm-crf.png\"/>\n",
    "\n",
    "Источник: https://arxiv.org/pdf/1808.08450.pdf"
   ]
  },
  {
   "cell_type": "markdown",
   "metadata": {
    "slideshow": {
     "slide_type": "notes"
    }
   },
   "source": [
    "### BiLSTM-CRF\n",
    "https://arxiv.org/pdf/1508.01991.pdf\n",
    "\n",
    "https://arxiv.org/pdf/1808.08450.pdf\n",
    "\n",
    "\n",
    "### Для русского\n",
    "\n",
    "CRF:\n",
    "http://www.dialog-21.ru/media/1220/antonovaaj.pdf\n",
    "\n",
    "CRF+knowledge-based: \n",
    "Mozharova, V. A., & Loukachevitch, N. V. (2016, April). Combining knowledge and CRF-based approach to named entity recognition in Russian. In International Conference on Analysis of Images, Social Networks and Texts (pp. 185-195). Springer, Cham. https://link.springer.com/chapter/10.1007/978-3-319-52920-2_18\n",
    "\n",
    "RuReBus shared task:\n",
    "Ivanin, V., Artemova, E., Batura, T., Ivanov, V., Sarkisyan, V., Tutubalina, E., & Smurov, I. (2020). RuREBus: a Case Study of Joint Named Entity Recognition and Relation Extraction from e-Government Domain. arXiv preprint arXiv:2010.15939. https://arxiv.org/pdf/2010.15939.pdf"
   ]
  },
  {
   "cell_type": "markdown",
   "metadata": {
    "slideshow": {
     "slide_type": "slide"
    }
   },
   "source": [
    "# Пример \n",
    "\n",
    "NB! Хороший пример, как сущность зависит от задачи\n",
    "\n",
    "<img width=800 src=\"3_NER_img/twitter.png\"/>\n",
    "\n",
    "См. https://twitter.com/echen/status/153683967315419136\n",
    "\n",
    "https://blog.echen.me/2012/01/03/introduction-to-conditional-random-fields/"
   ]
  },
  {
   "cell_type": "markdown",
   "metadata": {
    "slideshow": {
     "slide_type": "slide"
    }
   },
   "source": [
    "# Пример: stanza NLP library\n",
    "\n",
    "https://stanfordnlp.github.io/stanza/"
   ]
  },
  {
   "cell_type": "code",
   "execution_count": 13,
   "metadata": {
    "slideshow": {
     "slide_type": "fragment"
    }
   },
   "outputs": [],
   "source": [
    "#!pip install stanza"
   ]
  },
  {
   "cell_type": "code",
   "execution_count": 14,
   "metadata": {
    "slideshow": {
     "slide_type": "fragment"
    }
   },
   "outputs": [],
   "source": [
    "import stanza\n",
    "#stanza.download('ru')"
   ]
  },
  {
   "cell_type": "code",
   "execution_count": 15,
   "metadata": {
    "slideshow": {
     "slide_type": "fragment"
    }
   },
   "outputs": [
    {
     "name": "stderr",
     "output_type": "stream",
     "text": [
      "2021-11-08 14:20:25 INFO: Loading these models for language: ru (Russian):\n",
      "=========================\n",
      "| Processor | Package   |\n",
      "-------------------------\n",
      "| tokenize  | syntagrus |\n",
      "| ner       | wikiner   |\n",
      "=========================\n",
      "\n",
      "2021-11-08 14:20:25 INFO: Use device: cpu\n",
      "2021-11-08 14:20:25 INFO: Loading: tokenize\n",
      "2021-11-08 14:20:25 INFO: Loading: ner\n",
      "2021-11-08 14:20:27 INFO: Done loading processors!\n"
     ]
    },
    {
     "name": "stdout",
     "output_type": "stream",
     "text": [
      "{\n",
      "  \"text\": \"Поварская улица\",\n",
      "  \"type\": \"LOC\",\n",
      "  \"start_char\": 9,\n",
      "  \"end_char\": 24\n",
      "}\n",
      "{\n",
      "  \"text\": \"Новый Арбат\",\n",
      "  \"type\": \"LOC\",\n",
      "  \"start_char\": 35,\n",
      "  \"end_char\": 46\n",
      "}\n",
      "{\n",
      "  \"text\": \"Садовое кольцо\",\n",
      "  \"type\": \"LOC\",\n",
      "  \"start_char\": 49,\n",
      "  \"end_char\": 63\n",
      "}\n",
      "{\n",
      "  \"text\": \"Волоцкая торговая дорога\",\n",
      "  \"type\": \"LOC\",\n",
      "  \"start_char\": 93,\n",
      "  \"end_char\": 117\n",
      "}\n",
      "{\n",
      "  \"text\": \"Великий Новгород\",\n",
      "  \"type\": \"LOC\",\n",
      "  \"start_char\": 121,\n",
      "  \"end_char\": 137\n",
      "}\n",
      "{\n",
      "  \"text\": \"Иван Грозный\",\n",
      "  \"type\": \"PER\",\n",
      "  \"start_char\": 195,\n",
      "  \"end_char\": 207\n",
      "}\n"
     ]
    }
   ],
   "source": [
    "text =  \"\"\"\n",
    "Сегодня Поварская улица соединяет Новый Арбат и Садовое кольцо. \n",
    "А когда-то здесь проходила Волоцкая торговая дорога на Великий Новгород. \n",
    "В 1570 году по ней из новгородского похода возвращался Иван Грозный с опричным войском. \n",
    "После разделения страны на земщину и опричнину эта местность вошла в состав последней — здесь селились приближенные к царю люди.\n",
    "\"\"\"\n",
    "nlp = stanza.Pipeline(lang='ru', processors='tokenize,ner')\n",
    "doc = nlp(text)\n",
    "for sent in doc.sentences:\n",
    "    for ent in sent.ents:  # достаем NE\n",
    "        print(ent)"
   ]
  },
  {
   "cell_type": "markdown",
   "metadata": {
    "slideshow": {
     "slide_type": "slide"
    }
   },
   "source": [
    "# Другие решения\n",
    "\n",
    "* [PullEnti](https://github.com/pullenti/pullenti-wrapper)\n",
    "* [spaCy](https://spacy.io/)\n",
    "* [AllenNLP](https://github.com/allenai/allennlp)\n",
    "* [AdaptNLP](https://github.com/Novetta/adaptnlp)\n",
    "* [natasha/slovnet](https://github.com/natasha/slovnet)\n",
    "* [DeepPavlov](https://deeppavlov.ai/)\n",
    "* [StanfordNLP](https://stanfordnlp.github.io/CoreNLP/) (+ [NLTK]())"
   ]
  },
  {
   "cell_type": "code",
   "execution_count": null,
   "metadata": {},
   "outputs": [],
   "source": []
  }
 ],
 "metadata": {
  "celltoolbar": "Slideshow",
  "kernelspec": {
   "display_name": "Python 3",
   "language": "python",
   "name": "python3"
  },
  "language_info": {
   "codemirror_mode": {
    "name": "ipython",
    "version": 3
   },
   "file_extension": ".py",
   "mimetype": "text/x-python",
   "name": "python",
   "nbconvert_exporter": "python",
   "pygments_lexer": "ipython3",
   "version": "3.9.4"
  }
 },
 "nbformat": 4,
 "nbformat_minor": 4
}
